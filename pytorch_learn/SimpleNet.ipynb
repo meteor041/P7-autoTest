{
 "cells": [
  {
   "cell_type": "code",
   "execution_count": 229,
   "id": "initial_id",
   "metadata": {
    "collapsed": true,
    "ExecuteTime": {
     "end_time": "2024-11-03T04:42:33.994809Z",
     "start_time": "2024-11-03T04:42:33.980241Z"
    }
   },
   "outputs": [],
   "source": [
    "import torch\n",
    "import matplotlib.pyplot as plt\n",
    "from torch import nn\n",
    "import csv\n",
    "import numpy as np\n",
    "import torch.nn.functional as F"
   ]
  },
  {
   "cell_type": "code",
   "outputs": [
    {
     "data": {
      "text/plain": "864"
     },
     "execution_count": 255,
     "metadata": {},
     "output_type": "execute_result"
    }
   ],
   "source": [
    "reader = csv.reader(open('data2-1.csv'), delimiter=',')\n",
    "data = [float(row[1]) for row in reader]\n",
    "# data = [float(number) for _, number in reader]\n",
    "ratio = 0.8\n",
    "train_datas = data[:int(len(data) * ratio)]\n",
    "test_datas = data[int(len(data) * ratio):]\n",
    "len(train_datas)"
   ],
   "metadata": {
    "collapsed": false,
    "ExecuteTime": {
     "end_time": "2024-11-03T04:47:38.569112Z",
     "start_time": "2024-11-03T04:47:38.560243Z"
    }
   },
   "id": "7752a8f17d30db28",
   "execution_count": 255
  },
  {
   "cell_type": "code",
   "outputs": [
    {
     "data": {
      "text/plain": "torch.Size([864])"
     },
     "execution_count": 256,
     "metadata": {},
     "output_type": "execute_result"
    }
   ],
   "source": [
    "train_datas = torch.Tensor(train_datas)\n",
    "test_datas = torch.Tensor(test_datas)\n",
    "\n",
    "train_datas\n",
    "train_datas.shape"
   ],
   "metadata": {
    "collapsed": false,
    "ExecuteTime": {
     "end_time": "2024-11-03T04:47:39.064191Z",
     "start_time": "2024-11-03T04:47:39.048032Z"
    }
   },
   "id": "68f59e513f92aba0",
   "execution_count": 256
  },
  {
   "cell_type": "code",
   "outputs": [],
   "source": [
    "train_datas = F.normalize(train_datas,  dim=0)\n",
    "test_datas = F.normalize(test_datas, dim=0)"
   ],
   "metadata": {
    "collapsed": false,
    "ExecuteTime": {
     "end_time": "2024-11-03T04:47:39.545636Z",
     "start_time": "2024-11-03T04:47:39.526759Z"
    }
   },
   "id": "249153b59d68141b",
   "execution_count": 257
  },
  {
   "cell_type": "code",
   "outputs": [],
   "source": [
    "train_data = []\n",
    "test_data = []\n",
    "\n",
    "for i in range(len(train_datas) // 50 - 1):\n",
    "    train_data.append([train_datas[i*50:(i+1)*50], train_datas[(i+1)*50:(i+1)*50+10]])\n",
    "\n",
    "for i in range(len(test_datas) // 10 - 1):\n",
    "    test_data.append([test_datas[i*50:(i+1)*50], test_datas[(i+1)*50:(i+1)*50+10]])"
   ],
   "metadata": {
    "collapsed": false,
    "ExecuteTime": {
     "end_time": "2024-11-03T04:47:40.425477Z",
     "start_time": "2024-11-03T04:47:40.405685Z"
    }
   },
   "id": "5cb9c67115340b11",
   "execution_count": 258
  },
  {
   "cell_type": "code",
   "outputs": [
    {
     "data": {
      "text/plain": "[[tensor([0.0000, 0.0008, 0.0017, 0.0025, 0.0033, 0.0041, 0.0050, 0.0058, 0.0066,\n          0.0074, 0.0082, 0.0090, 0.0099, 0.0107, 0.0115, 0.0123, 0.0131, 0.0139,\n          0.0146, 0.0154, 0.0162, 0.0170, 0.0177, 0.0185, 0.0193, 0.0200, 0.0208,\n          0.0215, 0.0222, 0.0230, 0.0237, 0.0244, 0.0251, 0.0258, 0.0265, 0.0272,\n          0.0278, 0.0285, 0.0292, 0.0298, 0.0305, 0.0311, 0.0317, 0.0323, 0.0329,\n          0.0335, 0.0341, 0.0347, 0.0352, 0.0358]),\n  tensor([0.0363, 0.0368, 0.0373, 0.0378, 0.0383, 0.0388, 0.0393, 0.0397, 0.0402,\n          0.0406])],\n [tensor([0.0363, 0.0368, 0.0373, 0.0378, 0.0383, 0.0388, 0.0393, 0.0397, 0.0402,\n          0.0406, 0.0410, 0.0414, 0.0418, 0.0422, 0.0426, 0.0429, 0.0433, 0.0436,\n          0.0439, 0.0442, 0.0445, 0.0448, 0.0451, 0.0453, 0.0455, 0.0458, 0.0460,\n          0.0462, 0.0463, 0.0465, 0.0467, 0.0468, 0.0469, 0.0470, 0.0471, 0.0472,\n          0.0473, 0.0473, 0.0474, 0.0474, 0.0474, 0.0474, 0.0474, 0.0473, 0.0473,\n          0.0472, 0.0471, 0.0470, 0.0469, 0.0468]),\n  tensor([0.0467, 0.0465, 0.0463, 0.0462, 0.0460, 0.0458, 0.0455, 0.0453, 0.0451,\n          0.0448])],\n [tensor([0.0467, 0.0465, 0.0463, 0.0462, 0.0460, 0.0458, 0.0455, 0.0453, 0.0451,\n          0.0448, 0.0445, 0.0442, 0.0439, 0.0436, 0.0433, 0.0429, 0.0426, 0.0422,\n          0.0418, 0.0414, 0.0410, 0.0406, 0.0402, 0.0397, 0.0393, 0.0388, 0.0383,\n          0.0378, 0.0373, 0.0368, 0.0363, 0.0358, 0.0352, 0.0347, 0.0341, 0.0335,\n          0.0329, 0.0323, 0.0317, 0.0311, 0.0305, 0.0298, 0.0292, 0.0285, 0.0278,\n          0.0272, 0.0265, 0.0258, 0.0251, 0.0244]),\n  tensor([0.0237, 0.0230, 0.0222, 0.0215, 0.0208, 0.0200, 0.0193, 0.0185, 0.0177,\n          0.0170])],\n [tensor([ 2.3690e-02,  2.2971e-02,  2.2244e-02,  2.1510e-02,  2.0770e-02,\n           2.0024e-02,  1.9271e-02,  1.8513e-02,  1.7749e-02,  1.6980e-02,\n           1.6205e-02,  1.5426e-02,  1.4641e-02,  1.3853e-02,  1.3060e-02,\n           1.2263e-02,  1.1462e-02,  1.0658e-02,  9.8510e-03,  9.0407e-03,\n           8.2276e-03,  7.4120e-03,  6.5941e-03,  5.7743e-03,  4.9526e-03,\n           4.1295e-03,  3.3051e-03,  2.4797e-03,  1.6536e-03,  8.2691e-04,\n           5.8025e-18, -8.2691e-04, -1.6536e-03, -2.4797e-03, -3.3051e-03,\n          -4.1295e-03, -4.9526e-03, -5.7743e-03, -6.5941e-03, -7.4120e-03,\n          -8.2276e-03, -9.0407e-03, -9.8510e-03, -1.0658e-02, -1.1462e-02,\n          -1.2263e-02, -1.3060e-02, -1.3853e-02, -1.4641e-02, -1.5426e-02]),\n  tensor([-0.0162, -0.0170, -0.0177, -0.0185, -0.0193, -0.0200, -0.0208, -0.0215,\n          -0.0222, -0.0230])],\n [tensor([-0.0162, -0.0170, -0.0177, -0.0185, -0.0193, -0.0200, -0.0208, -0.0215,\n          -0.0222, -0.0230, -0.0237, -0.0244, -0.0251, -0.0258, -0.0265, -0.0272,\n          -0.0278, -0.0285, -0.0292, -0.0298, -0.0305, -0.0311, -0.0317, -0.0323,\n          -0.0329, -0.0335, -0.0341, -0.0347, -0.0352, -0.0358, -0.0363, -0.0368,\n          -0.0373, -0.0378, -0.0383, -0.0388, -0.0393, -0.0397, -0.0402, -0.0406,\n          -0.0410, -0.0414, -0.0418, -0.0422, -0.0426, -0.0429, -0.0433, -0.0436,\n          -0.0439, -0.0442]),\n  tensor([-0.0445, -0.0448, -0.0451, -0.0453, -0.0455, -0.0458, -0.0460, -0.0462,\n          -0.0463, -0.0465])],\n [tensor([-0.0445, -0.0448, -0.0451, -0.0453, -0.0455, -0.0458, -0.0460, -0.0462,\n          -0.0463, -0.0465, -0.0467, -0.0468, -0.0469, -0.0470, -0.0471, -0.0472,\n          -0.0473, -0.0473, -0.0474, -0.0474, -0.0474, -0.0474, -0.0474, -0.0473,\n          -0.0473, -0.0472, -0.0471, -0.0470, -0.0469, -0.0468, -0.0467, -0.0465,\n          -0.0463, -0.0462, -0.0460, -0.0458, -0.0455, -0.0453, -0.0451, -0.0448,\n          -0.0445, -0.0442, -0.0439, -0.0436, -0.0433, -0.0429, -0.0426, -0.0422,\n          -0.0418, -0.0414]),\n  tensor([-0.0410, -0.0406, -0.0402, -0.0397, -0.0393, -0.0388, -0.0383, -0.0378,\n          -0.0373, -0.0368])],\n [tensor([-0.0410, -0.0406, -0.0402, -0.0397, -0.0393, -0.0388, -0.0383, -0.0378,\n          -0.0373, -0.0368, -0.0363, -0.0358, -0.0352, -0.0347, -0.0341, -0.0335,\n          -0.0329, -0.0323, -0.0317, -0.0311, -0.0305, -0.0298, -0.0292, -0.0285,\n          -0.0278, -0.0272, -0.0265, -0.0258, -0.0251, -0.0244, -0.0237, -0.0230,\n          -0.0222, -0.0215, -0.0208, -0.0200, -0.0193, -0.0185, -0.0177, -0.0170,\n          -0.0162, -0.0154, -0.0146, -0.0139, -0.0131, -0.0123, -0.0115, -0.0107,\n          -0.0099, -0.0090]),\n  tensor([-0.0082, -0.0074, -0.0066, -0.0058, -0.0050, -0.0041, -0.0033, -0.0025,\n          -0.0017, -0.0008])],\n [tensor([-0.0082, -0.0074, -0.0066, -0.0058, -0.0050, -0.0041, -0.0033, -0.0025,\n          -0.0017, -0.0008,  0.0000,  0.0008,  0.0017,  0.0025,  0.0033,  0.0041,\n           0.0050,  0.0058,  0.0066,  0.0074,  0.0082,  0.0090,  0.0099,  0.0107,\n           0.0115,  0.0123,  0.0131,  0.0139,  0.0146,  0.0154,  0.0162,  0.0170,\n           0.0177,  0.0185,  0.0193,  0.0200,  0.0208,  0.0215,  0.0222,  0.0230,\n           0.0237,  0.0244,  0.0251,  0.0258,  0.0265,  0.0272,  0.0278,  0.0285,\n           0.0292,  0.0298]),\n  tensor([0.0305, 0.0311, 0.0317, 0.0323, 0.0329, 0.0335, 0.0341, 0.0347, 0.0352,\n          0.0358])],\n [tensor([0.0305, 0.0311, 0.0317, 0.0323, 0.0329, 0.0335, 0.0341, 0.0347, 0.0352,\n          0.0358, 0.0363, 0.0368, 0.0373, 0.0378, 0.0383, 0.0388, 0.0393, 0.0397,\n          0.0402, 0.0406, 0.0410, 0.0414, 0.0418, 0.0422, 0.0426, 0.0429, 0.0433,\n          0.0436, 0.0439, 0.0442, 0.0445, 0.0448, 0.0451, 0.0453, 0.0455, 0.0458,\n          0.0460, 0.0462, 0.0463, 0.0465, 0.0467, 0.0468, 0.0469, 0.0470, 0.0471,\n          0.0472, 0.0473, 0.0473, 0.0474, 0.0474]),\n  tensor([0.0474, 0.0474, 0.0474, 0.0473, 0.0473, 0.0472, 0.0471, 0.0470, 0.0469,\n          0.0468])],\n [tensor([0.0474, 0.0474, 0.0474, 0.0473, 0.0473, 0.0472, 0.0471, 0.0470, 0.0469,\n          0.0468, 0.0467, 0.0465, 0.0463, 0.0462, 0.0460, 0.0458, 0.0455, 0.0453,\n          0.0451, 0.0448, 0.0445, 0.0442, 0.0439, 0.0436, 0.0433, 0.0429, 0.0426,\n          0.0422, 0.0418, 0.0414, 0.0410, 0.0406, 0.0402, 0.0397, 0.0393, 0.0388,\n          0.0383, 0.0378, 0.0373, 0.0368, 0.0363, 0.0358, 0.0352, 0.0347, 0.0341,\n          0.0335, 0.0329, 0.0323, 0.0317, 0.0311]),\n  tensor([0.0305, 0.0298, 0.0292, 0.0285, 0.0278, 0.0272, 0.0265, 0.0258, 0.0251,\n          0.0244])],\n [tensor([ 3.0456e-02,  2.9818e-02,  2.9170e-02,  2.8514e-02,  2.7850e-02,\n           2.7176e-02,  2.6495e-02,  2.5805e-02,  2.5108e-02,  2.4403e-02,\n           2.3690e-02,  2.2971e-02,  2.2244e-02,  2.1510e-02,  2.0770e-02,\n           2.0024e-02,  1.9271e-02,  1.8513e-02,  1.7749e-02,  1.6980e-02,\n           1.6205e-02,  1.5426e-02,  1.4641e-02,  1.3853e-02,  1.3060e-02,\n           1.2263e-02,  1.1462e-02,  1.0658e-02,  9.8510e-03,  9.0407e-03,\n           8.2276e-03,  7.4120e-03,  6.5941e-03,  5.7743e-03,  4.9526e-03,\n           4.1295e-03,  3.3051e-03,  2.4797e-03,  1.6536e-03,  8.2691e-04,\n           5.8025e-18, -8.2691e-04, -1.6536e-03, -2.4797e-03, -3.3051e-03,\n          -4.1295e-03, -4.9526e-03, -5.7743e-03, -6.5941e-03, -7.4120e-03]),\n  tensor([-0.0082, -0.0090, -0.0099, -0.0107, -0.0115, -0.0123, -0.0131, -0.0139,\n          -0.0146, -0.0154])],\n [tensor([-0.0082, -0.0090, -0.0099, -0.0107, -0.0115, -0.0123, -0.0131, -0.0139,\n          -0.0146, -0.0154, -0.0162, -0.0170, -0.0177, -0.0185, -0.0193, -0.0200,\n          -0.0208, -0.0215, -0.0222, -0.0230, -0.0237, -0.0244, -0.0251, -0.0258,\n          -0.0265, -0.0272, -0.0278, -0.0285, -0.0292, -0.0298, -0.0305, -0.0311,\n          -0.0317, -0.0323, -0.0329, -0.0335, -0.0341, -0.0347, -0.0352, -0.0358,\n          -0.0363, -0.0368, -0.0373, -0.0378, -0.0383, -0.0388, -0.0393, -0.0397,\n          -0.0402, -0.0406]),\n  tensor([-0.0410, -0.0414, -0.0418, -0.0422, -0.0426, -0.0429, -0.0433, -0.0436,\n          -0.0439, -0.0442])],\n [tensor([-0.0410, -0.0414, -0.0418, -0.0422, -0.0426, -0.0429, -0.0433, -0.0436,\n          -0.0439, -0.0442, -0.0445, -0.0448, -0.0451, -0.0453, -0.0455, -0.0458,\n          -0.0460, -0.0462, -0.0463, -0.0465, -0.0467, -0.0468, -0.0469, -0.0470,\n          -0.0471, -0.0472, -0.0473, -0.0473, -0.0474, -0.0474, -0.0474, -0.0474,\n          -0.0474, -0.0473, -0.0473, -0.0472, -0.0471, -0.0470, -0.0469, -0.0468,\n          -0.0467, -0.0465, -0.0463, -0.0462, -0.0460, -0.0458, -0.0455, -0.0453,\n          -0.0451, -0.0448]),\n  tensor([-0.0445, -0.0442, -0.0439, -0.0436, -0.0433, -0.0429, -0.0426, -0.0422,\n          -0.0418, -0.0414])],\n [tensor([-0.0445, -0.0442, -0.0439, -0.0436, -0.0433, -0.0429, -0.0426, -0.0422,\n          -0.0418, -0.0414, -0.0410, -0.0406, -0.0402, -0.0397, -0.0393, -0.0388,\n          -0.0383, -0.0378, -0.0373, -0.0368, -0.0363, -0.0358, -0.0352, -0.0347,\n          -0.0341, -0.0335, -0.0329, -0.0323, -0.0317, -0.0311, -0.0305, -0.0298,\n          -0.0292, -0.0285, -0.0278, -0.0272, -0.0265, -0.0258, -0.0251, -0.0244,\n          -0.0237, -0.0230, -0.0222, -0.0215, -0.0208, -0.0200, -0.0193, -0.0185,\n          -0.0177, -0.0170]),\n  tensor([-0.0162, -0.0154, -0.0146, -0.0139, -0.0131, -0.0123, -0.0115, -0.0107,\n          -0.0099, -0.0090])],\n [tensor([-0.0162, -0.0154, -0.0146, -0.0139, -0.0131, -0.0123, -0.0115, -0.0107,\n          -0.0099, -0.0090, -0.0082, -0.0074, -0.0066, -0.0058, -0.0050, -0.0041,\n          -0.0033, -0.0025, -0.0017, -0.0008,  0.0000,  0.0008,  0.0017,  0.0025,\n           0.0033,  0.0041,  0.0050,  0.0058,  0.0066,  0.0074,  0.0082,  0.0090,\n           0.0099,  0.0107,  0.0115,  0.0123,  0.0131,  0.0139,  0.0146,  0.0154,\n           0.0162,  0.0170,  0.0177,  0.0185,  0.0193,  0.0200,  0.0208,  0.0215,\n           0.0222,  0.0230]),\n  tensor([0.0237, 0.0244, 0.0251, 0.0258, 0.0265, 0.0272, 0.0278, 0.0285, 0.0292,\n          0.0298])],\n [tensor([0.0237, 0.0244, 0.0251, 0.0258, 0.0265, 0.0272, 0.0278, 0.0285, 0.0292,\n          0.0298, 0.0305, 0.0311, 0.0317, 0.0323, 0.0329, 0.0335, 0.0341, 0.0347,\n          0.0352, 0.0358, 0.0363, 0.0368, 0.0373, 0.0378, 0.0383, 0.0388, 0.0393,\n          0.0397, 0.0402, 0.0406, 0.0410, 0.0414, 0.0418, 0.0422, 0.0426, 0.0429,\n          0.0433, 0.0436, 0.0439, 0.0442, 0.0445, 0.0448, 0.0451, 0.0453, 0.0455,\n          0.0458, 0.0460, 0.0462, 0.0463, 0.0465]),\n  tensor([0.0467, 0.0468, 0.0469, 0.0470, 0.0471, 0.0472, 0.0473, 0.0473, 0.0474,\n          0.0474])]]"
     },
     "execution_count": 259,
     "metadata": {},
     "output_type": "execute_result"
    }
   ],
   "source": [
    "train_data"
   ],
   "metadata": {
    "collapsed": false,
    "ExecuteTime": {
     "end_time": "2024-11-03T04:47:41.201636Z",
     "start_time": "2024-11-03T04:47:41.184072Z"
    }
   },
   "id": "c2ffd29ad4037f0d",
   "execution_count": 259
  },
  {
   "cell_type": "code",
   "outputs": [],
   "source": [
    "# print(train_data.__class__.__name__)\n",
    "# train_data = torch.from_numpy(train_data)\n",
    "# test_data = torch.from_numpy(test_data)\n",
    "# print(train_data.shape)\n",
    "# print(np.max(train_data,axis=0).shape)\n",
    "\n",
    "# plt.scatter(np.arange(len(train_data[0][0])), train_data[0][0])\n",
    "# plt.scatter(np.array([len(train_data[0][0])]), train_data[0][1])"
   ],
   "metadata": {
    "collapsed": false,
    "ExecuteTime": {
     "end_time": "2024-11-03T04:47:42.129121Z",
     "start_time": "2024-11-03T04:47:42.126111Z"
    }
   },
   "id": "5be8203a889102ef",
   "execution_count": 260
  },
  {
   "cell_type": "code",
   "outputs": [],
   "source": [
    "class Net(nn.Module):\n",
    "    def __init__(self):\n",
    "        super(Net, self).__init__()\n",
    "        self.fc1 = nn.Linear(50,10)\n",
    "        self.c1 = nn.Sigmoid()\n",
    "        self.fc2 = nn.Linear(10,10)\n",
    "        self.c2 = nn.Sigmoid()\n",
    "        self.fc3 = nn.Linear(10,10)\n",
    "        self.c3 = nn.Sigmoid()\n",
    "        self.fc4 = nn.Linear(10,10)\n",
    "\n",
    "    def forward(self, x):\n",
    "        x = self.fc1(x)\n",
    "        x = self.c1(x)\n",
    "        x = self.fc2(x)\n",
    "        x = self.c2(x)\n",
    "        x = self.fc3(x)\n",
    "        x = self.c3(x)\n",
    "        x = self.fc4(x)\n",
    "        return x\n",
    "\n",
    "net = Net()\n",
    "optimizer = torch.optim.SGD(net.parameters(), lr=0.001, momentum=0.8)\n",
    "criterion = nn.CrossEntropyLoss()\n",
    "\n",
    "def train(model, criterion, optimizer, epochs):\n",
    "    for inputs, real_result in train_data:\n",
    "        # print(inputs)\n",
    "        inputs = torch.tensor(inputs, dtype=torch.float, requires_grad=True)\n",
    "        real_result = torch.tensor(real_result, dtype=torch.float)\n",
    "        for epoch in range(epochs):\n",
    "            optimizer.zero_grad()\n",
    "            output = model(inputs)\n",
    "            # print(output,real_result)\n",
    "            loss = criterion(output, real_result)\n",
    "            # print(loss, output, real_result)\n",
    "            loss.backward()\n",
    "            optimizer.step()\n",
    "    print(\"finished training\")\n",
    "\n",
    "def test(model):\n",
    "    loss = 0.0\n",
    "    for inputs, real_result in train_data:\n",
    "        inputs = torch.tensor(inputs, dtype=torch.float)\n",
    "        real_result = torch.tensor(real_result, dtype=torch.float)\n",
    "        output = model(inputs)\n",
    "        loss += criterion(output, real_result).item()\n",
    "    print(f\"test loss : {loss:.4f}\")"
   ],
   "metadata": {
    "collapsed": false,
    "ExecuteTime": {
     "end_time": "2024-11-03T04:52:50.201175Z",
     "start_time": "2024-11-03T04:52:50.188136Z"
    }
   },
   "id": "1271254c51687a43",
   "execution_count": 275
  },
  {
   "cell_type": "code",
   "outputs": [
    {
     "name": "stderr",
     "output_type": "stream",
     "text": [
      "C:\\Users\\Liu Xinyu\\AppData\\Local\\Temp\\ipykernel_22996\\1659587870.py:29: UserWarning: To copy construct from a tensor, it is recommended to use sourceTensor.clone().detach() or sourceTensor.clone().detach().requires_grad_(True), rather than torch.tensor(sourceTensor).\n",
      "  inputs = torch.tensor(inputs, dtype=torch.float, requires_grad=True)\n",
      "C:\\Users\\Liu Xinyu\\AppData\\Local\\Temp\\ipykernel_22996\\1659587870.py:30: UserWarning: To copy construct from a tensor, it is recommended to use sourceTensor.clone().detach() or sourceTensor.clone().detach().requires_grad_(True), rather than torch.tensor(sourceTensor).\n",
      "  real_result = torch.tensor(real_result, dtype=torch.float)\n"
     ]
    },
    {
     "name": "stdout",
     "output_type": "stream",
     "text": [
      "finished training\n",
      "test loss : 1.5731\n"
     ]
    },
    {
     "name": "stderr",
     "output_type": "stream",
     "text": [
      "C:\\Users\\Liu Xinyu\\AppData\\Local\\Temp\\ipykernel_22996\\1659587870.py:44: UserWarning: To copy construct from a tensor, it is recommended to use sourceTensor.clone().detach() or sourceTensor.clone().detach().requires_grad_(True), rather than torch.tensor(sourceTensor).\n",
      "  inputs = torch.tensor(inputs, dtype=torch.float)\n",
      "C:\\Users\\Liu Xinyu\\AppData\\Local\\Temp\\ipykernel_22996\\1659587870.py:45: UserWarning: To copy construct from a tensor, it is recommended to use sourceTensor.clone().detach() or sourceTensor.clone().detach().requires_grad_(True), rather than torch.tensor(sourceTensor).\n",
      "  real_result = torch.tensor(real_result, dtype=torch.float)\n"
     ]
    }
   ],
   "source": [
    "train(net, criterion, optimizer, 100)\n",
    "test(net)"
   ],
   "metadata": {
    "collapsed": false,
    "ExecuteTime": {
     "end_time": "2024-11-03T04:52:56.577600Z",
     "start_time": "2024-11-03T04:52:55.211336Z"
    }
   },
   "id": "a659696f73116aab",
   "execution_count": 277
  },
  {
   "cell_type": "code",
   "outputs": [
    {
     "data": {
      "text/plain": "tensor([1, 2, 3], dtype=torch.int32)"
     },
     "execution_count": 102,
     "metadata": {},
     "output_type": "execute_result"
    }
   ],
   "source": [
    "torch.tensor(list([1,2,3]),dtype=torch.int)"
   ],
   "metadata": {
    "collapsed": false,
    "ExecuteTime": {
     "end_time": "2024-11-03T03:59:22.703668Z",
     "start_time": "2024-11-03T03:59:22.691652Z"
    }
   },
   "id": "6a488bfed48c6b81",
   "execution_count": 102
  },
  {
   "cell_type": "code",
   "outputs": [
    {
     "data": {
      "text/plain": "tensor([inf])"
     },
     "execution_count": 226,
     "metadata": {},
     "output_type": "execute_result"
    }
   ],
   "source": [
    "t1 = torch.Tensor(1)\n",
    "t1"
   ],
   "metadata": {
    "collapsed": false,
    "ExecuteTime": {
     "end_time": "2024-11-03T04:41:50.231510Z",
     "start_time": "2024-11-03T04:41:50.224906Z"
    }
   },
   "id": "b61f7c15a945b8d2",
   "execution_count": 226
  },
  {
   "cell_type": "code",
   "outputs": [
    {
     "data": {
      "text/plain": "tensor([0.0098])"
     },
     "execution_count": 227,
     "metadata": {},
     "output_type": "execute_result"
    }
   ],
   "source": [
    "t2 = torch.rand(1)\n",
    "t2"
   ],
   "metadata": {
    "collapsed": false,
    "ExecuteTime": {
     "end_time": "2024-11-03T04:41:50.648653Z",
     "start_time": "2024-11-03T04:41:50.631037Z"
    }
   },
   "id": "b1a84cb16f7f8710",
   "execution_count": 227
  },
  {
   "cell_type": "code",
   "outputs": [
    {
     "data": {
      "text/plain": "tensor(inf)"
     },
     "execution_count": 228,
     "metadata": {},
     "output_type": "execute_result"
    }
   ],
   "source": [
    "nn.MSELoss()(t1, t2)\n"
   ],
   "metadata": {
    "collapsed": false,
    "ExecuteTime": {
     "end_time": "2024-11-03T04:41:51.100868Z",
     "start_time": "2024-11-03T04:41:51.094681Z"
    }
   },
   "id": "f98a28ec018e8dc6",
   "execution_count": 228
  }
 ],
 "metadata": {
  "kernelspec": {
   "display_name": "Python 3",
   "language": "python",
   "name": "python3"
  },
  "language_info": {
   "codemirror_mode": {
    "name": "ipython",
    "version": 2
   },
   "file_extension": ".py",
   "mimetype": "text/x-python",
   "name": "python",
   "nbconvert_exporter": "python",
   "pygments_lexer": "ipython2",
   "version": "2.7.6"
  }
 },
 "nbformat": 4,
 "nbformat_minor": 5
}
