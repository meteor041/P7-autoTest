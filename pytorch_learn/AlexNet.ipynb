{
 "cells": [
  {
   "cell_type": "code",
   "execution_count": 1,
   "id": "initial_id",
   "metadata": {
    "collapsed": true,
    "ExecuteTime": {
     "end_time": "2024-10-31T13:41:31.249741Z",
     "start_time": "2024-10-31T13:41:25.909002Z"
    }
   },
   "outputs": [],
   "source": [
    "import torch\n",
    "from torch import nn\n",
    "from d2l import torch as d2l"
   ]
  },
  {
   "cell_type": "code",
   "outputs": [],
   "source": [
    "class AlexNet(nn.Module):\n",
    "    def __init__(self):\n",
    "        super(AlexNet,self).__init__()\n",
    "        self.features = nn.Sequential(\n",
    "            # 卷积层\n",
    "            nn.Conv2d(1, 96, kernel_size=11, stride=4, padding=1),\n",
    "            nn.ReLU(inplace=True),\n",
    "            nn.MaxPool2d(kernel_size=3, stride=2),\n",
    "            nn.Conv2d(96, 256, kernal_size=5, padding=2),\n",
    "            nn.ReLU(inplace=True),\n",
    "            nn.MaxPool2d(kernel_size=3, stride=2),\n",
    "            nn.Con2d(256, 384, kernel_size=3, padding=1),\n",
    "            nn.ReLU(inplace=True),\n",
    "            nn.Conv2d(384, 256, kernel_size=3, padding=1),\n",
    "            nn.ReLU(inplace=True),\n",
    "            nn.Conv2d(384, 256, kernel_size=3, padding=1),\n",
    "            nn.ReLU(inplace=True),\n",
    "            nn.MaxPool2d(kernel_size=3, stride=2),\n",
    "\n",
    "            # 全连接层\n",
    "            nn.Flatten(), # 拉成二维\n",
    "            nn.Linear(6400, 4096),\n",
    "            nn.ReLU(inplace=True),\n",
    "            nn.Dropout(p=0.5), # 丢弃概率为0.5\n",
    "            nn.Linear(4096, 4096),\n",
    "            nn.ReLU(inplace=True),\n",
    "            nn.DropOut(p=0.5),\n",
    "            nn.Linear(4096, 10)\n",
    "        )\n"
   ],
   "metadata": {
    "collapsed": false,
    "ExecuteTime": {
     "end_time": "2024-10-31T13:41:31.256046Z",
     "start_time": "2024-10-31T13:41:31.250596Z"
    }
   },
   "id": "6e247360340e155c",
   "execution_count": 2
  },
  {
   "cell_type": "code",
   "outputs": [],
   "source": [
    "features = nn.Sequential(\n",
    "            # 卷积层\n",
    "            nn.Conv2d(1, 96, kernel_size=11, stride=4, padding=1),\n",
    "            nn.ReLU(inplace=True),\n",
    "            nn.MaxPool2d(kernel_size=3, stride=2),\n",
    "            nn.Conv2d(96, 256, kernel_size=5, padding=2),\n",
    "            nn.ReLU(inplace=True),\n",
    "            nn.MaxPool2d(kernel_size=3, stride=2),\n",
    "            nn.Conv2d(256, 384, kernel_size=3, padding=1),\n",
    "            nn.ReLU(inplace=True),\n",
    "            nn.Conv2d(384, 256, kernel_size=3, padding=1),\n",
    "            nn.ReLU(inplace=True),\n",
    "            nn.Conv2d(256, 256, kernel_size=3, padding=1),\n",
    "            nn.ReLU(inplace=True),\n",
    "            nn.MaxPool2d(kernel_size=3, stride=2),\n",
    "\n",
    "            # 全连接层\n",
    "            nn.Flatten(), # 拉成二维\n",
    "            nn.Linear(6400, 4096),\n",
    "            nn.ReLU(inplace=True),\n",
    "            nn.Dropout(p=0.5), # 丢弃概率为0.5\n",
    "            nn.Linear(4096, 4096),\n",
    "            nn.ReLU(inplace=True),\n",
    "            nn.Dropout(p=0.5),\n",
    "            nn.Linear(4096, 10)\n",
    "        )"
   ],
   "metadata": {
    "collapsed": false,
    "ExecuteTime": {
     "end_time": "2024-10-31T13:41:31.459621Z",
     "start_time": "2024-10-31T13:41:31.257053Z"
    }
   },
   "id": "5a3e1ed2df92bfec",
   "execution_count": 3
  },
  {
   "cell_type": "code",
   "outputs": [
    {
     "name": "stdout",
     "output_type": "stream",
     "text": [
      "Conv2d torch.Size([1, 96, 54, 54])\n",
      "ReLU torch.Size([1, 96, 54, 54])\n",
      "MaxPool2d torch.Size([1, 96, 26, 26])\n",
      "Conv2d torch.Size([1, 256, 26, 26])\n",
      "ReLU torch.Size([1, 256, 26, 26])\n",
      "MaxPool2d torch.Size([1, 256, 12, 12])\n",
      "Conv2d torch.Size([1, 384, 12, 12])\n",
      "ReLU torch.Size([1, 384, 12, 12])\n",
      "Conv2d torch.Size([1, 256, 12, 12])\n",
      "ReLU torch.Size([1, 256, 12, 12])\n",
      "Conv2d torch.Size([1, 256, 12, 12])\n",
      "ReLU torch.Size([1, 256, 12, 12])\n",
      "MaxPool2d torch.Size([1, 256, 5, 5])\n",
      "Flatten torch.Size([1, 6400])\n",
      "Linear torch.Size([1, 4096])\n",
      "ReLU torch.Size([1, 4096])\n",
      "Dropout torch.Size([1, 4096])\n",
      "Linear torch.Size([1, 4096])\n",
      "ReLU torch.Size([1, 4096])\n",
      "Dropout torch.Size([1, 4096])\n",
      "Linear torch.Size([1, 10])\n"
     ]
    }
   ],
   "source": [
    "X=torch.randn(1, 1, 224, 224)\n",
    "for layer in features:\n",
    "    X = layer(X)\n",
    "    print(layer.__class__.__name__, X.shape)"
   ],
   "metadata": {
    "collapsed": false,
    "ExecuteTime": {
     "end_time": "2024-10-31T13:41:31.530248Z",
     "start_time": "2024-10-31T13:41:31.459621Z"
    }
   },
   "id": "61fc23bb2c75663a",
   "execution_count": 4
  },
  {
   "cell_type": "code",
   "outputs": [],
   "source": [
    "batch_size = 128\n",
    "train_iter, test_iter = d2l.load_data_fashion_mnist(batch_size, resize=224)"
   ],
   "metadata": {
    "collapsed": false,
    "is_executing": true
   },
   "id": "5dd4a440e0f83ea9",
   "execution_count": null
  },
  {
   "cell_type": "code",
   "outputs": [],
   "source": [],
   "metadata": {
    "collapsed": false,
    "ExecuteTime": {
     "start_time": "2024-10-31T13:41:32.561566Z"
    }
   },
   "id": "111b0fe13f258761"
  }
 ],
 "metadata": {
  "kernelspec": {
   "display_name": "Python 3",
   "language": "python",
   "name": "python3"
  },
  "language_info": {
   "codemirror_mode": {
    "name": "ipython",
    "version": 2
   },
   "file_extension": ".py",
   "mimetype": "text/x-python",
   "name": "python",
   "nbconvert_exporter": "python",
   "pygments_lexer": "ipython2",
   "version": "2.7.6"
  }
 },
 "nbformat": 4,
 "nbformat_minor": 5
}
