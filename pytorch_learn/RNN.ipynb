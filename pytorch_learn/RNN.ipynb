{
 "cells": [
  {
   "cell_type": "code",
   "execution_count": 9,
   "id": "initial_id",
   "metadata": {
    "collapsed": true,
    "ExecuteTime": {
     "end_time": "2024-11-13T15:06:39.999894Z",
     "start_time": "2024-11-13T15:06:38.615191Z"
    }
   },
   "outputs": [],
   "source": [
    "import torch\n",
    "from torch import nn\n",
    "from torch.nn import functional as F\n",
    "from d2l import torch as d2l"
   ]
  },
  {
   "cell_type": "code",
   "outputs": [],
   "source": [
    "import gc\n",
    "import torch\n",
    "def release_gpu_memory():\n",
    "    gc.collect()\n",
    "    if torch.cuda.is_available():\n",
    "        torch.cuda.empty_cache()"
   ],
   "metadata": {
    "collapsed": false
   },
   "id": "3086b37865295d5a",
   "execution_count": null
  },
  {
   "cell_type": "code",
   "outputs": [],
   "source": [
    "release_gpu_memory()"
   ],
   "metadata": {
    "collapsed": false
   },
   "id": "626ed6c78c44936a",
   "execution_count": null
  },
  {
   "cell_type": "code",
   "outputs": [],
   "source": [
    "rnn_cell = nn.RNNCell(input_size=5, hidden_size=8)"
   ],
   "metadata": {
    "collapsed": false
   },
   "id": "4e64cae2bc060c24",
   "execution_count": null
  },
  {
   "cell_type": "code",
   "outputs": [],
   "source": [
    "rnn_cell.weight_ih.shape  "
   ],
   "metadata": {
    "collapsed": false
   },
   "id": "beb7b5c3b9acd4a4",
   "execution_count": null
  },
  {
   "cell_type": "code",
   "outputs": [],
   "source": [
    "rnn_cell.weight_hh.shape"
   ],
   "metadata": {
    "collapsed": false
   },
   "id": "912f469b8e6b8ab",
   "execution_count": null
  },
  {
   "cell_type": "code",
   "outputs": [],
   "source": [
    "rnn_cell.bias_ih.shape"
   ],
   "metadata": {
    "collapsed": false
   },
   "id": "5c3de632ab3b1000",
   "execution_count": null
  },
  {
   "cell_type": "code",
   "outputs": [],
   "source": [
    "rnn_cell.bias_hh.shapeed"
   ],
   "metadata": {
    "collapsed": false
   },
   "id": "7e06b09f518e6cb6",
   "execution_count": null
  },
  {
   "cell_type": "code",
   "outputs": [],
   "source": [
    "rnn_cell"
   ],
   "metadata": {
    "collapsed": false
   },
   "id": "7360ccdfb93783f",
   "execution_count": null
  },
  {
   "cell_type": "code",
   "outputs": [],
   "source": [
    "input = torch.randn(1,5)\n",
    "hidden = torch.randn(1,8)"
   ],
   "metadata": {
    "collapsed": false
   },
   "id": "4198152041c885f",
   "execution_count": null
  },
  {
   "cell_type": "code",
   "outputs": [],
   "source": [
    "rnn_cell(input, hidden)"
   ],
   "metadata": {
    "collapsed": false
   },
   "id": "beba079700ba2e0e",
   "execution_count": null
  }
 ],
 "metadata": {
  "kernelspec": {
   "display_name": "Python 3",
   "language": "python",
   "name": "python3"
  },
  "language_info": {
   "codemirror_mode": {
    "name": "ipython",
    "version": 2
   },
   "file_extension": ".py",
   "mimetype": "text/x-python",
   "name": "python",
   "nbconvert_exporter": "python",
   "pygments_lexer": "ipython2",
   "version": "2.7.6"
  }
 },
 "nbformat": 4,
 "nbformat_minor": 5
}
