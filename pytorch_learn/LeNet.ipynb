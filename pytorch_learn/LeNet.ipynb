{
 "cells": [
  {
   "cell_type": "code",
   "outputs": [
    {
     "name": "stdout",
     "output_type": "stream",
     "text": [
      "[Epoch:1, Batch: 1000] Loss: 2.296\n",
      "[Epoch:1, Batch: 2000] Loss: 2.268\n",
      "[Epoch:1, Batch: 3000] Loss: 2.176\n",
      "[Epoch:1, Batch: 4000] Loss: 1.565\n",
      "[Epoch:1, Batch: 5000] Loss: 0.696\n",
      "[Epoch:1, Batch: 6000] Loss: 0.518\n",
      "[Epoch:1, Batch: 7000] Loss: 0.455\n",
      "[Epoch:1, Batch: 8000] Loss: 0.398\n",
      "[Epoch:1, Batch: 9000] Loss: 0.366\n",
      "[Epoch:1, Batch:10000] Loss: 0.338\n",
      "[Epoch:1, Batch:11000] Loss: 0.303\n",
      "[Epoch:1, Batch:12000] Loss: 0.270\n",
      "[Epoch:1, Batch:13000] Loss: 0.249\n",
      "[Epoch:1, Batch:14000] Loss: 0.232\n",
      "[Epoch:1, Batch:15000] Loss: 0.223\n",
      "[Epoch:2, Batch: 1000] Loss: 0.222\n",
      "[Epoch:2, Batch: 2000] Loss: 0.190\n",
      "[Epoch:2, Batch: 3000] Loss: 0.192\n",
      "[Epoch:2, Batch: 4000] Loss: 0.175\n",
      "[Epoch:2, Batch: 5000] Loss: 0.153\n",
      "[Epoch:2, Batch: 6000] Loss: 0.153\n",
      "[Epoch:2, Batch: 7000] Loss: 0.146\n",
      "[Epoch:2, Batch: 8000] Loss: 0.156\n",
      "[Epoch:2, Batch: 9000] Loss: 0.138\n",
      "[Epoch:2, Batch:10000] Loss: 0.139\n",
      "[Epoch:2, Batch:11000] Loss: 0.144\n",
      "[Epoch:2, Batch:12000] Loss: 0.134\n",
      "[Epoch:2, Batch:13000] Loss: 0.124\n",
      "[Epoch:2, Batch:14000] Loss: 0.110\n",
      "[Epoch:2, Batch:15000] Loss: 0.132\n",
      "Finish training\n"
     ]
    }
   ],
   "source": [
    "import torch\n",
    "import matplotlib.pyplot as plt\n",
    "import torch.nn.functional as F\n",
    "from torch import nn, optim\n",
    "\n",
    "from torchvision import datasets, transforms\n",
    "\n",
    "transform = transforms.Compose([\n",
    "    transforms.ToTensor(),\n",
    "    transforms.Normalize((0.1307,), (0.3081,))\n",
    "])\n",
    "trainset = datasets.MNIST('data', train=True, download=True, transform=transform)\n",
    "testset = datasets.MNIST('data', train=False, download=True, transform=transform)\n",
    "\n",
    "class LeNet(nn.Module):\n",
    "    def __init__(self):\n",
    "        super(LeNet, self).__init__()\n",
    "        self.c1 = nn.Conv2d(1, 6, (5,5))\n",
    "        self.c3 = nn.Conv2d(6, 16, 5)\n",
    "        self.fc1 = nn.Linear(16*4*4, 120)\n",
    "        self.fc2 = nn.Linear(120, 84)\n",
    "        self.fc3 = nn.Linear(84, 10)\n",
    "\n",
    "    def forward(self, x):\n",
    "        x = F.max_pool2d(F.relu(self.c1(x)), 2)\n",
    "        x = F.max_pool2d(F.relu(self.c3(x)), 2)\n",
    "        x = x.view(-1, self.num_flat_features(x))\n",
    "        x = F.relu(self.fc1(x))\n",
    "        x = F.relu(self.fc2(x))\n",
    "        x = self.fc3(x)\n",
    "        return x\n",
    "\n",
    "    def num_flat_features(self, x):\n",
    "        size = x.size()[1:]\n",
    "        num_feature = 1\n",
    "        for s in size:\n",
    "            num_feature = num_feature * s\n",
    "        return num_feature\n",
    "\n",
    "CUDA = torch.cuda.is_available()\n",
    "if CUDA:\n",
    "    lenet = LeNet().cuda()\n",
    "else:\n",
    "    lenet = LeNet()\n",
    "\n",
    "criterion = nn.CrossEntropyLoss()\n",
    "optimizer = optim.SGD(lenet.parameters(), lr=0.001, momentum=0)\n",
    "\n",
    "trainloader = torch.utils.data.DataLoader(trainset, batch_size=4, shuffle=True)\n",
    "\n",
    "def train(model, criterion, optimizer, epochs=1):\n",
    "    for epoch in range(epochs):\n",
    "        running_loss = 0.0\n",
    "        for i, data in enumerate(trainloader, 0):\n",
    "            inputs, labels = data\n",
    "            if CUDA:\n",
    "                inputs, labels = inputs.cuda(), labels.cuda()\n",
    "            optimizer.zero_grad()\n",
    "            outputs = model(inputs)\n",
    "            loss = criterion(outputs, labels)\n",
    "            loss.backward()\n",
    "            optimizer.step()\n",
    "\n",
    "            running_loss += loss.item()\n",
    "            if i % 1000 == 999:\n",
    "                print('[Epoch:%d, Batch:%5d] Loss: %.3f' % (epoch+1, i+1, running_loss / 1000))\n",
    "                running_loss = 0.0\n",
    "    print('Finish training')\n",
    "\n",
    "train(lenet, criterion, optimizer, epochs=2)"
   ],
   "metadata": {
    "collapsed": false,
    "ExecuteTime": {
     "end_time": "2024-10-31T14:49:37.236089Z",
     "start_time": "2024-10-31T14:48:34.630245Z"
    }
   },
   "id": "ef7e4f7029692741",
   "execution_count": 1
  },
  {
   "cell_type": "code",
   "outputs": [],
   "source": [],
   "metadata": {
    "collapsed": false
   },
   "id": "ea820784232bfeaa"
  }
 ],
 "metadata": {
  "kernelspec": {
   "display_name": "Python 3",
   "language": "python",
   "name": "python3"
  },
  "language_info": {
   "codemirror_mode": {
    "name": "ipython",
    "version": 2
   },
   "file_extension": ".py",
   "mimetype": "text/x-python",
   "name": "python",
   "nbconvert_exporter": "python",
   "pygments_lexer": "ipython2",
   "version": "2.7.6"
  }
 },
 "nbformat": 4,
 "nbformat_minor": 5
}
