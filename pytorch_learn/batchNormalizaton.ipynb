{
 "cells": [
  {
   "cell_type": "code",
   "execution_count": 2,
   "id": "initial_id",
   "metadata": {
    "collapsed": true,
    "ExecuteTime": {
     "end_time": "2024-11-14T07:55:44.330109Z",
     "start_time": "2024-11-14T07:55:43.507500Z"
    }
   },
   "outputs": [],
   "source": [
    "import torch\n",
    "from torch import nn\n",
    "from d2l import torch as d2l"
   ]
  },
  {
   "cell_type": "code",
   "outputs": [],
   "source": [
    "def batchNormalization(X, gamma, beta, moving_mean, moving_var, eps, momentum):\n",
    "    if not torch.is_grad_enabled():\n",
    "        X_hat = (X - moving_mean) / torch.sqrt(moving_var + eps)\n",
    "    else:\n",
    "        assert len(X.shape) in (2, 4) # 2;全连接层, 4:卷积层\n",
    "        if len(X.shape) == 2:\n",
    "            mean = X.mean(dim=0) # 按行求均值,得到1Xn的向量\n",
    "            var = ((X - mean)**2).mean(dim=0)\n",
    "        else:\n",
    "            mean = X.mean(dim=(0,2,3), keepdims=True)\n",
    "            var = ((X - mean)**2).mean(dim=(0,2,3),keepdim=True)\n",
    "        X_hat = (X - mean) / torch.sqrt(var + eps)\n",
    "        moving_mean = momentum * moving_mean + (1 - momentum) * mean\n",
    "        moving_var = momentum * moving_var + (1 - momentum) * var\n",
    "    Y=gamma * X_hat + beta\n",
    "    return Y, moving_mean, moving_var.data"
   ],
   "metadata": {
    "collapsed": false,
    "ExecuteTime": {
     "end_time": "2024-11-14T07:59:57.773128Z",
     "start_time": "2024-11-14T07:59:57.763112Z"
    }
   },
   "id": "d728c8f2c1513b6e",
   "execution_count": 3
  },
  {
   "cell_type": "code",
   "outputs": [
    {
     "data": {
      "text/plain": "tensor([[[-1.7600,  1.2787,  1.9835],\n         [ 1.0104,  0.9450,  1.2862]],\n\n        [[ 0.2103,  0.6154, -1.7522],\n         [-0.5461, -2.8473,  1.0881]]])"
     },
     "execution_count": 18,
     "metadata": {},
     "output_type": "execute_result"
    }
   ],
   "source": [
    "X = torch.randn(2,2,3)\n",
    "X"
   ],
   "metadata": {
    "collapsed": false,
    "ExecuteTime": {
     "end_time": "2024-11-14T08:02:55.058839Z",
     "start_time": "2024-11-14T08:02:55.046364Z"
    }
   },
   "id": "9b8ba96439a2282e",
   "execution_count": 18
  },
  {
   "cell_type": "code",
   "outputs": [
    {
     "data": {
      "text/plain": "torch.Size([2])"
     },
     "execution_count": 49,
     "metadata": {},
     "output_type": "execute_result"
    }
   ],
   "source": [
    "X.mean(dim=(0,2)).shape"
   ],
   "metadata": {
    "collapsed": false,
    "ExecuteTime": {
     "end_time": "2024-11-14T08:43:49.445928Z",
     "start_time": "2024-11-14T08:43:49.440894Z"
    }
   },
   "id": "e4dc5eacbb126c3",
   "execution_count": 49
  },
  {
   "cell_type": "code",
   "outputs": [
    {
     "data": {
      "text/plain": "tensor([[-1.7600,  1.2787,  1.9835],\n        [ 1.0104,  0.9450,  1.2862]])"
     },
     "execution_count": 20,
     "metadata": {},
     "output_type": "execute_result"
    }
   ],
   "source": [
    "X[0]"
   ],
   "metadata": {
    "collapsed": false,
    "ExecuteTime": {
     "end_time": "2024-11-14T08:03:33.421842Z",
     "start_time": "2024-11-14T08:03:33.415844Z"
    }
   },
   "id": "bee8e786b90b9a",
   "execution_count": 20
  },
  {
   "cell_type": "code",
   "outputs": [
    {
     "data": {
      "text/plain": "tensor(0.1561)"
     },
     "execution_count": 29,
     "metadata": {},
     "output_type": "execute_result"
    }
   ],
   "source": [
    "torch.cat((X[0][0], X[1][0]),dim=0).mean()\n",
    "torch.cat((X[0][1], X[1][1]),dim=0).mean()"
   ],
   "metadata": {
    "collapsed": false,
    "ExecuteTime": {
     "end_time": "2024-11-14T08:04:56.136961Z",
     "start_time": "2024-11-14T08:04:56.123102Z"
    }
   },
   "id": "baa29f28cad10602",
   "execution_count": 29
  },
  {
   "cell_type": "code",
   "outputs": [],
   "source": [
    "bn_input = torch.randn((2,3,4,4))"
   ],
   "metadata": {
    "collapsed": false,
    "ExecuteTime": {
     "end_time": "2024-11-14T08:36:18.521309Z",
     "start_time": "2024-11-14T08:36:18.505203Z"
    }
   },
   "id": "66d046715ed3ca6a",
   "execution_count": 44
  },
  {
   "cell_type": "code",
   "outputs": [
    {
     "ename": "TypeError",
     "evalue": "batchNormalization() missing 6 required positional arguments: 'gamma', 'beta', 'moving_mean', 'moving_var', 'eps', and 'momentum'",
     "output_type": "error",
     "traceback": [
      "\u001B[1;31m---------------------------------------------------------------------------\u001B[0m",
      "\u001B[1;31mTypeError\u001B[0m                                 Traceback (most recent call last)",
      "\u001B[1;32m<ipython-input-32-91d1c17e1bc3>\u001B[0m in \u001B[0;36m<module>\u001B[1;34m\u001B[0m\n\u001B[1;32m----> 1\u001B[1;33m \u001B[0mbatchNormalization\u001B[0m\u001B[1;33m(\u001B[0m\u001B[0mbn_input\u001B[0m\u001B[1;33m)\u001B[0m\u001B[1;33m\u001B[0m\u001B[1;33m\u001B[0m\u001B[0m\n\u001B[0m",
      "\u001B[1;31mTypeError\u001B[0m: batchNormalization() missing 6 required positional arguments: 'gamma', 'beta', 'moving_mean', 'moving_var', 'eps', and 'momentum'"
     ]
    }
   ],
   "source": [
    "batchNormalization(bn_input)"
   ],
   "metadata": {
    "collapsed": false,
    "ExecuteTime": {
     "end_time": "2024-11-14T08:31:33.262020Z",
     "start_time": "2024-11-14T08:31:33.243834Z"
    }
   },
   "id": "1c7cddd97596edcc",
   "execution_count": 32
  },
  {
   "cell_type": "code",
   "outputs": [],
   "source": [
    "bn = nn.BatchNorm2d(2)"
   ],
   "metadata": {
    "collapsed": false,
    "ExecuteTime": {
     "end_time": "2024-11-14T09:00:30.034529Z",
     "start_time": "2024-11-14T09:00:30.027530Z"
    }
   },
   "id": "ed2f4cbc07079925",
   "execution_count": 70
  },
  {
   "cell_type": "code",
   "outputs": [
    {
     "ename": "ValueError",
     "evalue": "expected 4D input (got 3D input)",
     "output_type": "error",
     "traceback": [
      "\u001B[1;31m---------------------------------------------------------------------------\u001B[0m",
      "\u001B[1;31mValueError\u001B[0m                                Traceback (most recent call last)",
      "\u001B[1;32m<ipython-input-46-78e3b021404c>\u001B[0m in \u001B[0;36m<module>\u001B[1;34m\u001B[0m\n\u001B[1;32m----> 1\u001B[1;33m \u001B[0mbn\u001B[0m\u001B[1;33m(\u001B[0m\u001B[0mbn_input\u001B[0m\u001B[1;33m)\u001B[0m\u001B[1;33m\u001B[0m\u001B[1;33m\u001B[0m\u001B[0m\n\u001B[0m",
      "\u001B[1;32m~\\anaconda3\\envs\\mxnet\\lib\\site-packages\\torch\\nn\\modules\\module.py\u001B[0m in \u001B[0;36m_call_impl\u001B[1;34m(self, *input, **kwargs)\u001B[0m\n\u001B[0;32m   1100\u001B[0m         if not (self._backward_hooks or self._forward_hooks or self._forward_pre_hooks or _global_backward_hooks\n\u001B[0;32m   1101\u001B[0m                 or _global_forward_hooks or _global_forward_pre_hooks):\n\u001B[1;32m-> 1102\u001B[1;33m             \u001B[1;32mreturn\u001B[0m \u001B[0mforward_call\u001B[0m\u001B[1;33m(\u001B[0m\u001B[1;33m*\u001B[0m\u001B[0minput\u001B[0m\u001B[1;33m,\u001B[0m \u001B[1;33m**\u001B[0m\u001B[0mkwargs\u001B[0m\u001B[1;33m)\u001B[0m\u001B[1;33m\u001B[0m\u001B[1;33m\u001B[0m\u001B[0m\n\u001B[0m\u001B[0;32m   1103\u001B[0m         \u001B[1;31m# Do not call functions when jit is used\u001B[0m\u001B[1;33m\u001B[0m\u001B[1;33m\u001B[0m\u001B[1;33m\u001B[0m\u001B[0m\n\u001B[0;32m   1104\u001B[0m         \u001B[0mfull_backward_hooks\u001B[0m\u001B[1;33m,\u001B[0m \u001B[0mnon_full_backward_hooks\u001B[0m \u001B[1;33m=\u001B[0m \u001B[1;33m[\u001B[0m\u001B[1;33m]\u001B[0m\u001B[1;33m,\u001B[0m \u001B[1;33m[\u001B[0m\u001B[1;33m]\u001B[0m\u001B[1;33m\u001B[0m\u001B[1;33m\u001B[0m\u001B[0m\n",
      "\u001B[1;32m~\\anaconda3\\envs\\mxnet\\lib\\site-packages\\torch\\nn\\modules\\batchnorm.py\u001B[0m in \u001B[0;36mforward\u001B[1;34m(self, input)\u001B[0m\n\u001B[0;32m    133\u001B[0m \u001B[1;33m\u001B[0m\u001B[0m\n\u001B[0;32m    134\u001B[0m     \u001B[1;32mdef\u001B[0m \u001B[0mforward\u001B[0m\u001B[1;33m(\u001B[0m\u001B[0mself\u001B[0m\u001B[1;33m,\u001B[0m \u001B[0minput\u001B[0m\u001B[1;33m:\u001B[0m \u001B[0mTensor\u001B[0m\u001B[1;33m)\u001B[0m \u001B[1;33m->\u001B[0m \u001B[0mTensor\u001B[0m\u001B[1;33m:\u001B[0m\u001B[1;33m\u001B[0m\u001B[1;33m\u001B[0m\u001B[0m\n\u001B[1;32m--> 135\u001B[1;33m         \u001B[0mself\u001B[0m\u001B[1;33m.\u001B[0m\u001B[0m_check_input_dim\u001B[0m\u001B[1;33m(\u001B[0m\u001B[0minput\u001B[0m\u001B[1;33m)\u001B[0m\u001B[1;33m\u001B[0m\u001B[1;33m\u001B[0m\u001B[0m\n\u001B[0m\u001B[0;32m    136\u001B[0m \u001B[1;33m\u001B[0m\u001B[0m\n\u001B[0;32m    137\u001B[0m         \u001B[1;31m# exponential_average_factor is set to self.momentum\u001B[0m\u001B[1;33m\u001B[0m\u001B[1;33m\u001B[0m\u001B[1;33m\u001B[0m\u001B[0m\n",
      "\u001B[1;32m~\\anaconda3\\envs\\mxnet\\lib\\site-packages\\torch\\nn\\modules\\batchnorm.py\u001B[0m in \u001B[0;36m_check_input_dim\u001B[1;34m(self, input)\u001B[0m\n\u001B[0;32m    406\u001B[0m     \u001B[1;32mdef\u001B[0m \u001B[0m_check_input_dim\u001B[0m\u001B[1;33m(\u001B[0m\u001B[0mself\u001B[0m\u001B[1;33m,\u001B[0m \u001B[0minput\u001B[0m\u001B[1;33m)\u001B[0m\u001B[1;33m:\u001B[0m\u001B[1;33m\u001B[0m\u001B[1;33m\u001B[0m\u001B[0m\n\u001B[0;32m    407\u001B[0m         \u001B[1;32mif\u001B[0m \u001B[0minput\u001B[0m\u001B[1;33m.\u001B[0m\u001B[0mdim\u001B[0m\u001B[1;33m(\u001B[0m\u001B[1;33m)\u001B[0m \u001B[1;33m!=\u001B[0m \u001B[1;36m4\u001B[0m\u001B[1;33m:\u001B[0m\u001B[1;33m\u001B[0m\u001B[1;33m\u001B[0m\u001B[0m\n\u001B[1;32m--> 408\u001B[1;33m             \u001B[1;32mraise\u001B[0m \u001B[0mValueError\u001B[0m\u001B[1;33m(\u001B[0m\u001B[1;34m\"expected 4D input (got {}D input)\"\u001B[0m\u001B[1;33m.\u001B[0m\u001B[0mformat\u001B[0m\u001B[1;33m(\u001B[0m\u001B[0minput\u001B[0m\u001B[1;33m.\u001B[0m\u001B[0mdim\u001B[0m\u001B[1;33m(\u001B[0m\u001B[1;33m)\u001B[0m\u001B[1;33m)\u001B[0m\u001B[1;33m)\u001B[0m\u001B[1;33m\u001B[0m\u001B[1;33m\u001B[0m\u001B[0m\n\u001B[0m\u001B[0;32m    409\u001B[0m \u001B[1;33m\u001B[0m\u001B[0m\n\u001B[0;32m    410\u001B[0m \u001B[1;33m\u001B[0m\u001B[0m\n",
      "\u001B[1;31mValueError\u001B[0m: expected 4D input (got 3D input)"
     ]
    }
   ],
   "source": [
    "bn(bn_input)"
   ],
   "metadata": {
    "collapsed": false,
    "ExecuteTime": {
     "end_time": "2024-11-14T08:36:20.088189Z",
     "start_time": "2024-11-14T08:36:20.061195Z"
    }
   },
   "id": "bbe28c5b2fb09808",
   "execution_count": 46
  },
  {
   "cell_type": "code",
   "outputs": [
    {
     "data": {
      "text/plain": "True"
     },
     "execution_count": 47,
     "metadata": {},
     "output_type": "execute_result"
    }
   ],
   "source": [
    "torch.is_grad_enabled()"
   ],
   "metadata": {
    "collapsed": false,
    "ExecuteTime": {
     "end_time": "2024-11-14T08:38:53.061326Z",
     "start_time": "2024-11-14T08:38:53.053312Z"
    }
   },
   "id": "bb2eea27518a72fd",
   "execution_count": 47
  },
  {
   "cell_type": "code",
   "outputs": [
    {
     "ename": "NameError",
     "evalue": "name 'Sigmoid' is not defined",
     "output_type": "error",
     "traceback": [
      "\u001B[1;31m---------------------------------------------------------------------------\u001B[0m",
      "\u001B[1;31mNameError\u001B[0m                                 Traceback (most recent call last)",
      "\u001B[1;32m<ipython-input-50-2678dffa36db>\u001B[0m in \u001B[0;36m<module>\u001B[1;34m\u001B[0m\n\u001B[1;32m----> 1\u001B[1;33m \u001B[0mSigmoid\u001B[0m\u001B[1;33m(\u001B[0m\u001B[0mbn_input\u001B[0m\u001B[1;33m)\u001B[0m\u001B[1;33m\u001B[0m\u001B[1;33m\u001B[0m\u001B[0m\n\u001B[0m",
      "\u001B[1;31mNameError\u001B[0m: name 'Sigmoid' is not defined"
     ]
    }
   ],
   "source": [
    "Sigmoid(bn_input)"
   ],
   "metadata": {
    "collapsed": false,
    "ExecuteTime": {
     "end_time": "2024-11-14T08:53:47.494579Z",
     "start_time": "2024-11-14T08:53:47.476192Z"
    }
   },
   "id": "85d9d822e8d9cfd7",
   "execution_count": 50
  },
  {
   "cell_type": "code",
   "outputs": [],
   "source": [
    "ln = nn.LayerNorm(4)"
   ],
   "metadata": {
    "collapsed": false,
    "ExecuteTime": {
     "end_time": "2024-11-14T08:59:32.135724Z",
     "start_time": "2024-11-14T08:59:32.126662Z"
    }
   },
   "id": "f8f349b609df8b30",
   "execution_count": 61
  },
  {
   "cell_type": "code",
   "outputs": [
    {
     "data": {
      "text/plain": "Parameter containing:\ntensor([1., 1., 1., 1.], requires_grad=True)"
     },
     "execution_count": 62,
     "metadata": {},
     "output_type": "execute_result"
    }
   ],
   "source": [
    "ln.weight"
   ],
   "metadata": {
    "collapsed": false,
    "ExecuteTime": {
     "end_time": "2024-11-14T08:59:33.909510Z",
     "start_time": "2024-11-14T08:59:33.898988Z"
    }
   },
   "id": "6ebccf828cf39c9c",
   "execution_count": 62
  },
  {
   "cell_type": "code",
   "outputs": [],
   "source": [
    "input = torch.randn(1,2,3,4)"
   ],
   "metadata": {
    "collapsed": false,
    "ExecuteTime": {
     "end_time": "2024-11-14T09:03:12.950608Z",
     "start_time": "2024-11-14T09:03:12.933078Z"
    }
   },
   "id": "5ad13eeccecfc12",
   "execution_count": 72
  },
  {
   "cell_type": "code",
   "outputs": [
    {
     "data": {
      "text/plain": "tensor([[[[-0.4938, -0.0699,  1.6220, -1.0583],\n          [-0.4204,  0.6967, -1.4226,  1.1463],\n          [-0.4573,  1.3256, -1.3443,  0.4760]],\n\n         [[-0.9545, -0.9178,  1.4330,  0.4393],\n          [-0.7525,  0.7001, -1.1867,  1.2391],\n          [-0.0539, -1.3965,  0.0198,  1.4306]]]],\n       grad_fn=<NativeLayerNormBackward0>)"
     },
     "execution_count": 77,
     "metadata": {},
     "output_type": "execute_result"
    }
   ],
   "source": [
    "ln(input)"
   ],
   "metadata": {
    "collapsed": false,
    "ExecuteTime": {
     "end_time": "2024-11-14T09:04:38.079627Z",
     "start_time": "2024-11-14T09:04:38.071071Z"
    }
   },
   "id": "a0f48c04efe48bf1",
   "execution_count": 77
  },
  {
   "cell_type": "code",
   "outputs": [
    {
     "data": {
      "text/plain": "tensor(-0.1227)"
     },
     "execution_count": 81,
     "metadata": {},
     "output_type": "execute_result"
    }
   ],
   "source": [
    "input[:,:,:,0].mean()"
   ],
   "metadata": {
    "collapsed": false,
    "ExecuteTime": {
     "end_time": "2024-11-14T09:05:19.823376Z",
     "start_time": "2024-11-14T09:05:19.809358Z"
    }
   },
   "id": "e022451b40560cc4",
   "execution_count": 81
  },
  {
   "cell_type": "code",
   "outputs": [
    {
     "data": {
      "text/plain": "tensor(0.0130)"
     },
     "execution_count": 82,
     "metadata": {},
     "output_type": "execute_result"
    }
   ],
   "source": [
    "input[:,:,:,0].var()"
   ],
   "metadata": {
    "collapsed": false,
    "ExecuteTime": {
     "end_time": "2024-11-14T09:06:04.633561Z",
     "start_time": "2024-11-14T09:06:04.609469Z"
    }
   },
   "id": "19d5d23c64c21dc9",
   "execution_count": 82
  },
  {
   "cell_type": "code",
   "outputs": [
    {
     "data": {
      "text/plain": "tensor([[-0.6773, -0.4444,  0.4852, -0.9874],\n        [-0.3460,  0.6279, -1.2197,  1.0198],\n        [-0.4251,  2.7350, -1.9973,  1.2291]])"
     },
     "execution_count": 85,
     "metadata": {},
     "output_type": "execute_result"
    }
   ],
   "source": [
    "(input[0,0,:,:]-input[0,0,:,:].mean())/input[0,0,:,:].var()"
   ],
   "metadata": {
    "collapsed": false,
    "ExecuteTime": {
     "end_time": "2024-11-14T09:08:45.847123Z",
     "start_time": "2024-11-14T09:08:45.830508Z"
    }
   },
   "id": "a1fb953e08f313d2",
   "execution_count": 85
  },
  {
   "cell_type": "code",
   "outputs": [
    {
     "data": {
      "text/plain": "tensor([[[[-0.5519, -0.3621,  0.3954, -0.8047],\n          [-0.2819,  0.5117, -0.9940,  0.8311],\n          [-0.3464,  2.2288, -1.6276,  1.0017]],\n\n         [[-0.5902, -0.5574,  1.5466,  0.6572],\n          [-0.6311,  0.8712, -1.0801,  1.4286],\n          [-0.4614, -1.7130, -0.3928,  0.9224]]]],\n       grad_fn=<NativeBatchNormBackward0>)"
     },
     "execution_count": 88,
     "metadata": {},
     "output_type": "execute_result"
    }
   ],
   "source": [
    "bn(input) "
   ],
   "metadata": {
    "collapsed": false,
    "ExecuteTime": {
     "end_time": "2024-11-14T09:11:35.972447Z",
     "start_time": "2024-11-14T09:11:35.963358Z"
    }
   },
   "id": "56d757dfe4064a55",
   "execution_count": 88
  },
  {
   "cell_type": "code",
   "outputs": [],
   "source": [
    "bn1 = nn.BatchNorm1d(3) # 特征数量3"
   ],
   "metadata": {
    "collapsed": false,
    "ExecuteTime": {
     "end_time": "2024-11-14T09:26:01.612273Z",
     "start_time": "2024-11-14T09:26:01.600050Z"
    }
   },
   "id": "77b78ab47cbe9a18",
   "execution_count": 121
  },
  {
   "cell_type": "code",
   "outputs": [
    {
     "data": {
      "text/plain": "tensor([[[1., 0., 2., 0., 0.],\n         [0., 1., 0., 3., 8.],\n         [2., 5., 3., 0., 6.]],\n\n        [[1., 0., 2., 7., 6.],\n         [5., 1., 0., 1., 1.],\n         [3., 5., 3., 0., 0.]]])"
     },
     "execution_count": 114,
     "metadata": {},
     "output_type": "execute_result"
    }
   ],
   "source": [
    "input = torch.tensor(\n",
    "    [[[1,0,2,0,0],\n",
    "     [0,1,0,3,8],\n",
    "     [2,5,3,0,6]],\n",
    "    [[1,0,2,7,6],\n",
    "     [5,1,0,1,1],\n",
    "     [3,5,3,0,0]]]\n",
    "    ,dtype=torch.float32\n",
    ") # 2 batch, 3 features, 5 word\n",
    "input"
   ],
   "metadata": {
    "collapsed": false,
    "ExecuteTime": {
     "end_time": "2024-11-14T09:22:52.449629Z",
     "start_time": "2024-11-14T09:22:52.432502Z"
    }
   },
   "id": "d3345bc3767aeb5e",
   "execution_count": 114
  },
  {
   "cell_type": "code",
   "outputs": [
    {
     "data": {
      "text/plain": "tensor(1.9000)"
     },
     "execution_count": 117,
     "metadata": {},
     "output_type": "execute_result"
    }
   ],
   "source": [
    "input[:,0,:].mean()"
   ],
   "metadata": {
    "collapsed": false,
    "ExecuteTime": {
     "end_time": "2024-11-14T09:23:47.600534Z",
     "start_time": "2024-11-14T09:23:47.591212Z"
    }
   },
   "id": "5566faab49944442",
   "execution_count": 117
  },
  {
   "cell_type": "code",
   "outputs": [
    {
     "data": {
      "text/plain": "tensor(6.5444)"
     },
     "execution_count": 126,
     "metadata": {},
     "output_type": "execute_result"
    }
   ],
   "source": [
    "input[:,0,:].var()"
   ],
   "metadata": {
    "collapsed": false,
    "ExecuteTime": {
     "end_time": "2024-11-14T09:28:36.248960Z",
     "start_time": "2024-11-14T09:28:36.240953Z"
    }
   },
   "id": "b603bbc5e6be7594",
   "execution_count": 126
  },
  {
   "cell_type": "code",
   "outputs": [
    {
     "data": {
      "text/plain": "tensor([[-0.3518, -0.7427,  0.0391, -0.7427, -0.7427],\n        [-0.3518, -0.7427,  0.0391,  1.9936,  1.6027]])"
     },
     "execution_count": 125,
     "metadata": {},
     "output_type": "execute_result"
    }
   ],
   "source": [
    "(input[:,0,:] - input[:,0,:].mean()) / (torch.sqrt(input[:,0,:].var() ) + 1e-5)"
   ],
   "metadata": {
    "collapsed": false,
    "ExecuteTime": {
     "end_time": "2024-11-14T09:27:24.009327Z",
     "start_time": "2024-11-14T09:27:23.994881Z"
    }
   },
   "id": "72c3d595b7d45dcf",
   "execution_count": 125
  },
  {
   "cell_type": "code",
   "outputs": [
    {
     "data": {
      "text/plain": "tensor([[[-0.3708, -0.7829,  0.0412, -0.7829, -0.7829],\n         [-0.8032, -0.4016, -0.8032,  0.4016,  2.4097],\n         [-0.3333,  1.0952,  0.1429, -1.2857,  1.5714]],\n\n        [[-0.3708, -0.7829,  0.0412,  2.1014,  1.6894],\n         [ 1.2048, -0.4016, -0.8032, -0.4016, -0.4016],\n         [ 0.1429,  1.0952,  0.1429, -1.2857, -1.2857]]],\n       grad_fn=<NativeBatchNormBackward0>)"
     },
     "execution_count": 122,
     "metadata": {},
     "output_type": "execute_result"
    }
   ],
   "source": [
    "bn1(input)"
   ],
   "metadata": {
    "collapsed": false,
    "ExecuteTime": {
     "end_time": "2024-11-14T09:26:04.222145Z",
     "start_time": "2024-11-14T09:26:04.213186Z"
    }
   },
   "id": "3424bdd99ddb0f6f",
   "execution_count": 122
  },
  {
   "cell_type": "code",
   "outputs": [
    {
     "data": {
      "text/plain": "tensor([[[[-0.1972,  0.7265],\n          [-0.1274, -0.3454],\n          [-0.4251, -0.3399],\n          [-0.0634,  1.6831]]]])"
     },
     "execution_count": 136,
     "metadata": {},
     "output_type": "execute_result"
    }
   ],
   "source": [
    "bn2 = nn.BatchNorm2d(1)\n",
    "x = torch.randn(1,1,4,2)\n",
    "x"
   ],
   "metadata": {
    "collapsed": false,
    "ExecuteTime": {
     "end_time": "2024-11-14T09:30:17.986657Z",
     "start_time": "2024-11-14T09:30:17.965580Z"
    }
   },
   "id": "eeab387626c0116c",
   "execution_count": 136
  },
  {
   "cell_type": "code",
   "outputs": [
    {
     "data": {
      "text/plain": "tensor([[[[-0.4555,  0.8969],\n          [-0.3534, -0.6725],\n          [-0.7892, -0.6645],\n          [-0.2596,  2.2976]]]], grad_fn=<NativeBatchNormBackward0>)"
     },
     "execution_count": 137,
     "metadata": {},
     "output_type": "execute_result"
    }
   ],
   "source": [
    "bn2(x)"
   ],
   "metadata": {
    "collapsed": false,
    "ExecuteTime": {
     "end_time": "2024-11-14T09:30:18.309665Z",
     "start_time": "2024-11-14T09:30:18.300132Z"
    }
   },
   "id": "ccb481078b13cac0",
   "execution_count": 137
  },
  {
   "cell_type": "code",
   "outputs": [
    {
     "name": "stdout",
     "output_type": "stream",
     "text": [
      "tensor([[[ 0.3635, -0.9590, -0.3511,  2.2032],\n",
      "         [-0.4991,  0.2462,  0.4101,  1.0989],\n",
      "         [ 0.7936, -0.4599,  1.7564,  0.1505]],\n",
      "\n",
      "        [[ 0.2624, -1.3754, -0.0637, -0.0799],\n",
      "         [ 0.5055,  0.2822,  0.3728, -2.4166],\n",
      "         [-0.3519,  0.2814, -0.2209, -1.9491]]],\n",
      "       grad_fn=<NativeBatchNormBackward0>)\n"
     ]
    }
   ],
   "source": [
    "input = torch.randn(2,3,4) # 2:batch, 3:feature, 4:sequence length\n",
    "bn1 = nn.BatchNorm1d(3) # 选取特征为2\n",
    "print(bn1(input))"
   ],
   "metadata": {
    "collapsed": false,
    "ExecuteTime": {
     "end_time": "2024-11-14T09:54:03.525578Z",
     "start_time": "2024-11-14T09:54:03.509042Z"
    }
   },
   "id": "9d500b9e3ffe13b7",
   "execution_count": 182
  },
  {
   "cell_type": "code",
   "outputs": [],
   "source": [
    "a1 = (input[:,0,:] - input[:,0,:].mean()) / torch.sqrt(input[:,0,:].var(unbiased=False) + 1e-5)\n",
    "a2 = (input[:,1,:] - input[:,1,:].mean()) / torch.sqrt(input[:,1,:].var(unbiased=False) + 1e-5)\n",
    "a3 = (input[:,2,:] - input[:,2,:].mean()) / torch.sqrt(input[:,2,:].var(unbiased=False) + 1e-5)"
   ],
   "metadata": {
    "collapsed": false,
    "ExecuteTime": {
     "end_time": "2024-11-14T09:54:35.451130Z",
     "start_time": "2024-11-14T09:54:35.439133Z"
    }
   },
   "id": "85c3249de0ec9896",
   "execution_count": 184
  },
  {
   "cell_type": "code",
   "outputs": [
    {
     "data": {
      "text/plain": "tensor([[[True, True, True, True],\n         [True, True, True, True],\n         [True, True, True, True]],\n\n        [[True, True, True, True],\n         [True, True, True, True],\n         [True, True, True, True]]])"
     },
     "execution_count": 192,
     "metadata": {},
     "output_type": "execute_result"
    }
   ],
   "source": [
    "a = torch.zeros(2,3,4)\n",
    "a[:,0,:]=a1\n",
    "a[:,1,:]=a2\n",
    "a[:,2,:]=a3\n",
    "a - bn1(input) < 1e-5"
   ],
   "metadata": {
    "collapsed": false,
    "ExecuteTime": {
     "end_time": "2024-11-14T09:57:21.145977Z",
     "start_time": "2024-11-14T09:57:21.133578Z"
    }
   },
   "id": "75b4da789358c3da",
   "execution_count": 192
  },
  {
   "cell_type": "code",
   "outputs": [
    {
     "data": {
      "text/plain": "(Parameter containing:\n tensor([ 0.4261, -0.1346,  1.1897, -0.6672], requires_grad=True),\n Parameter containing:\n tensor([-1.2664, -1.0838,  0.7171, -0.1019], requires_grad=True))"
     },
     "execution_count": 251,
     "metadata": {},
     "output_type": "execute_result"
    }
   ],
   "source": [
    "ln1 = nn.LayerNorm(4)# 4 features\n",
    "alpha = ln1.weight = torch.nn.Parameter(torch.randn(4))\n",
    "beta = ln1.bias = torch.nn.Parameter(torch.randn(4))\n",
    "ln1.weight, ln1.bias"
   ],
   "metadata": {
    "collapsed": false,
    "ExecuteTime": {
     "end_time": "2024-11-14T10:20:57.846989Z",
     "start_time": "2024-11-14T10:20:57.839290Z"
    }
   },
   "id": "b931ac63007683e",
   "execution_count": 251
  },
  {
   "cell_type": "code",
   "outputs": [
    {
     "data": {
      "text/plain": "tensor([[[-1.2487, -0.9394,  0.0503, -1.1637],\n         [-1.8762, -1.0677,  0.9184, -1.0235],\n         [-1.1452, -0.9165,  2.4514,  0.2312]],\n\n        [[-0.8751, -0.8562,  1.1918, -0.3508],\n         [-0.9794, -1.1497,  1.3889,  1.0512],\n         [-1.1603, -1.2192,  1.1998,  1.0065]]],\n       grad_fn=<NativeLayerNormBackward0>)"
     },
     "execution_count": 252,
     "metadata": {},
     "output_type": "execute_result"
    }
   ],
   "source": [
    "ln1(input)"
   ],
   "metadata": {
    "collapsed": false,
    "ExecuteTime": {
     "end_time": "2024-11-14T10:20:59.399942Z",
     "start_time": "2024-11-14T10:20:59.385387Z"
    }
   },
   "id": "76260c6417d4fb0e",
   "execution_count": 252
  },
  {
   "cell_type": "code",
   "outputs": [
    {
     "data": {
      "text/plain": "tensor([[[True, True, True, True],\n         [True, True, True, True],\n         [True, True, True, True]],\n\n        [[True, True, True, True],\n         [True, True, True, True],\n         [True, True, True, True]]])"
     },
     "execution_count": 255,
     "metadata": {},
     "output_type": "execute_result"
    }
   ],
   "source": [
    "b = torch.zeros(2,3,4)\n",
    "b[0,0,:] = alpha * (input[0,0,:] - input[0,0,:].mean()) / torch.sqrt(input[0,0,:].var(unbiased=False) + 1e-5) + beta\n",
    "b[0,1,:] = alpha *(input[0,1,:] - input[0,1,:].mean()) / torch.sqrt(input[0,1,:].var(unbiased=False) + 1e-5)+ beta\n",
    "b[0,2,:] = alpha *(input[0,2,:] - input[0,2,:].mean()) / torch.sqrt(input[0,2,:].var(unbiased=False) + 1e-5)+ beta\n",
    "b[1,0,:] = alpha *(input[1,0,:] - input[1,0,:].mean()) / torch.sqrt(input[1,0,:].var(unbiased=False) + 1e-5)+ beta\n",
    "b[1,1,:] = alpha *(input[1,1,:] - input[1,1,:].mean()) / torch.sqrt(input[1,1,:].var(unbiased=False) + 1e-5)+ beta\n",
    "b[1,2,:] = alpha *(input[1,2,:] - input[1,2,:].mean()) / torch.sqrt(input[1,2,:].var(unbiased=False) + 1e-5)+ beta\n",
    "b - ln1(input) < 1e-5"
   ],
   "metadata": {
    "collapsed": false,
    "ExecuteTime": {
     "end_time": "2024-11-14T10:21:24.750281Z",
     "start_time": "2024-11-14T10:21:24.732818Z"
    }
   },
   "id": "24d044a0549b5bae",
   "execution_count": 255
  },
  {
   "cell_type": "code",
   "outputs": [
    {
     "data": {
      "text/plain": "tensor([1., 1.])"
     },
     "execution_count": 227,
     "metadata": {},
     "output_type": "execute_result"
    }
   ],
   "source": [
    "p = torch.tensor([1,0],dtype=torch.float32)\n",
    "p"
   ],
   "metadata": {
    "collapsed": false,
    "ExecuteTime": {
     "end_time": "2024-11-14T10:05:51.504256Z",
     "start_time": "2024-11-14T10:05:51.490736Z"
    }
   },
   "id": "ba3f9e77b0b734b1",
   "execution_count": 227
  },
  {
   "cell_type": "code",
   "outputs": [
    {
     "data": {
      "text/plain": "tensor(0.)"
     },
     "execution_count": 228,
     "metadata": {},
     "output_type": "execute_result"
    }
   ],
   "source": [
    "p.var(unbiased=False)"
   ],
   "metadata": {
    "collapsed": false,
    "ExecuteTime": {
     "end_time": "2024-11-14T10:05:51.938640Z",
     "start_time": "2024-11-14T10:05:51.925842Z"
    }
   },
   "id": "1630b40c502222ca",
   "execution_count": 228
  },
  {
   "cell_type": "code",
   "outputs": [],
   "source": [],
   "metadata": {
    "collapsed": false
   },
   "id": "c10fd2e68d10719d"
  }
 ],
 "metadata": {
  "kernelspec": {
   "display_name": "Python 3",
   "language": "python",
   "name": "python3"
  },
  "language_info": {
   "codemirror_mode": {
    "name": "ipython",
    "version": 2
   },
   "file_extension": ".py",
   "mimetype": "text/x-python",
   "name": "python",
   "nbconvert_exporter": "python",
   "pygments_lexer": "ipython2",
   "version": "2.7.6"
  }
 },
 "nbformat": 4,
 "nbformat_minor": 5
}
