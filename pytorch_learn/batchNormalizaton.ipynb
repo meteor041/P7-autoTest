{
 "cells": [
  {
   "cell_type": "code",
   "execution_count": 2,
   "id": "initial_id",
   "metadata": {
    "collapsed": true,
    "ExecuteTime": {
     "end_time": "2024-11-14T07:55:44.330109Z",
     "start_time": "2024-11-14T07:55:43.507500Z"
    }
   },
   "outputs": [],
   "source": [
    "import torch\n",
    "from torch import nn\n",
    "from d2l import torch as d2l"
   ]
  },
  {
   "cell_type": "code",
   "outputs": [],
   "source": [
    "def batchNormalization(X, gamma, beta, moving_mean, moving_var, eps, momentum):\n",
    "    if not torch.is_grad_enabled():\n",
    "        X_hat = (X - moving_mean) / torch.sqrt(moving_var + eps)\n",
    "    else:\n",
    "        assert len(X.shape) in (2, 4)\n",
    "        if len(X.shape) == 2:\n",
    "            mean = X.mean(dim=0)\n",
    "            var = ((X - mean)**2).mean(dim=0)\n",
    "        else:\n",
    "            mean = X.mean(dim=(0,2,3), keepdims=True)\n",
    "            var = ((X - mean)**2).mean(dim=(0,2,3),keepdim=True)\n",
    "        X_hat = (X - mean) / torch.sqrt(var + eps)\n",
    "        moving_mean = momentum * moving_mean + (1 - momentum) * mean\n",
    "        moving_var = momentum * moving_var + (1 - momentum) * var\n",
    "    Y=gamma * X_hat + beta\n",
    "    return Y, moving_mean, moving_var.data"
   ],
   "metadata": {
    "collapsed": false,
    "ExecuteTime": {
     "end_time": "2024-11-14T07:59:57.773128Z",
     "start_time": "2024-11-14T07:59:57.763112Z"
    }
   },
   "id": "d728c8f2c1513b6e",
   "execution_count": 3
  },
  {
   "cell_type": "code",
   "outputs": [
    {
     "data": {
      "text/plain": "tensor([[[-1.7600,  1.2787,  1.9835],\n         [ 1.0104,  0.9450,  1.2862]],\n\n        [[ 0.2103,  0.6154, -1.7522],\n         [-0.5461, -2.8473,  1.0881]]])"
     },
     "execution_count": 18,
     "metadata": {},
     "output_type": "execute_result"
    }
   ],
   "source": [
    "X = torch.randn(2,2,3)\n",
    "X"
   ],
   "metadata": {
    "collapsed": false,
    "ExecuteTime": {
     "end_time": "2024-11-14T08:02:55.058839Z",
     "start_time": "2024-11-14T08:02:55.046364Z"
    }
   },
   "id": "9b8ba96439a2282e",
   "execution_count": 18
  },
  {
   "cell_type": "code",
   "outputs": [
    {
     "data": {
      "text/plain": "tensor([0.0959, 0.1561])"
     },
     "execution_count": 19,
     "metadata": {},
     "output_type": "execute_result"
    }
   ],
   "source": [
    "X.mean(dim=(0,2))"
   ],
   "metadata": {
    "collapsed": false,
    "ExecuteTime": {
     "end_time": "2024-11-14T08:02:57.139617Z",
     "start_time": "2024-11-14T08:02:57.124618Z"
    }
   },
   "id": "e4dc5eacbb126c3",
   "execution_count": 19
  },
  {
   "cell_type": "code",
   "outputs": [
    {
     "data": {
      "text/plain": "tensor([[-1.7600,  1.2787,  1.9835],\n        [ 1.0104,  0.9450,  1.2862]])"
     },
     "execution_count": 20,
     "metadata": {},
     "output_type": "execute_result"
    }
   ],
   "source": [
    "X[0]"
   ],
   "metadata": {
    "collapsed": false,
    "ExecuteTime": {
     "end_time": "2024-11-14T08:03:33.421842Z",
     "start_time": "2024-11-14T08:03:33.415844Z"
    }
   },
   "id": "bee8e786b90b9a",
   "execution_count": 20
  },
  {
   "cell_type": "code",
   "outputs": [
    {
     "data": {
      "text/plain": "tensor(0.1561)"
     },
     "execution_count": 29,
     "metadata": {},
     "output_type": "execute_result"
    }
   ],
   "source": [
    "torch.cat((X[0][0], X[1][0]),dim=0).mean()\n",
    "torch.cat((X[0][1], X[1][1]),dim=0).mean()"
   ],
   "metadata": {
    "collapsed": false,
    "ExecuteTime": {
     "end_time": "2024-11-14T08:04:56.136961Z",
     "start_time": "2024-11-14T08:04:56.123102Z"
    }
   },
   "id": "baa29f28cad10602",
   "execution_count": 29
  },
  {
   "cell_type": "code",
   "outputs": [],
   "source": [],
   "metadata": {
    "collapsed": false
   },
   "id": "66d046715ed3ca6a"
  },
  {
   "cell_type": "markdown",
   "source": [
    "$\\hat{x}$"
   ],
   "metadata": {
    "collapsed": false
   },
   "id": "e9baab5ca36aea41"
  },
  {
   "cell_type": "code",
   "outputs": [],
   "source": [],
   "metadata": {
    "collapsed": false
   },
   "id": "1c7cddd97596edcc"
  }
 ],
 "metadata": {
  "kernelspec": {
   "display_name": "Python 3",
   "language": "python",
   "name": "python3"
  },
  "language_info": {
   "codemirror_mode": {
    "name": "ipython",
    "version": 2
   },
   "file_extension": ".py",
   "mimetype": "text/x-python",
   "name": "python",
   "nbconvert_exporter": "python",
   "pygments_lexer": "ipython2",
   "version": "2.7.6"
  }
 },
 "nbformat": 4,
 "nbformat_minor": 5
}
