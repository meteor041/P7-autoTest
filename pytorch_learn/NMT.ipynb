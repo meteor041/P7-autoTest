{
 "cells": [
  {
   "cell_type": "code",
   "execution_count": 5,
   "id": "initial_id",
   "metadata": {
    "collapsed": true,
    "ExecuteTime": {
     "end_time": "2024-11-17T14:15:49.679365Z",
     "start_time": "2024-11-17T14:15:49.663366Z"
    }
   },
   "outputs": [],
   "source": [
    "from __future__ import unicode_literals, print_function, division\n",
    "from io import open\n",
    "import unicodedata\n",
    "import re\n",
    "import random\n",
    "import torch\n",
    "import torch.nn as nn\n",
    "from torch import optim\n",
    "import torch.nn.functional as F"
   ]
  },
  {
   "cell_type": "code",
   "outputs": [],
   "source": [
    "SOS_taken = 0\n",
    "EOS_taken = 1"
   ],
   "metadata": {
    "collapsed": false,
    "ExecuteTime": {
     "end_time": "2024-11-13T15:50:29.982501Z",
     "start_time": "2024-11-13T15:50:29.968097Z"
    }
   },
   "id": "d3514e27ab68cbc5",
   "execution_count": 3
  },
  {
   "cell_type": "code",
   "outputs": [],
   "source": [
    "class LangEmbed:\n",
    "    def __init__(self, name):\n",
    "        self.name = name\n",
    "        self.word2index = {}\n",
    "        self.word2count = {}\n",
    "        self.index2word = {0:'SOS', 1:'EOS'}\n",
    "        self.n_words = 2\n",
    "    \n",
    "    def addSentence(self, sentence):\n",
    "        for word in sentence.split(' '):\n",
    "            self.addWord(word)\n",
    "    \n",
    "    def addWord(self, word):\n",
    "        if word not in self.word2index:\n",
    "            self.word2index[word] = self.n_words\n",
    "            self.word2count[word] = 1\n",
    "            self.index2word[self.n_words] = word\n",
    "            self.n_words += 1\n",
    "        else:\n",
    "            self.word2count[word] += 1"
   ],
   "metadata": {
    "collapsed": false,
    "ExecuteTime": {
     "end_time": "2024-11-13T15:54:15.374368Z",
     "start_time": "2024-11-13T15:54:15.369372Z"
    }
   },
   "id": "6e932a3237aac90c",
   "execution_count": 5
  },
  {
   "cell_type": "code",
   "outputs": [
    {
     "data": {
      "text/plain": "tensor([1., 2., 3.])"
     },
     "execution_count": 46,
     "metadata": {},
     "output_type": "execute_result"
    }
   ],
   "source": [
    "t = torch.Tensor([1,2,3])\n",
    "t"
   ],
   "metadata": {
    "collapsed": false,
    "ExecuteTime": {
     "end_time": "2024-11-13T17:31:47.811245Z",
     "start_time": "2024-11-13T17:31:47.800237Z"
    }
   },
   "id": "98b65996b1fc237d",
   "execution_count": 46
  },
  {
   "cell_type": "code",
   "outputs": [
    {
     "data": {
      "text/plain": "tensor([1., 2., 3.])"
     },
     "execution_count": 47,
     "metadata": {},
     "output_type": "execute_result"
    }
   ],
   "source": [
    "t.data"
   ],
   "metadata": {
    "collapsed": false,
    "ExecuteTime": {
     "end_time": "2024-11-13T17:31:48.502984Z",
     "start_time": "2024-11-13T17:31:48.485546Z"
    }
   },
   "id": "1ce4d10e482e1fe",
   "execution_count": 47
  },
  {
   "cell_type": "code",
   "outputs": [
    {
     "data": {
      "text/plain": "tensor([0.7311, 0.8808, 0.9526])"
     },
     "execution_count": 48,
     "metadata": {},
     "output_type": "execute_result"
    }
   ],
   "source": [
    "t.data == t\n",
    "t.requires_grad = True\n",
    "out = t.sigmoid()\n",
    "d = out.data\n",
    "d"
   ],
   "metadata": {
    "collapsed": false,
    "ExecuteTime": {
     "end_time": "2024-11-13T17:31:49.091586Z",
     "start_time": "2024-11-13T17:31:49.078214Z"
    }
   },
   "id": "8fb8cb51cf988546",
   "execution_count": 48
  },
  {
   "cell_type": "code",
   "outputs": [
    {
     "data": {
      "text/plain": "tensor([1., 2., 3.], requires_grad=True)"
     },
     "execution_count": 49,
     "metadata": {},
     "output_type": "execute_result"
    }
   ],
   "source": [
    "d.zero_()\n",
    "t"
   ],
   "metadata": {
    "collapsed": false,
    "ExecuteTime": {
     "end_time": "2024-11-13T17:31:50.096348Z",
     "start_time": "2024-11-13T17:31:50.091830Z"
    }
   },
   "id": "f9637473a9a42135",
   "execution_count": 49
  },
  {
   "cell_type": "code",
   "outputs": [],
   "source": [
    "t.sum().backward()"
   ],
   "metadata": {
    "collapsed": false,
    "ExecuteTime": {
     "end_time": "2024-11-13T17:32:03.085557Z",
     "start_time": "2024-11-13T17:32:03.071491Z"
    }
   },
   "id": "dfb837336e682799",
   "execution_count": 58
  },
  {
   "cell_type": "code",
   "outputs": [
    {
     "data": {
      "text/plain": "tensor([4., 4., 4.])"
     },
     "execution_count": 59,
     "metadata": {},
     "output_type": "execute_result"
    }
   ],
   "source": [
    "t.grad"
   ],
   "metadata": {
    "collapsed": false,
    "ExecuteTime": {
     "end_time": "2024-11-13T17:32:03.238930Z",
     "start_time": "2024-11-13T17:32:03.225422Z"
    }
   },
   "id": "9d076c6d46e7b358",
   "execution_count": 59
  },
  {
   "cell_type": "code",
   "outputs": [
    {
     "data": {
      "text/plain": "False"
     },
     "execution_count": 52,
     "metadata": {},
     "output_type": "execute_result"
    }
   ],
   "source": [
    "d.requires_grad"
   ],
   "metadata": {
    "collapsed": false,
    "ExecuteTime": {
     "end_time": "2024-11-13T17:31:53.988097Z",
     "start_time": "2024-11-13T17:31:53.982302Z"
    }
   },
   "id": "3fe21c12e862c42c",
   "execution_count": 52
  },
  {
   "cell_type": "code",
   "outputs": [
    {
     "data": {
      "text/plain": "tensor([[ 1.,  2.,  3.,  3.,  4.,  5.],\n        [ 2.,  3.,  4.,  8.,  9., 10.]])"
     },
     "execution_count": 64,
     "metadata": {},
     "output_type": "execute_result"
    }
   ],
   "source": [
    "a=torch.Tensor([[1,2,3],[2,3,4]])\n",
    "b=torch.Tensor([[3,4,5],[8,9,10]])\n",
    "torch.cat((a,b),1)"
   ],
   "metadata": {
    "collapsed": false,
    "ExecuteTime": {
     "end_time": "2024-11-13T17:43:32.479731Z",
     "start_time": "2024-11-13T17:43:32.470261Z"
    }
   },
   "id": "b71cb3cdf25bb119",
   "execution_count": 64
  },
  {
   "cell_type": "code",
   "outputs": [],
   "source": [
    "c=torch.randn(4,1,5,1,9,1)"
   ],
   "metadata": {
    "collapsed": false,
    "ExecuteTime": {
     "end_time": "2024-11-13T17:46:41.484136Z",
     "start_time": "2024-11-13T17:46:41.475207Z"
    }
   },
   "id": "ea75ee0a7ac0fa9f",
   "execution_count": 76
  },
  {
   "cell_type": "code",
   "outputs": [
    {
     "data": {
      "text/plain": "torch.Size([4, 1, 5, 1, 9, 1])"
     },
     "execution_count": 77,
     "metadata": {},
     "output_type": "execute_result"
    }
   ],
   "source": [
    "c.shape"
   ],
   "metadata": {
    "collapsed": false,
    "ExecuteTime": {
     "end_time": "2024-11-13T17:46:41.636773Z",
     "start_time": "2024-11-13T17:46:41.622092Z"
    }
   },
   "id": "fdeaa571e65f31db",
   "execution_count": 77
  },
  {
   "cell_type": "code",
   "outputs": [
    {
     "data": {
      "text/plain": "torch.Size([4, 1, 5, 9, 1])"
     },
     "execution_count": 81,
     "metadata": {},
     "output_type": "execute_result"
    }
   ],
   "source": [
    "c.squeeze(3).shape"
   ],
   "metadata": {
    "collapsed": false,
    "ExecuteTime": {
     "end_time": "2024-11-13T17:46:57.962237Z",
     "start_time": "2024-11-13T17:46:57.952232Z"
    }
   },
   "id": "4bbc21d323b5b604",
   "execution_count": 81
  },
  {
   "cell_type": "code",
   "outputs": [
    {
     "data": {
      "text/plain": "torch.Size([2, 2])"
     },
     "execution_count": 29,
     "metadata": {},
     "output_type": "execute_result"
    }
   ],
   "source": [
    "\n",
    "a=torch.tensor([[1,2],[3,4]])\n",
    "a.shape,a.unsqueeze(0).shape,a.unsqueeze(1).shape,a.unsqueeze(2).shape,a.unsqueeze(-1).shape\n",
    "a.unsqueeze(1)\n",
    "a.squeeze(1).shape"
   ],
   "metadata": {
    "collapsed": false,
    "ExecuteTime": {
     "end_time": "2024-11-17T14:22:20.845561Z",
     "start_time": "2024-11-17T14:22:20.834706Z"
    }
   },
   "id": "e5e8625192bf1193",
   "execution_count": 29
  },
  {
   "cell_type": "code",
   "outputs": [],
   "source": [],
   "metadata": {
    "collapsed": false
   },
   "id": "f7d09de6aea01dda"
  }
 ],
 "metadata": {
  "kernelspec": {
   "display_name": "Python 3",
   "language": "python",
   "name": "python3"
  },
  "language_info": {
   "codemirror_mode": {
    "name": "ipython",
    "version": 2
   },
   "file_extension": ".py",
   "mimetype": "text/x-python",
   "name": "python",
   "nbconvert_exporter": "python",
   "pygments_lexer": "ipython2",
   "version": "2.7.6"
  }
 },
 "nbformat": 4,
 "nbformat_minor": 5
}
