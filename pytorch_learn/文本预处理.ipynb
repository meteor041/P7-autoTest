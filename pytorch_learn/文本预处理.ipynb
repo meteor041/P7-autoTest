{
 "cells": [
  {
   "cell_type": "code",
   "execution_count": 3,
   "id": "initial_id",
   "metadata": {
    "collapsed": true,
    "ExecuteTime": {
     "end_time": "2024-11-14T14:31:27.045040Z",
     "start_time": "2024-11-14T14:31:26.077847Z"
    }
   },
   "outputs": [],
   "source": [
    "import collections\n",
    "import re\n",
    "from d2l import torch as d2l"
   ]
  },
  {
   "cell_type": "markdown",
   "source": [
    "## 读取数据集"
   ],
   "metadata": {
    "collapsed": false
   },
   "id": "e1110fe98eeba3d9"
  },
  {
   "cell_type": "code",
   "outputs": [],
   "source": [
    "#@save\n",
    "d2l.DATA_HUB['time_machine'] = (d2l.DATA_URL + 'timemachine.txt',\n",
    "                                '090b5e7e70c295757f55df93cb0a180b9691891a')\n",
    "def read_time_machine(): #@save\n",
    "    with open(d2l.download('time_machine'), 'r') as f:\n",
    "        lines = f.readlines()\n",
    "    return [re.sub('[^A-Za-z]+', ' ', line).strip().lower() for line in lines]"
   ],
   "metadata": {
    "collapsed": false,
    "ExecuteTime": {
     "end_time": "2024-11-14T14:37:21.346858Z",
     "start_time": "2024-11-14T14:37:21.327965Z"
    }
   },
   "id": "72db2699893dafa1",
   "execution_count": 10
  },
  {
   "cell_type": "code",
   "outputs": [
    {
     "name": "stdout",
     "output_type": "stream",
     "text": [
      "Downloading ..\\data\\timemachine.txt from http://d2l-data.s3-accelerate.amazonaws.com/timemachine.txt...\n",
      "# 文本总行数:3221\n",
      "the time machine by h g wells\n",
      "twinkled and his usually pale face was flushed and animated the\n"
     ]
    }
   ],
   "source": [
    "lines = read_time_machine()\n",
    "print(f'# 文本总行数:{len(lines)}')\n",
    "print(lines[0])\n",
    "print(lines[10])"
   ],
   "metadata": {
    "collapsed": false,
    "ExecuteTime": {
     "end_time": "2024-11-14T14:37:24.113522Z",
     "start_time": "2024-11-14T14:37:23.112702Z"
    }
   },
   "id": "3bc831efeaabf482",
   "execution_count": 11
  },
  {
   "cell_type": "markdown",
   "source": [
    "## 词元化"
   ],
   "metadata": {
    "collapsed": false
   },
   "id": "99a194142dbe6c69"
  },
  {
   "cell_type": "code",
   "outputs": [
    {
     "name": "stdout",
     "output_type": "stream",
     "text": [
      "['the', 'time', 'machine', 'by', 'h', 'g', 'wells']\n",
      "[]\n",
      "[]\n",
      "[]\n",
      "[]\n",
      "['i']\n",
      "[]\n",
      "[]\n",
      "['the', 'time', 'traveller', 'for', 'so', 'it', 'will', 'be', 'convenient', 'to', 'speak', 'of', 'him']\n",
      "['was', 'expounding', 'a', 'recondite', 'matter', 'to', 'us', 'his', 'grey', 'eyes', 'shone', 'and']\n",
      "['twinkled', 'and', 'his', 'usually', 'pale', 'face', 'was', 'flushed', 'and', 'animated', 'the']\n"
     ]
    }
   ],
   "source": [
    "def tokenize(lines, token='word'): #@save\n",
    "    if token == 'word': \n",
    "        return [line.split() for line in lines]\n",
    "    elif token == 'char':\n",
    "        return [list(line) for line in lines]\n",
    "    else:\n",
    "        print('mistake')\n",
    "\n",
    "tokens = tokenize(lines)\n",
    "for i in range(11):\n",
    "    print(tokens[i])"
   ],
   "metadata": {
    "collapsed": false,
    "ExecuteTime": {
     "end_time": "2024-11-14T17:27:49.360016Z",
     "start_time": "2024-11-14T17:27:49.347615Z"
    }
   },
   "id": "9d37fe53c9c8025f",
   "execution_count": 20
  },
  {
   "cell_type": "markdown",
   "source": [
    "## 词表"
   ],
   "metadata": {
    "collapsed": false
   },
   "id": "2b19c66753bafb19"
  },
  {
   "cell_type": "code",
   "outputs": [],
   "source": [
    "class Vocab:  #@save\n",
    "    \"\"\"文本词表\"\"\"\n",
    "    def __init__(self, tokens=None, min_freq=0, reserved_tokens=None):\n",
    "        if tokens is None:\n",
    "            tokens = []\n",
    "        if reserved_tokens is None:\n",
    "            reserved_tokens = []\n",
    "        # 按出现频率排序\n",
    "        counter = count_corpus(tokens)\n",
    "        self._token_freqs = sorted(counter.items(), key=lambda x: x[1],\n",
    "                                   reverse=True)\n",
    "        # 未知词元的索引为0\n",
    "        self.idx_to_token = ['<unk>'] + reserved_tokens\n",
    "        self.token_to_idx = {token: idx\n",
    "                             for idx, token in enumerate(self.idx_to_token)}\n",
    "        for token, freq in self._token_freqs:\n",
    "            if freq < min_freq:\n",
    "                break\n",
    "            if token not in self.token_to_idx:\n",
    "                self.idx_to_token.append(token)\n",
    "                self.token_to_idx[token] = len(self.idx_to_token) - 1\n",
    "\n",
    "    def __len__(self):\n",
    "        return len(self.idx_to_token)\n",
    "\n",
    "    def __getitem__(self, tokens):\n",
    "        if not isinstance(tokens, (list, tuple)):\n",
    "            return self.token_to_idx.get(tokens, self.unk)\n",
    "        return [self.__getitem__(token) for token in tokens]\n",
    "\n",
    "    def to_tokens(self, indices):\n",
    "        if not isinstance(indices, (list, tuple)):\n",
    "            return self.idx_to_token[indices]\n",
    "        return [self.idx_to_token[index] for index in indices]\n",
    "\n",
    "    @property\n",
    "    def unk(self):  # 未知词元的索引为0\n",
    "        return 0\n",
    "\n",
    "    @property\n",
    "    def token_freqs(self):\n",
    "        return self._token_freqs\n",
    "\n",
    "def count_corpus(tokens):  #@save\n",
    "    \"\"\"统计词元的频率\"\"\"\n",
    "    # 这里的tokens是1D列表或2D列表\n",
    "    if len(tokens) == 0 or isinstance(tokens[0], list):\n",
    "        # 将词元列表展平成一个列表\n",
    "        tokens = [token for line in tokens for token in line]\n",
    "    return collections.Counter(tokens)"
   ],
   "metadata": {
    "collapsed": false,
    "ExecuteTime": {
     "end_time": "2024-11-14T17:21:08.358127Z",
     "start_time": "2024-11-14T17:21:08.329990Z"
    }
   },
   "id": "96379768706a8d5d",
   "execution_count": 15
  },
  {
   "cell_type": "code",
   "outputs": [
    {
     "name": "stdout",
     "output_type": "stream",
     "text": [
      "[('<unk>', 0), ('the', 1), ('i', 2), ('and', 3), ('of', 4), ('a', 5), ('to', 6), ('was', 7), ('in', 8), ('that', 9)]\n"
     ]
    }
   ],
   "source": [
    "vocab = Vocab(tokens)\n",
    "print(list(vocab.token_to_idx.items())[:10])"
   ],
   "metadata": {
    "collapsed": false,
    "ExecuteTime": {
     "end_time": "2024-11-14T17:21:21.379357Z",
     "start_time": "2024-11-14T17:21:21.360302Z"
    }
   },
   "id": "206d2b747ac8a895",
   "execution_count": 16
  },
  {
   "cell_type": "code",
   "outputs": [
    {
     "data": {
      "text/plain": "[('the', 2261),\n ('i', 1267),\n ('and', 1245),\n ('of', 1155),\n ('a', 816),\n ('to', 695),\n ('was', 552),\n ('in', 541),\n ('that', 443),\n ('my', 440)]"
     },
     "execution_count": 49,
     "metadata": {},
     "output_type": "execute_result"
    }
   ],
   "source": [
    "def load_corpus_time_machine(max_tokens=-1):  #@save\n",
    "    \"\"\"返回时光机器数据集的词元索引列表和词表\"\"\"\n",
    "    lines = read_time_machine()\n",
    "    tokens = tokenize(lines, 'word')\n",
    "    vocab = Vocab(tokens)\n",
    "    # 因为时光机器数据集中的每个文本行不一定是一个句子或一个段落，\n",
    "    # 所以将所有文本行展平到一个列表中\n",
    "    corpus = [token for line in tokens for token in line]\n",
    "    if max_tokens > 0:\n",
    "        corpus = corpus[:max_tokens]\n",
    "    return corpus, vocab\n",
    "\n",
    "corpus, vocab = load_corpus_time_machine()\n",
    "len(corpus), len(vocab)\n",
    "vocab.token_freqs[:10]"
   ],
   "metadata": {
    "collapsed": false,
    "ExecuteTime": {
     "end_time": "2024-11-14T17:49:56.428533Z",
     "start_time": "2024-11-14T17:49:56.392095Z"
    }
   },
   "id": "10568de7797c8926",
   "execution_count": 49
  },
  {
   "cell_type": "code",
   "outputs": [
    {
     "name": "stdout",
     "output_type": "stream",
     "text": [
      "5\n",
      "0\n",
      "0\n",
      "1108\n",
      "0\n",
      "0\n",
      "2184\n",
      "2183\n",
      "2\n",
      "0\n",
      "0\n",
      "0\n",
      "376\n",
      "0\n",
      "1143\n",
      "0\n",
      "0\n",
      "0\n",
      "67\n",
      "160\n",
      "0\n",
      "3046\n",
      "0\n",
      "4207\n",
      "0\n",
      "0\n"
     ]
    }
   ],
   "source": [
    "for x in range(ord('a'),ord('z')+1):\n",
    "    c = chr(x)\n",
    "    print(vocab.__getitem__(c))"
   ],
   "metadata": {
    "collapsed": false,
    "ExecuteTime": {
     "end_time": "2024-11-14T17:49:58.534916Z",
     "start_time": "2024-11-14T17:49:58.514793Z"
    }
   },
   "id": "59bbb9d3b87fa9f8",
   "execution_count": 50
  },
  {
   "cell_type": "code",
   "outputs": [
    {
     "data": {
      "text/plain": "[('the', 2261),\n ('i', 1267),\n ('and', 1245),\n ('of', 1155),\n ('a', 816),\n ('to', 695),\n ('was', 552),\n ('in', 541),\n ('that', 443),\n ('my', 440),\n ('it', 437),\n ('had', 354),\n ('me', 281),\n ('as', 270),\n ('at', 243),\n ('for', 221),\n ('with', 216),\n ('but', 204),\n ('time', 200),\n ('were', 158),\n ('this', 152),\n ('you', 137),\n ('on', 137),\n ('then', 134),\n ('his', 129),\n ('there', 127),\n ('he', 123),\n ('have', 122),\n ('they', 122),\n ('from', 122),\n ('one', 120),\n ('all', 118),\n ('not', 114),\n ('into', 114),\n ('upon', 113),\n ('little', 113),\n ('so', 112),\n ('is', 106),\n ('came', 105),\n ('by', 103),\n ('some', 94),\n ('be', 93),\n ('no', 92),\n ('could', 92),\n ('their', 91),\n ('said', 89),\n ('saw', 88),\n ('down', 87),\n ('them', 86),\n ('machine', 85),\n ('which', 85),\n ('very', 85),\n ('or', 84),\n ('an', 84),\n ('we', 82),\n ('now', 79),\n ('what', 77),\n ('been', 75),\n ('these', 74),\n ('like', 74),\n ('her', 74),\n ('out', 73),\n ('seemed', 72),\n ('up', 71),\n ('man', 70),\n ('about', 70),\n ('s', 70),\n ('its', 69),\n ('thing', 66),\n ('again', 62),\n ('traveller', 61),\n ('would', 60),\n ('more', 59),\n ('white', 59),\n ('our', 57),\n ('thought', 57),\n ('felt', 57),\n ('when', 55),\n ('over', 54),\n ('weena', 54),\n ('still', 53),\n ('world', 52),\n ('myself', 51),\n ('even', 50),\n ('must', 49),\n ('through', 49),\n ('if', 49),\n ('hand', 49),\n ('went', 49),\n ('first', 49),\n ('are', 48),\n ('before', 48),\n ('last', 47),\n ('towards', 47),\n ('only', 46),\n ('people', 46),\n ('she', 46),\n ('morlocks', 46),\n ('see', 45),\n ('too', 45),\n ('found', 44),\n ('how', 43),\n ('here', 43),\n ('light', 43),\n ('great', 42),\n ('under', 42),\n ('did', 41),\n ('him', 40),\n ('any', 40),\n ('began', 40),\n ('back', 40),\n ('night', 39),\n ('face', 38),\n ('way', 38),\n ('will', 37),\n ('after', 37),\n ('another', 37),\n ('well', 37),\n ('same', 37),\n ('think', 36),\n ('other', 36),\n ('away', 36),\n ('round', 36),\n ('made', 36),\n ('day', 36),\n ('us', 35),\n ('eyes', 35),\n ('mind', 35),\n ('might', 35),\n ('perhaps', 35),\n ('than', 34),\n ('put', 34),\n ('things', 34),\n ('long', 34),\n ('looked', 34),\n ('own', 34),\n ('may', 33),\n ('among', 33),\n ('sky', 33),\n ('such', 32),\n ('against', 32),\n ('took', 32),\n ('strange', 32),\n ('yet', 32),\n ('moment', 31),\n ('where', 31),\n ('sun', 31),\n ('fire', 30),\n ('black', 30),\n ('come', 30),\n ('know', 29),\n ('off', 29),\n ('new', 28),\n ('two', 28),\n ('old', 28),\n ('enough', 28),\n ('hands', 28),\n ('presently', 28),\n ('most', 27),\n ('t', 27),\n ('dark', 27),\n ('darkness', 27),\n ('once', 27),\n ('red', 26),\n ('who', 26),\n ('left', 26),\n ('green', 26),\n ('grew', 26),\n ('place', 26),\n ('hill', 26),\n ('psychologist', 25),\n ('space', 25),\n ('end', 25),\n ('got', 25),\n ('three', 24),\n ('looking', 24),\n ('medical', 24),\n ('stood', 24),\n ('fear', 24),\n ('almost', 23),\n ('much', 23),\n ('should', 23),\n ('above', 23),\n ('air', 23),\n ('head', 23),\n ('sat', 22),\n ('do', 22),\n ('has', 22),\n ('can', 22),\n ('tried', 22),\n ('far', 22),\n ('seen', 22),\n ('minute', 22),\n ('suddenly', 22),\n ('across', 22),\n ('sphinx', 22),\n ('soon', 21),\n ('along', 21),\n ('side', 21),\n ('get', 21),\n ('earth', 21),\n ('future', 21),\n ('part', 21),\n ('turned', 21),\n ('human', 21),\n ('indeed', 20),\n ('heard', 20),\n ('say', 20),\n ('kind', 20),\n ('gone', 20),\n ('never', 20),\n ('until', 20),\n ('make', 20),\n ('look', 20),\n ('while', 20),\n ('half', 20),\n ('editor', 20),\n ('feeling', 20),\n ('though', 19),\n ('go', 19),\n ('room', 19),\n ('laboratory', 19),\n ('already', 19),\n ('moon', 19),\n ('bronze', 19),\n ('flowers', 19),\n ('match', 19),\n ('matches', 19),\n ('gallery', 19),\n ('rather', 18),\n ('cannot', 18),\n ('feet', 18),\n ('certain', 18),\n ('those', 18),\n ('filby', 17),\n ('ground', 17),\n ('years', 17),\n ('just', 17),\n ('table', 17),\n ('lever', 17),\n ('big', 17),\n ('ran', 17),\n ('door', 17),\n ('soft', 16),\n ('mere', 16),\n ('don', 16),\n ('however', 16),\n ('between', 16),\n ('why', 16),\n ('fell', 16),\n ('morning', 16),\n ('something', 16),\n ('going', 16),\n ('behind', 16),\n ('past', 16),\n ('followed', 16),\n ('lay', 16),\n ('life', 16),\n ('less', 16),\n ('struck', 16),\n ('lit', 16),\n ('four', 15),\n ('dimensions', 15),\n ('each', 15),\n ('whole', 15),\n ('bright', 15),\n ('knew', 15),\n ('story', 15),\n ('running', 15),\n ('creatures', 15),\n ('palace', 15),\n ('find', 15),\n ('wood', 15),\n ('being', 14),\n ('large', 14),\n ('without', 14),\n ('right', 14),\n ('men', 14),\n ('odd', 14),\n ('good', 14),\n ('told', 14),\n ('next', 14),\n ('feel', 14),\n ('ever', 14),\n ('bushes', 14),\n ('coming', 14),\n ('age', 14),\n ('passed', 13),\n ('dinner', 13),\n ('lamp', 13),\n ('clear', 13),\n ('rose', 13),\n ('move', 13),\n ('tell', 13),\n ('small', 13),\n ('set', 13),\n ('understand', 13),\n ('silent', 13),\n ('times', 13),\n ('hundred', 13),\n ('doubt', 13),\n ('suppose', 13),\n ('dust', 13),\n ('nothing', 13),\n ('full', 13),\n ('every', 13),\n ('days', 13),\n ('dim', 13),\n ('open', 13),\n ('huge', 13),\n ('hall', 13),\n ('sea', 13),\n ('course', 12),\n ('clearly', 12),\n ('others', 12),\n ('am', 12),\n ('vanished', 12),\n ('since', 12),\n ('travelling', 12),\n ('remember', 12),\n ('gave', 12),\n ('sound', 12),\n ('happened', 12),\n ('trees', 12),\n ('creature', 12),\n ('vast', 12),\n ('beautiful', 12),\n ('pocket', 12),\n ('nature', 12),\n ('grey', 11),\n ('line', 11),\n ('really', 11),\n ('because', 11),\n ('simply', 11),\n ('figure', 11),\n ('eight', 11),\n ('done', 11),\n ('save', 11),\n ('possibly', 11),\n ('absolutely', 11),\n ('several', 11),\n ('conditions', 11),\n ('second', 11),\n ('sense', 11),\n ('queer', 11),\n ('evening', 11),\n ('hesitated', 11),\n ('glass', 11),\n ('sudden', 11),\n ('stars', 11),\n ('growing', 11),\n ('pedestal', 11),\n ('appeared', 11),\n ('thick', 11),\n ('altogether', 11),\n ('further', 11),\n ('judged', 11),\n ('blackness', 11),\n ('upper', 11),\n ('camphor', 11),\n ('slower', 11),\n ('pale', 10),\n ('caught', 10),\n ('instance', 10),\n ('wrong', 10),\n ('idea', 10),\n ('always', 10),\n ('quite', 10),\n ('work', 10),\n ('exactly', 10),\n ('animal', 10),\n ('better', 10),\n ('let', 10),\n ('walked', 10),\n ('larger', 10),\n ('m', 10),\n ('believe', 10),\n ('travelled', 10),\n ('bars', 10),\n ('watch', 10),\n ('either', 10),\n ('stopped', 10),\n ('sleep', 10),\n ('peculiar', 10),\n ('house', 10),\n ('humanity', 10),\n ('lawn', 10),\n ('creeping', 10),\n ('imagine', 10),\n ('memory', 10),\n ('broken', 10),\n ('strong', 10),\n ('determined', 10),\n ('ruins', 10),\n ('few', 10),\n ('comfort', 10),\n ('porcelain', 10),\n ('arms', 10),\n ('iron', 10),\n ('wells', 9),\n ('real', 9),\n ('nor', 9),\n ('explain', 9),\n ('ago', 9),\n ('moving', 9),\n ('travel', 9),\n ('interest', 9),\n ('arm', 9),\n ('shoulder', 9),\n ('bar', 9),\n ('laughed', 9),\n ('stared', 9),\n ('moved', 9),\n ('below', 9),\n ('point', 9),\n ('none', 9),\n ('met', 9),\n ('standing', 9),\n ('journalist', 9),\n ('opened', 9),\n ('brown', 9),\n ('faint', 9),\n ('question', 9),\n ('rest', 9),\n ('apparently', 9),\n ('blue', 9),\n ('buildings', 9),\n ('hung', 9),\n ('stone', 9),\n ('lost', 9),\n ('fancied', 9),\n ('entered', 9),\n ('near', 9),\n ('necessity', 9),\n ('alone', 9),\n ('social', 9),\n ('perfect', 9),\n ('doors', 9),\n ('shone', 8),\n ('follow', 8),\n ('length', 8),\n ('became', 8),\n ('fact', 8),\n ('young', 8),\n ('dimension', 8),\n ('surface', 8),\n ('telling', 8),\n ('forward', 8),\n ('your', 8),\n ('model', 8),\n ('together', 8),\n ('motion', 8),\n ('faster', 8),\n ('itself', 8),\n ('beside', 8),\n ('take', 8),\n ('eye', 8),\n ('wanted', 8),\n ('cut', 8),\n ('faces', 8),\n ('meat', 8),\n ('thinking', 8),\n ('noticed', 8),\n ('assured', 8),\n ('change', 8),\n ('horrible', 8),\n ('swiftly', 8),\n ('unknown', 8),\n ('everything', 8),\n ('drove', 8),\n ('instead', 8),\n ('race', 8),\n ('remote', 8),\n ('figures', 8),\n ('pretty', 8),\n ('thousand', 8),\n ('children', 8),\n ('building', 8),\n ('floor', 8),\n ('many', 8),\n ('least', 8),\n ('view', 8),\n ('abundant', 8),\n ('security', 8),\n ('strength', 8),\n ('physical', 8),\n ('needs', 8),\n ('triumph', 8),\n ('decay', 8),\n ('cold', 8),\n ('sleeping', 8),\n ('daylight', 8),\n ('within', 8),\n ('taken', 8),\n ('hastily', 8),\n ('glare', 8),\n ('shaft', 8),\n ('eloi', 8),\n ('south', 8),\n ('box', 8),\n ('forest', 8),\n ('shall', 7),\n ('mean', 7),\n ('need', 7),\n ('natural', 7),\n ('except', 7),\n ('trace', 7),\n ('high', 7),\n ('certainly', 7),\n ('hard', 7),\n ('different', 7),\n ('sure', 7),\n ('present', 7),\n ('become', 7),\n ('stop', 7),\n ('account', 7),\n ('attention', 7),\n ('case', 7),\n ('leave', 7),\n ('slowly', 7),\n ('held', 7),\n ('mechanism', 7),\n ('want', 7),\n ('saddle', 7),\n ('nearly', 7),\n ('plain', 7),\n ('spoke', 7),\n ('laughing', 7),\n ('sounds', 7),\n ('shadows', 7),\n ('puzzled', 7),\n ('somehow', 7),\n ('comes', 7),\n ('mouth', 7),\n ('colour', 7),\n ('intense', 7),\n ('pushed', 7),\n ('seem', 7),\n ('rare', 7),\n ('kept', 7),\n ('rising', 7),\n ('worn', 7),\n ('shadow', 7),\n ('short', 7),\n ('ears', 7),\n ('fast', 7),\n ('splendid', 7),\n ('shivered', 7),\n ('longer', 7),\n ('absolute', 7),\n ('beyond', 7),\n ('tree', 7),\n ('touched', 7),\n ('breathing', 7),\n ('violently', 7),\n ('fancy', 7),\n ('levers', 7),\n ('neck', 7),\n ('intellectual', 7),\n ('loose', 7),\n ('number', 7),\n ('foot', 7),\n ('windows', 7),\n ('metal', 7),\n ('seated', 7),\n ('fruit', 7),\n ('tired', 7),\n ('river', 7),\n ('valley', 7),\n ('living', 7),\n ('sunset', 7),\n ('during', 7),\n ('intelligence', 7),\n ('grow', 7),\n ('pleasant', 7),\n ('trying', 7),\n ('narrow', 7),\n ('water', 7),\n ('beach', 7),\n ('returned', 7),\n ('fallen', 7),\n ('underground', 7),\n ('thousands', 7),\n ('motionless', 7),\n ('dream', 7),\n ('speak', 6),\n ('matter', 6),\n ('burned', 6),\n ('silver', 6),\n ('carefully', 6),\n ('hair', 6),\n ('existence', 6),\n ('body', 6),\n ('wait', 6),\n ('fourth', 6),\n ('direction', 6),\n ('making', 6),\n ('words', 6),\n ('evidently', 6),\n ('getting', 6),\n ('means', 6),\n ('hope', 6),\n ('reason', 6),\n ('vague', 6),\n ('suggested', 6),\n ('cried', 6),\n ('trick', 6),\n ('ivory', 6),\n ('front', 6),\n ('drew', 6),\n ('chair', 6),\n ('incredible', 6),\n ('pointed', 6),\n ('forth', 6),\n ('wind', 6),\n ('bare', 6),\n ('impression', 6),\n ('flickering', 6),\n ('dance', 6),\n ('showed', 6),\n ('confusion', 6),\n ('late', 6),\n ('paper', 6),\n ('seven', 6),\n ('quiet', 6),\n ('hear', 6),\n ('warm', 6),\n ('blood', 6),\n ('waiting', 6),\n ('hot', 6),\n ('home', 6),\n ('started', 6),\n ('reached', 6),\n ('smoking', 6),\n ('lived', 6),\n ('thud', 6),\n ('garden', 6),\n ('afraid', 6),\n ('convey', 6),\n ('unpleasant', 6),\n ('fall', 6),\n ('twilight', 6),\n ('possible', 6),\n ('hail', 6),\n ('turf', 6),\n ('smoke', 6),\n ('nearer', 6),\n ('straight', 6),\n ('reminded', 6),\n ('sight', 6),\n ('confidence', 6),\n ('danger', 6),\n ('hitherto', 6),\n ('import', 6),\n ('corner', 6),\n ('watching', 6),\n ('slow', 6),\n ('distance', 6),\n ('slope', 6),\n ('plants', 6),\n ('disappeared', 6),\n ('close', 6),\n ('signs', 6),\n ('truth', 6),\n ('animals', 6),\n ('fate', 6),\n ('problem', 6),\n ('sometimes', 6),\n ('slept', 6),\n ('panels', 6),\n ('use', 6),\n ('stir', 6),\n ('mystery', 6),\n ('presence', 6),\n ('machinery', 6),\n ('theory', 6),\n ('heat', 6),\n ('species', 6),\n ('familiar', 6),\n ('convenient', 5),\n ('paradox', 5),\n ('accepted', 5),\n ('anything', 5),\n ('thickness', 5),\n ('object', 5),\n ('tendency', 5),\n ('beginning', 5),\n ('slight', 5),\n ('difference', 5),\n ('foolish', 5),\n ('hold', 5),\n ('state', 5),\n ('lips', 5),\n ('pause', 5),\n ('gently', 5),\n ('recognized', 5),\n ('smiled', 5),\n ('velocity', 5),\n ('himself', 5),\n ('wild', 5),\n ('deep', 5),\n ('wonder', 5),\n ('metallic', 5),\n ('clock', 5),\n ('explanation', 5),\n ('tables', 5),\n ('also', 5),\n ('brass', 5),\n ('low', 5),\n ('watched', 5),\n ('pressed', 5),\n ('pass', 5),\n ('waste', 5),\n ('changed', 5),\n ('breath', 5),\n ('flame', 5),\n ('ghost', 5),\n ('pipe', 5),\n ('interval', 5),\n ('thursday', 5),\n ('simple', 5),\n ('common', 5),\n ('led', 5),\n ('corridor', 5),\n ('complete', 5),\n ('perfectly', 5),\n ('holding', 5),\n ('perceived', 5),\n ('ll', 5),\n ('spirit', 5),\n ('surprise', 5),\n ('coat', 5),\n ('doorway', 5),\n ('word', 5),\n ('brighter', 5),\n ('till', 5),\n ('both', 5),\n ('remained', 5),\n ('startled', 5),\n ('true', 5),\n ('ceased', 5),\n ('ten', 5),\n ('falling', 5),\n ('hazy', 5),\n ('sensations', 5),\n ('helpless', 5),\n ('suggestion', 5),\n ('early', 5),\n ('fair', 5),\n ('civilization', 5),\n ('occurred', 5),\n ('resolved', 5),\n ('incontinently', 5),\n ('shape', 5),\n ('carried', 5),\n ('hour', 5),\n ('inhuman', 5),\n ('distinct', 5),\n ('wall', 5),\n ('clad', 5),\n ('rich', 5),\n ('voices', 5),\n ('heads', 5),\n ('beauty', 5),\n ('sweet', 5),\n ('ease', 5),\n ('flinging', 5),\n ('forgotten', 5),\n ('staggered', 5),\n ('knowledge', 5),\n ('naturally', 5),\n ('general', 5),\n ('deserted', 5),\n ('mass', 5),\n ('heaps', 5),\n ('fruits', 5),\n ('lower', 5),\n ('nevertheless', 5),\n ('spite', 5),\n ('cattle', 5),\n ('later', 5),\n ('language', 5),\n ('discovered', 5),\n ('cries', 5),\n ('calm', 5),\n ('crest', 5),\n ('planet', 5),\n ('masses', 5),\n ('experience', 5),\n ('form', 5),\n ('yellow', 5),\n ('horizon', 5),\n ('west', 5),\n ('steadily', 5),\n ('hither', 5),\n ('thither', 5),\n ('golden', 5),\n ('restless', 5),\n ('energy', 5),\n ('weak', 5),\n ('pain', 5),\n ('north', 5),\n ('covered', 5),\n ('whose', 5),\n ('circumstances', 5),\n ('probably', 5),\n ('horror', 5),\n ('land', 5),\n ('path', 5),\n ('reflection', 5),\n ('safe', 5),\n ('afternoon', 5),\n ('best', 5),\n ('dreaded', 5),\n ('nights', 5),\n ('clambering', 5),\n ('fingers', 5),\n ('edge', 5),\n ('habit', 5),\n ('museum', 5),\n ('burning', 5),\n ('killing', 5),\n ('eastward', 5),\n ('grass', 5),\n ('brightly', 4),\n ('flashed', 4),\n ('free', 4),\n ('geometry', 4),\n ('expect', 4),\n ('begin', 4),\n ('admit', 4),\n ('having', 4),\n ('does', 4),\n ('proceeded', 4),\n ('call', 4),\n ('latter', 4),\n ('cigar', 4),\n ('provincial', 4),\n ('mayor', 4),\n ('particularly', 4),\n ('manner', 4),\n ('curious', 4),\n ('proper', 4),\n ('weather', 4),\n ('movement', 4),\n ('freedom', 4),\n ('passing', 4),\n ('miles', 4),\n ('difficulty', 4),\n ('savage', 4),\n ('show', 4),\n ('laughter', 4),\n ('weary', 4),\n ('smiling', 4),\n ('passage', 4),\n ('scarcely', 4),\n ('substance', 4),\n ('legs', 4),\n ('singularly', 4),\n ('seat', 4),\n ('turning', 4),\n ('blown', 4),\n ('indistinct', 4),\n ('damned', 4),\n ('journey', 4),\n ('visible', 4),\n ('serious', 4),\n ('remarked', 4),\n ('asked', 4),\n ('plausible', 4),\n ('morrow', 4),\n ('broad', 4),\n ('parts', 4),\n ('bench', 4),\n ('sheets', 4),\n ('touch', 4),\n ('frame', 4),\n ('five', 4),\n ('ve', 4),\n ('besides', 4),\n ('previous', 4),\n ('absence', 4),\n ('week', 4),\n ('facing', 4),\n ('smile', 4),\n ('remembered', 4),\n ('brought', 4),\n ('doing', 4),\n ('recover', 4),\n ('resumed', 4),\n ('curiosity', 4),\n ('friend', 4),\n ('business', 4),\n ('clothes', 4),\n ('easy', 4),\n ('salt', 4),\n ('give', 4),\n ('displayed', 4),\n ('lying', 4),\n ('afterwards', 4),\n ('voice', 4),\n ('rail', 4),\n ('putting', 4),\n ('machines', 4),\n ('skull', 4),\n ('starting', 4),\n ('stopping', 4),\n ('sensation', 4),\n ('teeth', 4),\n ('extreme', 4),\n ('position', 4),\n ('eddying', 4),\n ('murmur', 4),\n ('headlong', 4),\n ('pace', 4),\n ('painful', 4),\n ('glimpse', 4),\n ('circling', 4),\n ('spread', 4),\n ('rise', 4),\n ('dials', 4),\n ('year', 4),\n ('flung', 4),\n ('scarce', 4),\n ('dread', 4),\n ('possession', 4),\n ('built', 4),\n ('risk', 4),\n ('profound', 4),\n ('blow', 4),\n ('inevitable', 4),\n ('purple', 4),\n ('dancing', 4),\n ('innumerable', 4),\n ('colossal', 4),\n ('sides', 4),\n ('greatly', 4),\n ('passion', 4),\n ('foul', 4),\n ('tall', 4),\n ('shining', 4),\n ('frenzy', 4),\n ('emerged', 4),\n ('frail', 4),\n ('oddly', 4),\n ('harsh', 4),\n ('features', 4),\n ('effort', 4),\n ('gesture', 4),\n ('abruptly', 4),\n ('art', 4),\n ('fro', 4),\n ('delicate', 4),\n ('crowd', 4),\n ('grotesque', 4),\n ('ways', 4),\n ('places', 4),\n ('learn', 4),\n ('mine', 4),\n ('meaning', 4),\n ('name', 4),\n ('speedily', 4),\n ('setting', 4),\n ('thames', 4),\n ('mile', 4),\n ('help', 4),\n ('ruinous', 4),\n ('heap', 4),\n ('walls', 4),\n ('realized', 4),\n ('houses', 4),\n ('force', 4),\n ('population', 4),\n ('balanced', 4),\n ('rarely', 4),\n ('secure', 4),\n ('palaces', 4),\n ('mankind', 4),\n ('leaving', 4),\n ('fight', 4),\n ('balance', 4),\n ('gradually', 4),\n ('current', 4),\n ('attained', 4),\n ('struggle', 4),\n ('increasing', 4),\n ('sunlight', 4),\n ('east', 4),\n ('folly', 4),\n ('reach', 4),\n ('empty', 4),\n ('slipped', 4),\n ('child', 4),\n ('blundering', 4),\n ('terror', 4),\n ('crept', 4),\n ('loss', 4),\n ('groping', 4),\n ('fairly', 4),\n ('failed', 4),\n ...]"
     },
     "execution_count": 51,
     "metadata": {},
     "output_type": "execute_result"
    }
   ],
   "source": [
    "vocab.token_freqs"
   ],
   "metadata": {
    "collapsed": false,
    "ExecuteTime": {
     "end_time": "2024-11-14T17:49:59.406286Z",
     "start_time": "2024-11-14T17:49:59.374806Z"
    }
   },
   "id": "10a6eafd81169efa",
   "execution_count": 51
  },
  {
   "cell_type": "code",
   "outputs": [
    {
     "data": {
      "text/plain": "32775"
     },
     "execution_count": 52,
     "metadata": {},
     "output_type": "execute_result"
    }
   ],
   "source": [
    "len(corpus)"
   ],
   "metadata": {
    "collapsed": false,
    "ExecuteTime": {
     "end_time": "2024-11-14T17:50:00.263754Z",
     "start_time": "2024-11-14T17:50:00.249551Z"
    }
   },
   "id": "875024579e561077",
   "execution_count": 52
  },
  {
   "cell_type": "code",
   "outputs": [
    {
     "data": {
      "text/plain": "<Figure size 252x180 with 1 Axes>",
      "image/svg+xml": "<?xml version=\"1.0\" encoding=\"utf-8\" standalone=\"no\"?>\r\n<!DOCTYPE svg PUBLIC \"-//W3C//DTD SVG 1.1//EN\"\r\n  \"http://www.w3.org/Graphics/SVG/1.1/DTD/svg11.dtd\">\r\n<!-- Created with matplotlib (https://matplotlib.org/) -->\r\n<svg height=\"166.978125pt\" version=\"1.1\" viewBox=\"0 0 234.3 166.978125\" width=\"234.3pt\" xmlns=\"http://www.w3.org/2000/svg\" xmlns:xlink=\"http://www.w3.org/1999/xlink\">\r\n <metadata>\r\n  <rdf:RDF xmlns:cc=\"http://creativecommons.org/ns#\" xmlns:dc=\"http://purl.org/dc/elements/1.1/\" xmlns:rdf=\"http://www.w3.org/1999/02/22-rdf-syntax-ns#\">\r\n   <cc:Work>\r\n    <dc:type rdf:resource=\"http://purl.org/dc/dcmitype/StillImage\"/>\r\n    <dc:date>2024-11-15T01:50:01.239926</dc:date>\r\n    <dc:format>image/svg+xml</dc:format>\r\n    <dc:creator>\r\n     <cc:Agent>\r\n      <dc:title>Matplotlib v3.3.4, https://matplotlib.org/</dc:title>\r\n     </cc:Agent>\r\n    </dc:creator>\r\n   </cc:Work>\r\n  </rdf:RDF>\r\n </metadata>\r\n <defs>\r\n  <style type=\"text/css\">*{stroke-linecap:butt;stroke-linejoin:round;}</style>\r\n </defs>\r\n <g id=\"figure_1\">\r\n  <g id=\"patch_1\">\r\n   <path d=\"M 0 166.978125 \r\nL 234.3 166.978125 \r\nL 234.3 0 \r\nL 0 0 \r\nz\r\n\" style=\"fill:none;\"/>\r\n  </g>\r\n  <g id=\"axes_1\">\r\n   <g id=\"patch_2\">\r\n    <path d=\"M 31.8 143.1 \r\nL 227.1 143.1 \r\nL 227.1 7.2 \r\nL 31.8 7.2 \r\nz\r\n\" style=\"fill:#ffffff;\"/>\r\n   </g>\r\n   <g id=\"matplotlib.axis_1\">\r\n    <g id=\"xtick_1\">\r\n     <g id=\"line2d_1\">\r\n      <path clip-path=\"url(#pe2e8db3067)\" d=\"M 40.677273 143.1 \r\nL 40.677273 7.2 \r\n\" style=\"fill:none;stroke:#b0b0b0;stroke-linecap:square;stroke-width:0.8;\"/>\r\n     </g>\r\n     <g id=\"line2d_2\">\r\n      <defs>\r\n       <path d=\"M 0 0 \r\nL 0 3.5 \r\n\" id=\"me68c6f89d3\" style=\"stroke:#000000;stroke-width:0.8;\"/>\r\n      </defs>\r\n      <g>\r\n       <use style=\"stroke:#000000;stroke-width:0.8;\" x=\"40.677273\" xlink:href=\"#me68c6f89d3\" y=\"143.1\"/>\r\n      </g>\r\n     </g>\r\n     <g id=\"text_1\">\r\n      <!-- $\\mathdefault{10^{0}}$ -->\r\n      <g transform=\"translate(31.877273 157.698438)scale(0.1 -0.1)\">\r\n       <defs>\r\n        <path d=\"M 12.40625 8.296875 \r\nL 28.515625 8.296875 \r\nL 28.515625 63.921875 \r\nL 10.984375 60.40625 \r\nL 10.984375 69.390625 \r\nL 28.421875 72.90625 \r\nL 38.28125 72.90625 \r\nL 38.28125 8.296875 \r\nL 54.390625 8.296875 \r\nL 54.390625 0 \r\nL 12.40625 0 \r\nz\r\n\" id=\"DejaVuSans-49\"/>\r\n        <path d=\"M 31.78125 66.40625 \r\nQ 24.171875 66.40625 20.328125 58.90625 \r\nQ 16.5 51.421875 16.5 36.375 \r\nQ 16.5 21.390625 20.328125 13.890625 \r\nQ 24.171875 6.390625 31.78125 6.390625 \r\nQ 39.453125 6.390625 43.28125 13.890625 \r\nQ 47.125 21.390625 47.125 36.375 \r\nQ 47.125 51.421875 43.28125 58.90625 \r\nQ 39.453125 66.40625 31.78125 66.40625 \r\nz\r\nM 31.78125 74.21875 \r\nQ 44.046875 74.21875 50.515625 64.515625 \r\nQ 56.984375 54.828125 56.984375 36.375 \r\nQ 56.984375 17.96875 50.515625 8.265625 \r\nQ 44.046875 -1.421875 31.78125 -1.421875 \r\nQ 19.53125 -1.421875 13.0625 8.265625 \r\nQ 6.59375 17.96875 6.59375 36.375 \r\nQ 6.59375 54.828125 13.0625 64.515625 \r\nQ 19.53125 74.21875 31.78125 74.21875 \r\nz\r\n\" id=\"DejaVuSans-48\"/>\r\n       </defs>\r\n       <use transform=\"translate(0 0.765625)\" xlink:href=\"#DejaVuSans-49\"/>\r\n       <use transform=\"translate(63.623047 0.765625)\" xlink:href=\"#DejaVuSans-48\"/>\r\n       <use transform=\"translate(128.203125 39.046875)scale(0.7)\" xlink:href=\"#DejaVuSans-48\"/>\r\n      </g>\r\n     </g>\r\n    </g>\r\n    <g id=\"xtick_2\">\r\n     <g id=\"line2d_3\">\r\n      <path clip-path=\"url(#pe2e8db3067)\" d=\"M 89.178005 143.1 \r\nL 89.178005 7.2 \r\n\" style=\"fill:none;stroke:#b0b0b0;stroke-linecap:square;stroke-width:0.8;\"/>\r\n     </g>\r\n     <g id=\"line2d_4\">\r\n      <g>\r\n       <use style=\"stroke:#000000;stroke-width:0.8;\" x=\"89.178005\" xlink:href=\"#me68c6f89d3\" y=\"143.1\"/>\r\n      </g>\r\n     </g>\r\n     <g id=\"text_2\">\r\n      <!-- $\\mathdefault{10^{1}}$ -->\r\n      <g transform=\"translate(80.378005 157.698438)scale(0.1 -0.1)\">\r\n       <use transform=\"translate(0 0.684375)\" xlink:href=\"#DejaVuSans-49\"/>\r\n       <use transform=\"translate(63.623047 0.684375)\" xlink:href=\"#DejaVuSans-48\"/>\r\n       <use transform=\"translate(128.203125 38.965625)scale(0.7)\" xlink:href=\"#DejaVuSans-49\"/>\r\n      </g>\r\n     </g>\r\n    </g>\r\n    <g id=\"xtick_3\">\r\n     <g id=\"line2d_5\">\r\n      <path clip-path=\"url(#pe2e8db3067)\" d=\"M 137.678736 143.1 \r\nL 137.678736 7.2 \r\n\" style=\"fill:none;stroke:#b0b0b0;stroke-linecap:square;stroke-width:0.8;\"/>\r\n     </g>\r\n     <g id=\"line2d_6\">\r\n      <g>\r\n       <use style=\"stroke:#000000;stroke-width:0.8;\" x=\"137.678736\" xlink:href=\"#me68c6f89d3\" y=\"143.1\"/>\r\n      </g>\r\n     </g>\r\n     <g id=\"text_3\">\r\n      <!-- $\\mathdefault{10^{2}}$ -->\r\n      <g transform=\"translate(128.878736 157.698438)scale(0.1 -0.1)\">\r\n       <defs>\r\n        <path d=\"M 19.1875 8.296875 \r\nL 53.609375 8.296875 \r\nL 53.609375 0 \r\nL 7.328125 0 \r\nL 7.328125 8.296875 \r\nQ 12.9375 14.109375 22.625 23.890625 \r\nQ 32.328125 33.6875 34.8125 36.53125 \r\nQ 39.546875 41.84375 41.421875 45.53125 \r\nQ 43.3125 49.21875 43.3125 52.78125 \r\nQ 43.3125 58.59375 39.234375 62.25 \r\nQ 35.15625 65.921875 28.609375 65.921875 \r\nQ 23.96875 65.921875 18.8125 64.3125 \r\nQ 13.671875 62.703125 7.8125 59.421875 \r\nL 7.8125 69.390625 \r\nQ 13.765625 71.78125 18.9375 73 \r\nQ 24.125 74.21875 28.421875 74.21875 \r\nQ 39.75 74.21875 46.484375 68.546875 \r\nQ 53.21875 62.890625 53.21875 53.421875 \r\nQ 53.21875 48.921875 51.53125 44.890625 \r\nQ 49.859375 40.875 45.40625 35.40625 \r\nQ 44.1875 33.984375 37.640625 27.21875 \r\nQ 31.109375 20.453125 19.1875 8.296875 \r\nz\r\n\" id=\"DejaVuSans-50\"/>\r\n       </defs>\r\n       <use transform=\"translate(0 0.765625)\" xlink:href=\"#DejaVuSans-49\"/>\r\n       <use transform=\"translate(63.623047 0.765625)\" xlink:href=\"#DejaVuSans-48\"/>\r\n       <use transform=\"translate(128.203125 39.046875)scale(0.7)\" xlink:href=\"#DejaVuSans-50\"/>\r\n      </g>\r\n     </g>\r\n    </g>\r\n    <g id=\"xtick_4\">\r\n     <g id=\"line2d_7\">\r\n      <path clip-path=\"url(#pe2e8db3067)\" d=\"M 186.179468 143.1 \r\nL 186.179468 7.2 \r\n\" style=\"fill:none;stroke:#b0b0b0;stroke-linecap:square;stroke-width:0.8;\"/>\r\n     </g>\r\n     <g id=\"line2d_8\">\r\n      <g>\r\n       <use style=\"stroke:#000000;stroke-width:0.8;\" x=\"186.179468\" xlink:href=\"#me68c6f89d3\" y=\"143.1\"/>\r\n      </g>\r\n     </g>\r\n     <g id=\"text_4\">\r\n      <!-- $\\mathdefault{10^{3}}$ -->\r\n      <g transform=\"translate(177.379468 157.698438)scale(0.1 -0.1)\">\r\n       <defs>\r\n        <path d=\"M 40.578125 39.3125 \r\nQ 47.65625 37.796875 51.625 33 \r\nQ 55.609375 28.21875 55.609375 21.1875 \r\nQ 55.609375 10.40625 48.1875 4.484375 \r\nQ 40.765625 -1.421875 27.09375 -1.421875 \r\nQ 22.515625 -1.421875 17.65625 -0.515625 \r\nQ 12.796875 0.390625 7.625 2.203125 \r\nL 7.625 11.71875 \r\nQ 11.71875 9.328125 16.59375 8.109375 \r\nQ 21.484375 6.890625 26.8125 6.890625 \r\nQ 36.078125 6.890625 40.9375 10.546875 \r\nQ 45.796875 14.203125 45.796875 21.1875 \r\nQ 45.796875 27.640625 41.28125 31.265625 \r\nQ 36.765625 34.90625 28.71875 34.90625 \r\nL 20.21875 34.90625 \r\nL 20.21875 43.015625 \r\nL 29.109375 43.015625 \r\nQ 36.375 43.015625 40.234375 45.921875 \r\nQ 44.09375 48.828125 44.09375 54.296875 \r\nQ 44.09375 59.90625 40.109375 62.90625 \r\nQ 36.140625 65.921875 28.71875 65.921875 \r\nQ 24.65625 65.921875 20.015625 65.03125 \r\nQ 15.375 64.15625 9.8125 62.3125 \r\nL 9.8125 71.09375 \r\nQ 15.4375 72.65625 20.34375 73.4375 \r\nQ 25.25 74.21875 29.59375 74.21875 \r\nQ 40.828125 74.21875 47.359375 69.109375 \r\nQ 53.90625 64.015625 53.90625 55.328125 \r\nQ 53.90625 49.265625 50.4375 45.09375 \r\nQ 46.96875 40.921875 40.578125 39.3125 \r\nz\r\n\" id=\"DejaVuSans-51\"/>\r\n       </defs>\r\n       <use transform=\"translate(0 0.765625)\" xlink:href=\"#DejaVuSans-49\"/>\r\n       <use transform=\"translate(63.623047 0.765625)\" xlink:href=\"#DejaVuSans-48\"/>\r\n       <use transform=\"translate(128.203125 39.046875)scale(0.7)\" xlink:href=\"#DejaVuSans-51\"/>\r\n      </g>\r\n     </g>\r\n    </g>\r\n    <g id=\"xtick_5\">\r\n     <g id=\"line2d_9\">\r\n      <defs>\r\n       <path d=\"M 0 0 \r\nL 0 2 \r\n\" id=\"mc646f26596\" style=\"stroke:#000000;stroke-width:0.6;\"/>\r\n      </defs>\r\n      <g>\r\n       <use style=\"stroke:#000000;stroke-width:0.6;\" x=\"33.164414\" xlink:href=\"#mc646f26596\" y=\"143.1\"/>\r\n      </g>\r\n     </g>\r\n    </g>\r\n    <g id=\"xtick_6\">\r\n     <g id=\"line2d_10\">\r\n      <g>\r\n       <use style=\"stroke:#000000;stroke-width:0.6;\" x=\"35.977066\" xlink:href=\"#mc646f26596\" y=\"143.1\"/>\r\n      </g>\r\n     </g>\r\n    </g>\r\n    <g id=\"xtick_7\">\r\n     <g id=\"line2d_11\">\r\n      <g>\r\n       <use style=\"stroke:#000000;stroke-width:0.6;\" x=\"38.458001\" xlink:href=\"#mc646f26596\" y=\"143.1\"/>\r\n      </g>\r\n     </g>\r\n    </g>\r\n    <g id=\"xtick_8\">\r\n     <g id=\"line2d_12\">\r\n      <g>\r\n       <use style=\"stroke:#000000;stroke-width:0.6;\" x=\"55.277448\" xlink:href=\"#mc646f26596\" y=\"143.1\"/>\r\n      </g>\r\n     </g>\r\n    </g>\r\n    <g id=\"xtick_9\">\r\n     <g id=\"line2d_13\">\r\n      <g>\r\n       <use style=\"stroke:#000000;stroke-width:0.6;\" x=\"63.818003\" xlink:href=\"#mc646f26596\" y=\"143.1\"/>\r\n      </g>\r\n     </g>\r\n    </g>\r\n    <g id=\"xtick_10\">\r\n     <g id=\"line2d_14\">\r\n      <g>\r\n       <use style=\"stroke:#000000;stroke-width:0.6;\" x=\"69.877623\" xlink:href=\"#mc646f26596\" y=\"143.1\"/>\r\n      </g>\r\n     </g>\r\n    </g>\r\n    <g id=\"xtick_11\">\r\n     <g id=\"line2d_15\">\r\n      <g>\r\n       <use style=\"stroke:#000000;stroke-width:0.6;\" x=\"74.577829\" xlink:href=\"#mc646f26596\" y=\"143.1\"/>\r\n      </g>\r\n     </g>\r\n    </g>\r\n    <g id=\"xtick_12\">\r\n     <g id=\"line2d_16\">\r\n      <g>\r\n       <use style=\"stroke:#000000;stroke-width:0.6;\" x=\"78.418178\" xlink:href=\"#mc646f26596\" y=\"143.1\"/>\r\n      </g>\r\n     </g>\r\n    </g>\r\n    <g id=\"xtick_13\">\r\n     <g id=\"line2d_17\">\r\n      <g>\r\n       <use style=\"stroke:#000000;stroke-width:0.6;\" x=\"81.665146\" xlink:href=\"#mc646f26596\" y=\"143.1\"/>\r\n      </g>\r\n     </g>\r\n    </g>\r\n    <g id=\"xtick_14\">\r\n     <g id=\"line2d_18\">\r\n      <g>\r\n       <use style=\"stroke:#000000;stroke-width:0.6;\" x=\"84.477798\" xlink:href=\"#mc646f26596\" y=\"143.1\"/>\r\n      </g>\r\n     </g>\r\n    </g>\r\n    <g id=\"xtick_15\">\r\n     <g id=\"line2d_19\">\r\n      <g>\r\n       <use style=\"stroke:#000000;stroke-width:0.6;\" x=\"86.958733\" xlink:href=\"#mc646f26596\" y=\"143.1\"/>\r\n      </g>\r\n     </g>\r\n    </g>\r\n    <g id=\"xtick_16\">\r\n     <g id=\"line2d_20\">\r\n      <g>\r\n       <use style=\"stroke:#000000;stroke-width:0.6;\" x=\"103.77818\" xlink:href=\"#mc646f26596\" y=\"143.1\"/>\r\n      </g>\r\n     </g>\r\n    </g>\r\n    <g id=\"xtick_17\">\r\n     <g id=\"line2d_21\">\r\n      <g>\r\n       <use style=\"stroke:#000000;stroke-width:0.6;\" x=\"112.318735\" xlink:href=\"#mc646f26596\" y=\"143.1\"/>\r\n      </g>\r\n     </g>\r\n    </g>\r\n    <g id=\"xtick_18\">\r\n     <g id=\"line2d_22\">\r\n      <g>\r\n       <use style=\"stroke:#000000;stroke-width:0.6;\" x=\"118.378355\" xlink:href=\"#mc646f26596\" y=\"143.1\"/>\r\n      </g>\r\n     </g>\r\n    </g>\r\n    <g id=\"xtick_19\">\r\n     <g id=\"line2d_23\">\r\n      <g>\r\n       <use style=\"stroke:#000000;stroke-width:0.6;\" x=\"123.078561\" xlink:href=\"#mc646f26596\" y=\"143.1\"/>\r\n      </g>\r\n     </g>\r\n    </g>\r\n    <g id=\"xtick_20\">\r\n     <g id=\"line2d_24\">\r\n      <g>\r\n       <use style=\"stroke:#000000;stroke-width:0.6;\" x=\"126.91891\" xlink:href=\"#mc646f26596\" y=\"143.1\"/>\r\n      </g>\r\n     </g>\r\n    </g>\r\n    <g id=\"xtick_21\">\r\n     <g id=\"line2d_25\">\r\n      <g>\r\n       <use style=\"stroke:#000000;stroke-width:0.6;\" x=\"130.165878\" xlink:href=\"#mc646f26596\" y=\"143.1\"/>\r\n      </g>\r\n     </g>\r\n    </g>\r\n    <g id=\"xtick_22\">\r\n     <g id=\"line2d_26\">\r\n      <g>\r\n       <use style=\"stroke:#000000;stroke-width:0.6;\" x=\"132.97853\" xlink:href=\"#mc646f26596\" y=\"143.1\"/>\r\n      </g>\r\n     </g>\r\n    </g>\r\n    <g id=\"xtick_23\">\r\n     <g id=\"line2d_27\">\r\n      <g>\r\n       <use style=\"stroke:#000000;stroke-width:0.6;\" x=\"135.459465\" xlink:href=\"#mc646f26596\" y=\"143.1\"/>\r\n      </g>\r\n     </g>\r\n    </g>\r\n    <g id=\"xtick_24\">\r\n     <g id=\"line2d_28\">\r\n      <g>\r\n       <use style=\"stroke:#000000;stroke-width:0.6;\" x=\"152.278911\" xlink:href=\"#mc646f26596\" y=\"143.1\"/>\r\n      </g>\r\n     </g>\r\n    </g>\r\n    <g id=\"xtick_25\">\r\n     <g id=\"line2d_29\">\r\n      <g>\r\n       <use style=\"stroke:#000000;stroke-width:0.6;\" x=\"160.819466\" xlink:href=\"#mc646f26596\" y=\"143.1\"/>\r\n      </g>\r\n     </g>\r\n    </g>\r\n    <g id=\"xtick_26\">\r\n     <g id=\"line2d_30\">\r\n      <g>\r\n       <use style=\"stroke:#000000;stroke-width:0.6;\" x=\"166.879086\" xlink:href=\"#mc646f26596\" y=\"143.1\"/>\r\n      </g>\r\n     </g>\r\n    </g>\r\n    <g id=\"xtick_27\">\r\n     <g id=\"line2d_31\">\r\n      <g>\r\n       <use style=\"stroke:#000000;stroke-width:0.6;\" x=\"171.579293\" xlink:href=\"#mc646f26596\" y=\"143.1\"/>\r\n      </g>\r\n     </g>\r\n    </g>\r\n    <g id=\"xtick_28\">\r\n     <g id=\"line2d_32\">\r\n      <g>\r\n       <use style=\"stroke:#000000;stroke-width:0.6;\" x=\"175.419641\" xlink:href=\"#mc646f26596\" y=\"143.1\"/>\r\n      </g>\r\n     </g>\r\n    </g>\r\n    <g id=\"xtick_29\">\r\n     <g id=\"line2d_33\">\r\n      <g>\r\n       <use style=\"stroke:#000000;stroke-width:0.6;\" x=\"178.66661\" xlink:href=\"#mc646f26596\" y=\"143.1\"/>\r\n      </g>\r\n     </g>\r\n    </g>\r\n    <g id=\"xtick_30\">\r\n     <g id=\"line2d_34\">\r\n      <g>\r\n       <use style=\"stroke:#000000;stroke-width:0.6;\" x=\"181.479262\" xlink:href=\"#mc646f26596\" y=\"143.1\"/>\r\n      </g>\r\n     </g>\r\n    </g>\r\n    <g id=\"xtick_31\">\r\n     <g id=\"line2d_35\">\r\n      <g>\r\n       <use style=\"stroke:#000000;stroke-width:0.6;\" x=\"183.960196\" xlink:href=\"#mc646f26596\" y=\"143.1\"/>\r\n      </g>\r\n     </g>\r\n    </g>\r\n    <g id=\"xtick_32\">\r\n     <g id=\"line2d_36\">\r\n      <g>\r\n       <use style=\"stroke:#000000;stroke-width:0.6;\" x=\"200.779643\" xlink:href=\"#mc646f26596\" y=\"143.1\"/>\r\n      </g>\r\n     </g>\r\n    </g>\r\n    <g id=\"xtick_33\">\r\n     <g id=\"line2d_37\">\r\n      <g>\r\n       <use style=\"stroke:#000000;stroke-width:0.6;\" x=\"209.320198\" xlink:href=\"#mc646f26596\" y=\"143.1\"/>\r\n      </g>\r\n     </g>\r\n    </g>\r\n    <g id=\"xtick_34\">\r\n     <g id=\"line2d_38\">\r\n      <g>\r\n       <use style=\"stroke:#000000;stroke-width:0.6;\" x=\"215.379818\" xlink:href=\"#mc646f26596\" y=\"143.1\"/>\r\n      </g>\r\n     </g>\r\n    </g>\r\n    <g id=\"xtick_35\">\r\n     <g id=\"line2d_39\">\r\n      <g>\r\n       <use style=\"stroke:#000000;stroke-width:0.6;\" x=\"220.080025\" xlink:href=\"#mc646f26596\" y=\"143.1\"/>\r\n      </g>\r\n     </g>\r\n    </g>\r\n    <g id=\"xtick_36\">\r\n     <g id=\"line2d_40\">\r\n      <g>\r\n       <use style=\"stroke:#000000;stroke-width:0.6;\" x=\"223.920373\" xlink:href=\"#mc646f26596\" y=\"143.1\"/>\r\n      </g>\r\n     </g>\r\n    </g>\r\n   </g>\r\n   <g id=\"matplotlib.axis_2\">\r\n    <g id=\"ytick_1\">\r\n     <g id=\"line2d_41\">\r\n      <path clip-path=\"url(#pe2e8db3067)\" d=\"M 31.8 136.922727 \r\nL 227.1 136.922727 \r\n\" style=\"fill:none;stroke:#b0b0b0;stroke-linecap:square;stroke-width:0.8;\"/>\r\n     </g>\r\n     <g id=\"line2d_42\">\r\n      <defs>\r\n       <path d=\"M 0 0 \r\nL -3.5 0 \r\n\" id=\"m7cc38918ba\" style=\"stroke:#000000;stroke-width:0.8;\"/>\r\n      </defs>\r\n      <g>\r\n       <use style=\"stroke:#000000;stroke-width:0.8;\" x=\"31.8\" xlink:href=\"#m7cc38918ba\" y=\"136.922727\"/>\r\n      </g>\r\n     </g>\r\n     <g id=\"text_5\">\r\n      <!-- $\\mathdefault{10^{0}}$ -->\r\n      <g transform=\"translate(7.2 140.721946)scale(0.1 -0.1)\">\r\n       <use transform=\"translate(0 0.765625)\" xlink:href=\"#DejaVuSans-49\"/>\r\n       <use transform=\"translate(63.623047 0.765625)\" xlink:href=\"#DejaVuSans-48\"/>\r\n       <use transform=\"translate(128.203125 39.046875)scale(0.7)\" xlink:href=\"#DejaVuSans-48\"/>\r\n      </g>\r\n     </g>\r\n    </g>\r\n    <g id=\"ytick_2\">\r\n     <g id=\"line2d_43\">\r\n      <path clip-path=\"url(#pe2e8db3067)\" d=\"M 31.8 100.09077 \r\nL 227.1 100.09077 \r\n\" style=\"fill:none;stroke:#b0b0b0;stroke-linecap:square;stroke-width:0.8;\"/>\r\n     </g>\r\n     <g id=\"line2d_44\">\r\n      <g>\r\n       <use style=\"stroke:#000000;stroke-width:0.8;\" x=\"31.8\" xlink:href=\"#m7cc38918ba\" y=\"100.09077\"/>\r\n      </g>\r\n     </g>\r\n     <g id=\"text_6\">\r\n      <!-- $\\mathdefault{10^{1}}$ -->\r\n      <g transform=\"translate(7.2 103.889989)scale(0.1 -0.1)\">\r\n       <use transform=\"translate(0 0.684375)\" xlink:href=\"#DejaVuSans-49\"/>\r\n       <use transform=\"translate(63.623047 0.684375)\" xlink:href=\"#DejaVuSans-48\"/>\r\n       <use transform=\"translate(128.203125 38.965625)scale(0.7)\" xlink:href=\"#DejaVuSans-49\"/>\r\n      </g>\r\n     </g>\r\n    </g>\r\n    <g id=\"ytick_3\">\r\n     <g id=\"line2d_45\">\r\n      <path clip-path=\"url(#pe2e8db3067)\" d=\"M 31.8 63.258813 \r\nL 227.1 63.258813 \r\n\" style=\"fill:none;stroke:#b0b0b0;stroke-linecap:square;stroke-width:0.8;\"/>\r\n     </g>\r\n     <g id=\"line2d_46\">\r\n      <g>\r\n       <use style=\"stroke:#000000;stroke-width:0.8;\" x=\"31.8\" xlink:href=\"#m7cc38918ba\" y=\"63.258813\"/>\r\n      </g>\r\n     </g>\r\n     <g id=\"text_7\">\r\n      <!-- $\\mathdefault{10^{2}}$ -->\r\n      <g transform=\"translate(7.2 67.058032)scale(0.1 -0.1)\">\r\n       <use transform=\"translate(0 0.765625)\" xlink:href=\"#DejaVuSans-49\"/>\r\n       <use transform=\"translate(63.623047 0.765625)\" xlink:href=\"#DejaVuSans-48\"/>\r\n       <use transform=\"translate(128.203125 39.046875)scale(0.7)\" xlink:href=\"#DejaVuSans-50\"/>\r\n      </g>\r\n     </g>\r\n    </g>\r\n    <g id=\"ytick_4\">\r\n     <g id=\"line2d_47\">\r\n      <path clip-path=\"url(#pe2e8db3067)\" d=\"M 31.8 26.426856 \r\nL 227.1 26.426856 \r\n\" style=\"fill:none;stroke:#b0b0b0;stroke-linecap:square;stroke-width:0.8;\"/>\r\n     </g>\r\n     <g id=\"line2d_48\">\r\n      <g>\r\n       <use style=\"stroke:#000000;stroke-width:0.8;\" x=\"31.8\" xlink:href=\"#m7cc38918ba\" y=\"26.426856\"/>\r\n      </g>\r\n     </g>\r\n     <g id=\"text_8\">\r\n      <!-- $\\mathdefault{10^{3}}$ -->\r\n      <g transform=\"translate(7.2 30.226075)scale(0.1 -0.1)\">\r\n       <use transform=\"translate(0 0.765625)\" xlink:href=\"#DejaVuSans-49\"/>\r\n       <use transform=\"translate(63.623047 0.765625)\" xlink:href=\"#DejaVuSans-48\"/>\r\n       <use transform=\"translate(128.203125 39.046875)scale(0.7)\" xlink:href=\"#DejaVuSans-51\"/>\r\n      </g>\r\n     </g>\r\n    </g>\r\n    <g id=\"ytick_5\">\r\n     <g id=\"line2d_49\">\r\n      <defs>\r\n       <path d=\"M 0 0 \r\nL -2 0 \r\n\" id=\"m99aef225c7\" style=\"stroke:#000000;stroke-width:0.6;\"/>\r\n      </defs>\r\n      <g>\r\n       <use style=\"stroke:#000000;stroke-width:0.6;\" x=\"31.8\" xlink:href=\"#m99aef225c7\" y=\"142.62807\"/>\r\n      </g>\r\n     </g>\r\n    </g>\r\n    <g id=\"ytick_6\">\r\n     <g id=\"line2d_50\">\r\n      <g>\r\n       <use style=\"stroke:#000000;stroke-width:0.6;\" x=\"31.8\" xlink:href=\"#m99aef225c7\" y=\"140.492113\"/>\r\n      </g>\r\n     </g>\r\n    </g>\r\n    <g id=\"ytick_7\">\r\n     <g id=\"line2d_51\">\r\n      <g>\r\n       <use style=\"stroke:#000000;stroke-width:0.6;\" x=\"31.8\" xlink:href=\"#m99aef225c7\" y=\"138.608065\"/>\r\n      </g>\r\n     </g>\r\n    </g>\r\n    <g id=\"ytick_8\">\r\n     <g id=\"line2d_52\">\r\n      <g>\r\n       <use style=\"stroke:#000000;stroke-width:0.6;\" x=\"31.8\" xlink:href=\"#m99aef225c7\" y=\"125.835203\"/>\r\n      </g>\r\n     </g>\r\n    </g>\r\n    <g id=\"ytick_9\">\r\n     <g id=\"line2d_53\">\r\n      <g>\r\n       <use style=\"stroke:#000000;stroke-width:0.6;\" x=\"31.8\" xlink:href=\"#m99aef225c7\" y=\"119.349418\"/>\r\n      </g>\r\n     </g>\r\n    </g>\r\n    <g id=\"ytick_10\">\r\n     <g id=\"line2d_54\">\r\n      <g>\r\n       <use style=\"stroke:#000000;stroke-width:0.6;\" x=\"31.8\" xlink:href=\"#m99aef225c7\" y=\"114.747679\"/>\r\n      </g>\r\n     </g>\r\n    </g>\r\n    <g id=\"ytick_11\">\r\n     <g id=\"line2d_55\">\r\n      <g>\r\n       <use style=\"stroke:#000000;stroke-width:0.6;\" x=\"31.8\" xlink:href=\"#m99aef225c7\" y=\"111.178294\"/>\r\n      </g>\r\n     </g>\r\n    </g>\r\n    <g id=\"ytick_12\">\r\n     <g id=\"line2d_56\">\r\n      <g>\r\n       <use style=\"stroke:#000000;stroke-width:0.6;\" x=\"31.8\" xlink:href=\"#m99aef225c7\" y=\"108.261894\"/>\r\n      </g>\r\n     </g>\r\n    </g>\r\n    <g id=\"ytick_13\">\r\n     <g id=\"line2d_57\">\r\n      <g>\r\n       <use style=\"stroke:#000000;stroke-width:0.6;\" x=\"31.8\" xlink:href=\"#m99aef225c7\" y=\"105.796112\"/>\r\n      </g>\r\n     </g>\r\n    </g>\r\n    <g id=\"ytick_14\">\r\n     <g id=\"line2d_58\">\r\n      <g>\r\n       <use style=\"stroke:#000000;stroke-width:0.6;\" x=\"31.8\" xlink:href=\"#m99aef225c7\" y=\"103.660156\"/>\r\n      </g>\r\n     </g>\r\n    </g>\r\n    <g id=\"ytick_15\">\r\n     <g id=\"line2d_59\">\r\n      <g>\r\n       <use style=\"stroke:#000000;stroke-width:0.6;\" x=\"31.8\" xlink:href=\"#m99aef225c7\" y=\"101.776108\"/>\r\n      </g>\r\n     </g>\r\n    </g>\r\n    <g id=\"ytick_16\">\r\n     <g id=\"line2d_60\">\r\n      <g>\r\n       <use style=\"stroke:#000000;stroke-width:0.6;\" x=\"31.8\" xlink:href=\"#m99aef225c7\" y=\"89.003246\"/>\r\n      </g>\r\n     </g>\r\n    </g>\r\n    <g id=\"ytick_17\">\r\n     <g id=\"line2d_61\">\r\n      <g>\r\n       <use style=\"stroke:#000000;stroke-width:0.6;\" x=\"31.8\" xlink:href=\"#m99aef225c7\" y=\"82.517461\"/>\r\n      </g>\r\n     </g>\r\n    </g>\r\n    <g id=\"ytick_18\">\r\n     <g id=\"line2d_62\">\r\n      <g>\r\n       <use style=\"stroke:#000000;stroke-width:0.6;\" x=\"31.8\" xlink:href=\"#m99aef225c7\" y=\"77.915722\"/>\r\n      </g>\r\n     </g>\r\n    </g>\r\n    <g id=\"ytick_19\">\r\n     <g id=\"line2d_63\">\r\n      <g>\r\n       <use style=\"stroke:#000000;stroke-width:0.6;\" x=\"31.8\" xlink:href=\"#m99aef225c7\" y=\"74.346337\"/>\r\n      </g>\r\n     </g>\r\n    </g>\r\n    <g id=\"ytick_20\">\r\n     <g id=\"line2d_64\">\r\n      <g>\r\n       <use style=\"stroke:#000000;stroke-width:0.6;\" x=\"31.8\" xlink:href=\"#m99aef225c7\" y=\"71.429937\"/>\r\n      </g>\r\n     </g>\r\n    </g>\r\n    <g id=\"ytick_21\">\r\n     <g id=\"line2d_65\">\r\n      <g>\r\n       <use style=\"stroke:#000000;stroke-width:0.6;\" x=\"31.8\" xlink:href=\"#m99aef225c7\" y=\"68.964155\"/>\r\n      </g>\r\n     </g>\r\n    </g>\r\n    <g id=\"ytick_22\">\r\n     <g id=\"line2d_66\">\r\n      <g>\r\n       <use style=\"stroke:#000000;stroke-width:0.6;\" x=\"31.8\" xlink:href=\"#m99aef225c7\" y=\"66.828198\"/>\r\n      </g>\r\n     </g>\r\n    </g>\r\n    <g id=\"ytick_23\">\r\n     <g id=\"line2d_67\">\r\n      <g>\r\n       <use style=\"stroke:#000000;stroke-width:0.6;\" x=\"31.8\" xlink:href=\"#m99aef225c7\" y=\"64.944151\"/>\r\n      </g>\r\n     </g>\r\n    </g>\r\n    <g id=\"ytick_24\">\r\n     <g id=\"line2d_68\">\r\n      <g>\r\n       <use style=\"stroke:#000000;stroke-width:0.6;\" x=\"31.8\" xlink:href=\"#m99aef225c7\" y=\"52.171289\"/>\r\n      </g>\r\n     </g>\r\n    </g>\r\n    <g id=\"ytick_25\">\r\n     <g id=\"line2d_69\">\r\n      <g>\r\n       <use style=\"stroke:#000000;stroke-width:0.6;\" x=\"31.8\" xlink:href=\"#m99aef225c7\" y=\"45.685503\"/>\r\n      </g>\r\n     </g>\r\n    </g>\r\n    <g id=\"ytick_26\">\r\n     <g id=\"line2d_70\">\r\n      <g>\r\n       <use style=\"stroke:#000000;stroke-width:0.6;\" x=\"31.8\" xlink:href=\"#m99aef225c7\" y=\"41.083765\"/>\r\n      </g>\r\n     </g>\r\n    </g>\r\n    <g id=\"ytick_27\">\r\n     <g id=\"line2d_71\">\r\n      <g>\r\n       <use style=\"stroke:#000000;stroke-width:0.6;\" x=\"31.8\" xlink:href=\"#m99aef225c7\" y=\"37.51438\"/>\r\n      </g>\r\n     </g>\r\n    </g>\r\n    <g id=\"ytick_28\">\r\n     <g id=\"line2d_72\">\r\n      <g>\r\n       <use style=\"stroke:#000000;stroke-width:0.6;\" x=\"31.8\" xlink:href=\"#m99aef225c7\" y=\"34.597979\"/>\r\n      </g>\r\n     </g>\r\n    </g>\r\n    <g id=\"ytick_29\">\r\n     <g id=\"line2d_73\">\r\n      <g>\r\n       <use style=\"stroke:#000000;stroke-width:0.6;\" x=\"31.8\" xlink:href=\"#m99aef225c7\" y=\"32.132198\"/>\r\n      </g>\r\n     </g>\r\n    </g>\r\n    <g id=\"ytick_30\">\r\n     <g id=\"line2d_74\">\r\n      <g>\r\n       <use style=\"stroke:#000000;stroke-width:0.6;\" x=\"31.8\" xlink:href=\"#m99aef225c7\" y=\"29.996241\"/>\r\n      </g>\r\n     </g>\r\n    </g>\r\n    <g id=\"ytick_31\">\r\n     <g id=\"line2d_75\">\r\n      <g>\r\n       <use style=\"stroke:#000000;stroke-width:0.6;\" x=\"31.8\" xlink:href=\"#m99aef225c7\" y=\"28.112194\"/>\r\n      </g>\r\n     </g>\r\n    </g>\r\n    <g id=\"ytick_32\">\r\n     <g id=\"line2d_76\">\r\n      <g>\r\n       <use style=\"stroke:#000000;stroke-width:0.6;\" x=\"31.8\" xlink:href=\"#m99aef225c7\" y=\"15.339332\"/>\r\n      </g>\r\n     </g>\r\n    </g>\r\n    <g id=\"ytick_33\">\r\n     <g id=\"line2d_77\">\r\n      <g>\r\n       <use style=\"stroke:#000000;stroke-width:0.6;\" x=\"31.8\" xlink:href=\"#m99aef225c7\" y=\"8.853546\"/>\r\n      </g>\r\n     </g>\r\n    </g>\r\n   </g>\r\n   <g id=\"line2d_78\">\r\n    <path clip-path=\"url(#pe2e8db3067)\" d=\"M -1 22.633431 \r\nL 40.677273 22.641392 \r\nL 55.277448 22.921582 \r\nL 63.818003 24.121839 \r\nL 69.877623 29.67948 \r\nL 74.577829 32.246865 \r\nL 78.418178 35.931745 \r\nL 81.665146 36.253723 \r\nL 84.477798 39.450499 \r\nL 89.178005 39.668628 \r\nL 91.18558 43.037948 \r\nL 93.018353 46.732081 \r\nL 94.70434 47.370841 \r\nL 97.718559 50.574172 \r\nL 99.077973 50.940227 \r\nL 100.354946 51.854528 \r\nL 101.558908 52.171289 \r\nL 102.697758 55.941884 \r\nL 103.77818 56.561158 \r\nL 104.805876 58.223127 \r\nL 105.785755 58.223127 \r\nL 106.722069 58.577295 \r\nL 107.618528 59.185578 \r\nL 108.478386 59.435519 \r\nL 109.304516 59.947432 \r\nL 110.099463 60.078011 \r\nL 111.604646 60.078011 \r\nL 113.009406 60.611258 \r\nL 113.678148 61.162896 \r\nL 114.32631 61.162896 \r\nL 114.955121 61.30383 \r\nL 115.565703 61.30383 \r\nL 116.159083 61.446017 \r\nL 116.736204 62.326748 \r\nL 117.297933 62.47837 \r\nL 117.84507 62.785993 \r\nL 118.378355 64.248567 \r\nL 119.406051 64.592578 \r\nL 119.901688 64.592578 \r\nL 120.38593 64.767399 \r\nL 120.859289 65.122878 \r\nL 122.653019 65.858452 \r\nL 123.495676 65.858452 \r\nL 123.904691 66.047755 \r\nL 124.305914 66.047755 \r\nL 124.699638 66.433217 \r\nL 125.465671 67.439582 \r\nL 125.838488 67.860551 \r\nL 126.204821 68.075265 \r\nL 126.91891 68.075265 \r\nL 128.278323 68.964155 \r\nL 128.926485 68.964155 \r\nL 129.243237 69.194316 \r\nL 129.555296 69.905363 \r\nL 129.862799 70.905433 \r\nL 130.759258 71.698782 \r\nL 131.049795 71.698782 \r\nL 131.336379 72.25042 \r\nL 131.898108 72.25042 \r\nL 132.173453 72.821763 \r\nL 132.445246 73.115275 \r\nL 132.713575 73.115275 \r\nL 134.006226 74.669498 \r\nL 135.224115 74.669498 \r\nL 135.459465 74.999322 \r\nL 135.692214 74.999322 \r\nL 135.922419 75.336091 \r\nL 136.150136 75.336091 \r\nL 136.375418 75.680102 \r\nL 137.037156 75.680102 \r\nL 137.253195 76.031675 \r\nL 137.46704 76.031675 \r\nL 137.888326 76.758887 \r\nL 138.301351 76.758887 \r\nL 138.504866 77.135279 \r\nL 138.706433 77.135279 \r\nL 139.103871 77.915722 \r\nL 139.686312 77.915722 \r\nL 140.065846 78.736206 \r\nL 140.25308 78.736206 \r\nL 140.438663 79.162789 \r\nL 141.165066 79.162789 \r\nL 141.342819 79.60106 \r\nL 142.209756 79.60106 \r\nL 142.378943 80.051679 \r\nL 143.042418 80.051679 \r\nL 143.205072 80.515361 \r\nL 144.000019 80.515361 \r\nL 144.155471 80.992887 \r\nL 144.462974 80.992887 \r\nL 144.615059 81.485108 \r\nL 145.212648 81.485108 \r\nL 145.359433 81.992957 \r\nL 145.64997 81.992957 \r\nL 145.793749 82.517461 \r\nL 146.078397 82.517461 \r\nL 146.219291 83.059747 \r\nL 146.359249 83.059747 \r\nL 146.498283 83.621065 \r\nL 147.180013 83.621065 \r\nL 147.31375 84.202798 \r\nL 147.840368 84.202798 \r\nL 147.96999 84.80649 \r\nL 148.731408 84.80649 \r\nL 148.855678 85.433861 \r\nL 149.224146 85.433861 \r\nL 149.345551 86.086846 \r\nL 149.82429 86.086846 \r\nL 149.942293 86.767626 \r\nL 150.522594 86.767626 \r\nL 150.636761 87.478673 \r\nL 151.745627 87.478673 \r\nL 151.960564 88.222803 \r\nL 152.696026 88.222803 \r\nL 152.901526 89.003246 \r\nL 153.99728 89.003246 \r\nL 154.190525 89.823729 \r\nL 155.038838 89.823729 \r\nL 155.222801 90.688584 \r\nL 155.495767 90.688584 \r\nL 155.675799 91.602885 \r\nL 156.294062 91.602885 \r\nL 156.467426 92.572632 \r\nL 157.805247 92.572632 \r\nL 157.966655 93.604984 \r\nL 158.755646 93.604984 \r\nL 158.909959 94.708589 \r\nL 159.812823 94.708589 \r\nL 159.959608 95.894013 \r\nL 161.577976 95.894013 \r\nL 161.712999 97.17437 \r\nL 162.698995 97.17437 \r\nL 162.827042 98.566197 \r\nL 164.659815 98.566197 \r\nL 164.776511 100.09077 \r\nL 166.773504 100.09077 \r\nL 166.93168 101.776108 \r\nL 168.742555 101.776108 \r\nL 168.886662 103.660156 \r\nL 171.579293 103.660156 \r\nL 171.705297 105.796112 \r\nL 174.85032 105.796112 \r\nL 174.9941 108.261894 \r\nL 177.993985 108.261894 \r\nL 178.117889 111.178294 \r\nL 182.076298 111.178294 \r\nL 182.203879 114.747679 \r\nL 187.046066 114.747679 \r\nL 187.167005 119.349418 \r\nL 193.535876 119.349418 \r\nL 193.654378 125.835203 \r\nL 202.604516 125.835203 \r\nL 202.720091 136.922727 \r\nL 218.222727 136.922727 \r\nL 218.222727 136.922727 \r\n\" style=\"fill:none;stroke:#1f77b4;stroke-linecap:square;stroke-width:1.5;\"/>\r\n   </g>\r\n   <g id=\"patch_3\">\r\n    <path d=\"M 31.8 143.1 \r\nL 31.8 7.2 \r\n\" style=\"fill:none;stroke:#000000;stroke-linecap:square;stroke-linejoin:miter;stroke-width:0.8;\"/>\r\n   </g>\r\n   <g id=\"patch_4\">\r\n    <path d=\"M 227.1 143.1 \r\nL 227.1 7.2 \r\n\" style=\"fill:none;stroke:#000000;stroke-linecap:square;stroke-linejoin:miter;stroke-width:0.8;\"/>\r\n   </g>\r\n   <g id=\"patch_5\">\r\n    <path d=\"M 31.8 143.1 \r\nL 227.1 143.1 \r\n\" style=\"fill:none;stroke:#000000;stroke-linecap:square;stroke-linejoin:miter;stroke-width:0.8;\"/>\r\n   </g>\r\n   <g id=\"patch_6\">\r\n    <path d=\"M 31.8 7.2 \r\nL 227.1 7.2 \r\n\" style=\"fill:none;stroke:#000000;stroke-linecap:square;stroke-linejoin:miter;stroke-width:0.8;\"/>\r\n   </g>\r\n  </g>\r\n </g>\r\n <defs>\r\n  <clipPath id=\"pe2e8db3067\">\r\n   <rect height=\"135.9\" width=\"195.3\" x=\"31.8\" y=\"7.2\"/>\r\n  </clipPath>\r\n </defs>\r\n</svg>\r\n"
     },
     "metadata": {
      "needs_background": "light"
     },
     "output_type": "display_data"
    }
   ],
   "source": [
    "freqs = [freq for token, freq in vocab.token_freqs]\n",
    "d2l.plot(freqs,xscale='log',yscale='log')"
   ],
   "metadata": {
    "collapsed": false,
    "ExecuteTime": {
     "end_time": "2024-11-14T17:50:01.370944Z",
     "start_time": "2024-11-14T17:50:01.029456Z"
    }
   },
   "id": "2f742300bdd741b9",
   "execution_count": 53
  },
  {
   "cell_type": "code",
   "outputs": [
    {
     "data": {
      "text/plain": "([(('of', 'the'), 309),\n  (('in', 'the'), 169),\n  (('i', 'had'), 130),\n  (('i', 'was'), 112),\n  (('and', 'the'), 109),\n  (('the', 'time'), 102),\n  (('it', 'was'), 99),\n  (('to', 'the'), 85),\n  (('as', 'i'), 78),\n  (('of', 'a'), 73)],\n 20235)"
     },
     "execution_count": 65,
     "metadata": {},
     "output_type": "execute_result"
    }
   ],
   "source": [
    "bigram_tokens = [pair for pair in zip(corpus[:-1], corpus[1:])]\n",
    "bigram_vocab = d2l.Vocab(bigram_tokens)\n",
    "bigram_vocab.token_freqs[:10], len(bigram_vocab)"
   ],
   "metadata": {
    "collapsed": false,
    "ExecuteTime": {
     "end_time": "2024-11-14T18:10:48.829616Z",
     "start_time": "2024-11-14T18:10:48.797855Z"
    }
   },
   "id": "14e026b7c5ed8cdb",
   "execution_count": 65
  },
  {
   "cell_type": "code",
   "outputs": [
    {
     "data": {
      "text/plain": "([(('the', 'time', 'traveller'), 59),\n  (('the', 'time', 'machine'), 30),\n  (('the', 'medical', 'man'), 24),\n  (('it', 'seemed', 'to'), 16),\n  (('it', 'was', 'a'), 15),\n  (('here', 'and', 'there'), 15),\n  (('seemed', 'to', 'me'), 14),\n  (('i', 'did', 'not'), 14),\n  (('i', 'saw', 'the'), 13),\n  (('i', 'began', 'to'), 13)],\n 29883)"
     },
     "execution_count": 64,
     "metadata": {},
     "output_type": "execute_result"
    }
   ],
   "source": [
    "trigram_tokens = [triple for triple in zip(\n",
    "    corpus[:-2], corpus[1:-1], corpus[2:])]\n",
    "trigram_vocab = d2l.Vocab(trigram_tokens)\n",
    "trigram_vocab.token_freqs[:10], len(trigram_vocab)"
   ],
   "metadata": {
    "collapsed": false,
    "ExecuteTime": {
     "end_time": "2024-11-14T18:09:48.231721Z",
     "start_time": "2024-11-14T18:09:48.198938Z"
    }
   },
   "id": "520971c04e84b5f3",
   "execution_count": 64
  },
  {
   "cell_type": "code",
   "outputs": [
    {
     "data": {
      "text/plain": "<Figure size 252x180 with 1 Axes>",
      "image/svg+xml": "<?xml version=\"1.0\" encoding=\"utf-8\" standalone=\"no\"?>\r\n<!DOCTYPE svg PUBLIC \"-//W3C//DTD SVG 1.1//EN\"\r\n  \"http://www.w3.org/Graphics/SVG/1.1/DTD/svg11.dtd\">\r\n<!-- Created with matplotlib (https://matplotlib.org/) -->\r\n<svg height=\"180.65625pt\" version=\"1.1\" viewBox=\"0 0 247.978125 180.65625\" width=\"247.978125pt\" xmlns=\"http://www.w3.org/2000/svg\" xmlns:xlink=\"http://www.w3.org/1999/xlink\">\r\n <metadata>\r\n  <rdf:RDF xmlns:cc=\"http://creativecommons.org/ns#\" xmlns:dc=\"http://purl.org/dc/elements/1.1/\" xmlns:rdf=\"http://www.w3.org/1999/02/22-rdf-syntax-ns#\">\r\n   <cc:Work>\r\n    <dc:type rdf:resource=\"http://purl.org/dc/dcmitype/StillImage\"/>\r\n    <dc:date>2024-11-15T01:51:21.113557</dc:date>\r\n    <dc:format>image/svg+xml</dc:format>\r\n    <dc:creator>\r\n     <cc:Agent>\r\n      <dc:title>Matplotlib v3.3.4, https://matplotlib.org/</dc:title>\r\n     </cc:Agent>\r\n    </dc:creator>\r\n   </cc:Work>\r\n  </rdf:RDF>\r\n </metadata>\r\n <defs>\r\n  <style type=\"text/css\">*{stroke-linecap:butt;stroke-linejoin:round;}</style>\r\n </defs>\r\n <g id=\"figure_1\">\r\n  <g id=\"patch_1\">\r\n   <path d=\"M 0 180.65625 \r\nL 247.978125 180.65625 \r\nL 247.978125 0 \r\nL 0 0 \r\nz\r\n\" style=\"fill:none;\"/>\r\n  </g>\r\n  <g id=\"axes_1\">\r\n   <g id=\"patch_2\">\r\n    <path d=\"M 45.478125 143.1 \r\nL 240.778125 143.1 \r\nL 240.778125 7.2 \r\nL 45.478125 7.2 \r\nz\r\n\" style=\"fill:#ffffff;\"/>\r\n   </g>\r\n   <g id=\"matplotlib.axis_1\">\r\n    <g id=\"xtick_1\">\r\n     <g id=\"line2d_1\">\r\n      <path clip-path=\"url(#pee04891658)\" d=\"M 54.355398 143.1 \r\nL 54.355398 7.2 \r\n\" style=\"fill:none;stroke:#b0b0b0;stroke-linecap:square;stroke-width:0.8;\"/>\r\n     </g>\r\n     <g id=\"line2d_2\">\r\n      <defs>\r\n       <path d=\"M 0 0 \r\nL 0 3.5 \r\n\" id=\"m5c7fd71bee\" style=\"stroke:#000000;stroke-width:0.8;\"/>\r\n      </defs>\r\n      <g>\r\n       <use style=\"stroke:#000000;stroke-width:0.8;\" x=\"54.355398\" xlink:href=\"#m5c7fd71bee\" y=\"143.1\"/>\r\n      </g>\r\n     </g>\r\n     <g id=\"text_1\">\r\n      <!-- $\\mathdefault{10^{0}}$ -->\r\n      <g transform=\"translate(45.555398 157.698438)scale(0.1 -0.1)\">\r\n       <defs>\r\n        <path d=\"M 12.40625 8.296875 \r\nL 28.515625 8.296875 \r\nL 28.515625 63.921875 \r\nL 10.984375 60.40625 \r\nL 10.984375 69.390625 \r\nL 28.421875 72.90625 \r\nL 38.28125 72.90625 \r\nL 38.28125 8.296875 \r\nL 54.390625 8.296875 \r\nL 54.390625 0 \r\nL 12.40625 0 \r\nz\r\n\" id=\"DejaVuSans-49\"/>\r\n        <path d=\"M 31.78125 66.40625 \r\nQ 24.171875 66.40625 20.328125 58.90625 \r\nQ 16.5 51.421875 16.5 36.375 \r\nQ 16.5 21.390625 20.328125 13.890625 \r\nQ 24.171875 6.390625 31.78125 6.390625 \r\nQ 39.453125 6.390625 43.28125 13.890625 \r\nQ 47.125 21.390625 47.125 36.375 \r\nQ 47.125 51.421875 43.28125 58.90625 \r\nQ 39.453125 66.40625 31.78125 66.40625 \r\nz\r\nM 31.78125 74.21875 \r\nQ 44.046875 74.21875 50.515625 64.515625 \r\nQ 56.984375 54.828125 56.984375 36.375 \r\nQ 56.984375 17.96875 50.515625 8.265625 \r\nQ 44.046875 -1.421875 31.78125 -1.421875 \r\nQ 19.53125 -1.421875 13.0625 8.265625 \r\nQ 6.59375 17.96875 6.59375 36.375 \r\nQ 6.59375 54.828125 13.0625 64.515625 \r\nQ 19.53125 74.21875 31.78125 74.21875 \r\nz\r\n\" id=\"DejaVuSans-48\"/>\r\n       </defs>\r\n       <use transform=\"translate(0 0.765625)\" xlink:href=\"#DejaVuSans-49\"/>\r\n       <use transform=\"translate(63.623047 0.765625)\" xlink:href=\"#DejaVuSans-48\"/>\r\n       <use transform=\"translate(128.203125 39.046875)scale(0.7)\" xlink:href=\"#DejaVuSans-48\"/>\r\n      </g>\r\n     </g>\r\n    </g>\r\n    <g id=\"xtick_2\">\r\n     <g id=\"line2d_3\">\r\n      <path clip-path=\"url(#pee04891658)\" d=\"M 94.026857 143.1 \r\nL 94.026857 7.2 \r\n\" style=\"fill:none;stroke:#b0b0b0;stroke-linecap:square;stroke-width:0.8;\"/>\r\n     </g>\r\n     <g id=\"line2d_4\">\r\n      <g>\r\n       <use style=\"stroke:#000000;stroke-width:0.8;\" x=\"94.026857\" xlink:href=\"#m5c7fd71bee\" y=\"143.1\"/>\r\n      </g>\r\n     </g>\r\n     <g id=\"text_2\">\r\n      <!-- $\\mathdefault{10^{1}}$ -->\r\n      <g transform=\"translate(85.226857 157.698438)scale(0.1 -0.1)\">\r\n       <use transform=\"translate(0 0.684375)\" xlink:href=\"#DejaVuSans-49\"/>\r\n       <use transform=\"translate(63.623047 0.684375)\" xlink:href=\"#DejaVuSans-48\"/>\r\n       <use transform=\"translate(128.203125 38.965625)scale(0.7)\" xlink:href=\"#DejaVuSans-49\"/>\r\n      </g>\r\n     </g>\r\n    </g>\r\n    <g id=\"xtick_3\">\r\n     <g id=\"line2d_5\">\r\n      <path clip-path=\"url(#pee04891658)\" d=\"M 133.698316 143.1 \r\nL 133.698316 7.2 \r\n\" style=\"fill:none;stroke:#b0b0b0;stroke-linecap:square;stroke-width:0.8;\"/>\r\n     </g>\r\n     <g id=\"line2d_6\">\r\n      <g>\r\n       <use style=\"stroke:#000000;stroke-width:0.8;\" x=\"133.698316\" xlink:href=\"#m5c7fd71bee\" y=\"143.1\"/>\r\n      </g>\r\n     </g>\r\n     <g id=\"text_3\">\r\n      <!-- $\\mathdefault{10^{2}}$ -->\r\n      <g transform=\"translate(124.898316 157.698438)scale(0.1 -0.1)\">\r\n       <defs>\r\n        <path d=\"M 19.1875 8.296875 \r\nL 53.609375 8.296875 \r\nL 53.609375 0 \r\nL 7.328125 0 \r\nL 7.328125 8.296875 \r\nQ 12.9375 14.109375 22.625 23.890625 \r\nQ 32.328125 33.6875 34.8125 36.53125 \r\nQ 39.546875 41.84375 41.421875 45.53125 \r\nQ 43.3125 49.21875 43.3125 52.78125 \r\nQ 43.3125 58.59375 39.234375 62.25 \r\nQ 35.15625 65.921875 28.609375 65.921875 \r\nQ 23.96875 65.921875 18.8125 64.3125 \r\nQ 13.671875 62.703125 7.8125 59.421875 \r\nL 7.8125 69.390625 \r\nQ 13.765625 71.78125 18.9375 73 \r\nQ 24.125 74.21875 28.421875 74.21875 \r\nQ 39.75 74.21875 46.484375 68.546875 \r\nQ 53.21875 62.890625 53.21875 53.421875 \r\nQ 53.21875 48.921875 51.53125 44.890625 \r\nQ 49.859375 40.875 45.40625 35.40625 \r\nQ 44.1875 33.984375 37.640625 27.21875 \r\nQ 31.109375 20.453125 19.1875 8.296875 \r\nz\r\n\" id=\"DejaVuSans-50\"/>\r\n       </defs>\r\n       <use transform=\"translate(0 0.765625)\" xlink:href=\"#DejaVuSans-49\"/>\r\n       <use transform=\"translate(63.623047 0.765625)\" xlink:href=\"#DejaVuSans-48\"/>\r\n       <use transform=\"translate(128.203125 39.046875)scale(0.7)\" xlink:href=\"#DejaVuSans-50\"/>\r\n      </g>\r\n     </g>\r\n    </g>\r\n    <g id=\"xtick_4\">\r\n     <g id=\"line2d_7\">\r\n      <path clip-path=\"url(#pee04891658)\" d=\"M 173.369775 143.1 \r\nL 173.369775 7.2 \r\n\" style=\"fill:none;stroke:#b0b0b0;stroke-linecap:square;stroke-width:0.8;\"/>\r\n     </g>\r\n     <g id=\"line2d_8\">\r\n      <g>\r\n       <use style=\"stroke:#000000;stroke-width:0.8;\" x=\"173.369775\" xlink:href=\"#m5c7fd71bee\" y=\"143.1\"/>\r\n      </g>\r\n     </g>\r\n     <g id=\"text_4\">\r\n      <!-- $\\mathdefault{10^{3}}$ -->\r\n      <g transform=\"translate(164.569775 157.698438)scale(0.1 -0.1)\">\r\n       <defs>\r\n        <path d=\"M 40.578125 39.3125 \r\nQ 47.65625 37.796875 51.625 33 \r\nQ 55.609375 28.21875 55.609375 21.1875 \r\nQ 55.609375 10.40625 48.1875 4.484375 \r\nQ 40.765625 -1.421875 27.09375 -1.421875 \r\nQ 22.515625 -1.421875 17.65625 -0.515625 \r\nQ 12.796875 0.390625 7.625 2.203125 \r\nL 7.625 11.71875 \r\nQ 11.71875 9.328125 16.59375 8.109375 \r\nQ 21.484375 6.890625 26.8125 6.890625 \r\nQ 36.078125 6.890625 40.9375 10.546875 \r\nQ 45.796875 14.203125 45.796875 21.1875 \r\nQ 45.796875 27.640625 41.28125 31.265625 \r\nQ 36.765625 34.90625 28.71875 34.90625 \r\nL 20.21875 34.90625 \r\nL 20.21875 43.015625 \r\nL 29.109375 43.015625 \r\nQ 36.375 43.015625 40.234375 45.921875 \r\nQ 44.09375 48.828125 44.09375 54.296875 \r\nQ 44.09375 59.90625 40.109375 62.90625 \r\nQ 36.140625 65.921875 28.71875 65.921875 \r\nQ 24.65625 65.921875 20.015625 65.03125 \r\nQ 15.375 64.15625 9.8125 62.3125 \r\nL 9.8125 71.09375 \r\nQ 15.4375 72.65625 20.34375 73.4375 \r\nQ 25.25 74.21875 29.59375 74.21875 \r\nQ 40.828125 74.21875 47.359375 69.109375 \r\nQ 53.90625 64.015625 53.90625 55.328125 \r\nQ 53.90625 49.265625 50.4375 45.09375 \r\nQ 46.96875 40.921875 40.578125 39.3125 \r\nz\r\n\" id=\"DejaVuSans-51\"/>\r\n       </defs>\r\n       <use transform=\"translate(0 0.765625)\" xlink:href=\"#DejaVuSans-49\"/>\r\n       <use transform=\"translate(63.623047 0.765625)\" xlink:href=\"#DejaVuSans-48\"/>\r\n       <use transform=\"translate(128.203125 39.046875)scale(0.7)\" xlink:href=\"#DejaVuSans-51\"/>\r\n      </g>\r\n     </g>\r\n    </g>\r\n    <g id=\"xtick_5\">\r\n     <g id=\"line2d_9\">\r\n      <path clip-path=\"url(#pee04891658)\" d=\"M 213.041234 143.1 \r\nL 213.041234 7.2 \r\n\" style=\"fill:none;stroke:#b0b0b0;stroke-linecap:square;stroke-width:0.8;\"/>\r\n     </g>\r\n     <g id=\"line2d_10\">\r\n      <g>\r\n       <use style=\"stroke:#000000;stroke-width:0.8;\" x=\"213.041234\" xlink:href=\"#m5c7fd71bee\" y=\"143.1\"/>\r\n      </g>\r\n     </g>\r\n     <g id=\"text_5\">\r\n      <!-- $\\mathdefault{10^{4}}$ -->\r\n      <g transform=\"translate(204.241234 157.698438)scale(0.1 -0.1)\">\r\n       <defs>\r\n        <path d=\"M 37.796875 64.3125 \r\nL 12.890625 25.390625 \r\nL 37.796875 25.390625 \r\nz\r\nM 35.203125 72.90625 \r\nL 47.609375 72.90625 \r\nL 47.609375 25.390625 \r\nL 58.015625 25.390625 \r\nL 58.015625 17.1875 \r\nL 47.609375 17.1875 \r\nL 47.609375 0 \r\nL 37.796875 0 \r\nL 37.796875 17.1875 \r\nL 4.890625 17.1875 \r\nL 4.890625 26.703125 \r\nz\r\n\" id=\"DejaVuSans-52\"/>\r\n       </defs>\r\n       <use transform=\"translate(0 0.684375)\" xlink:href=\"#DejaVuSans-49\"/>\r\n       <use transform=\"translate(63.623047 0.684375)\" xlink:href=\"#DejaVuSans-48\"/>\r\n       <use transform=\"translate(128.203125 38.965625)scale(0.7)\" xlink:href=\"#DejaVuSans-52\"/>\r\n      </g>\r\n     </g>\r\n    </g>\r\n    <g id=\"xtick_6\">\r\n     <g id=\"line2d_11\">\r\n      <defs>\r\n       <path d=\"M 0 0 \r\nL 0 2 \r\n\" id=\"m294b1befce\" style=\"stroke:#000000;stroke-width:0.6;\"/>\r\n      </defs>\r\n      <g>\r\n       <use style=\"stroke:#000000;stroke-width:0.6;\" x=\"45.554334\" xlink:href=\"#m294b1befce\" y=\"143.1\"/>\r\n      </g>\r\n     </g>\r\n    </g>\r\n    <g id=\"xtick_7\">\r\n     <g id=\"line2d_12\">\r\n      <g>\r\n       <use style=\"stroke:#000000;stroke-width:0.6;\" x=\"48.210211\" xlink:href=\"#m294b1befce\" y=\"143.1\"/>\r\n      </g>\r\n     </g>\r\n    </g>\r\n    <g id=\"xtick_8\">\r\n     <g id=\"line2d_13\">\r\n      <g>\r\n       <use style=\"stroke:#000000;stroke-width:0.6;\" x=\"50.510836\" xlink:href=\"#m294b1befce\" y=\"143.1\"/>\r\n      </g>\r\n     </g>\r\n    </g>\r\n    <g id=\"xtick_9\">\r\n     <g id=\"line2d_14\">\r\n      <g>\r\n       <use style=\"stroke:#000000;stroke-width:0.6;\" x=\"52.540131\" xlink:href=\"#m294b1befce\" y=\"143.1\"/>\r\n      </g>\r\n     </g>\r\n    </g>\r\n    <g id=\"xtick_10\">\r\n     <g id=\"line2d_15\">\r\n      <g>\r\n       <use style=\"stroke:#000000;stroke-width:0.6;\" x=\"66.297697\" xlink:href=\"#m294b1befce\" y=\"143.1\"/>\r\n      </g>\r\n     </g>\r\n    </g>\r\n    <g id=\"xtick_11\">\r\n     <g id=\"line2d_16\">\r\n      <g>\r\n       <use style=\"stroke:#000000;stroke-width:0.6;\" x=\"73.283494\" xlink:href=\"#m294b1befce\" y=\"143.1\"/>\r\n      </g>\r\n     </g>\r\n    </g>\r\n    <g id=\"xtick_12\">\r\n     <g id=\"line2d_17\">\r\n      <g>\r\n       <use style=\"stroke:#000000;stroke-width:0.6;\" x=\"78.239996\" xlink:href=\"#m294b1befce\" y=\"143.1\"/>\r\n      </g>\r\n     </g>\r\n    </g>\r\n    <g id=\"xtick_13\">\r\n     <g id=\"line2d_18\">\r\n      <g>\r\n       <use style=\"stroke:#000000;stroke-width:0.6;\" x=\"82.084558\" xlink:href=\"#m294b1befce\" y=\"143.1\"/>\r\n      </g>\r\n     </g>\r\n    </g>\r\n    <g id=\"xtick_14\">\r\n     <g id=\"line2d_19\">\r\n      <g>\r\n       <use style=\"stroke:#000000;stroke-width:0.6;\" x=\"85.225793\" xlink:href=\"#m294b1befce\" y=\"143.1\"/>\r\n      </g>\r\n     </g>\r\n    </g>\r\n    <g id=\"xtick_15\">\r\n     <g id=\"line2d_20\">\r\n      <g>\r\n       <use style=\"stroke:#000000;stroke-width:0.6;\" x=\"87.88167\" xlink:href=\"#m294b1befce\" y=\"143.1\"/>\r\n      </g>\r\n     </g>\r\n    </g>\r\n    <g id=\"xtick_16\">\r\n     <g id=\"line2d_21\">\r\n      <g>\r\n       <use style=\"stroke:#000000;stroke-width:0.6;\" x=\"90.182295\" xlink:href=\"#m294b1befce\" y=\"143.1\"/>\r\n      </g>\r\n     </g>\r\n    </g>\r\n    <g id=\"xtick_17\">\r\n     <g id=\"line2d_22\">\r\n      <g>\r\n       <use style=\"stroke:#000000;stroke-width:0.6;\" x=\"92.21159\" xlink:href=\"#m294b1befce\" y=\"143.1\"/>\r\n      </g>\r\n     </g>\r\n    </g>\r\n    <g id=\"xtick_18\">\r\n     <g id=\"line2d_23\">\r\n      <g>\r\n       <use style=\"stroke:#000000;stroke-width:0.6;\" x=\"105.969156\" xlink:href=\"#m294b1befce\" y=\"143.1\"/>\r\n      </g>\r\n     </g>\r\n    </g>\r\n    <g id=\"xtick_19\">\r\n     <g id=\"line2d_24\">\r\n      <g>\r\n       <use style=\"stroke:#000000;stroke-width:0.6;\" x=\"112.954953\" xlink:href=\"#m294b1befce\" y=\"143.1\"/>\r\n      </g>\r\n     </g>\r\n    </g>\r\n    <g id=\"xtick_20\">\r\n     <g id=\"line2d_25\">\r\n      <g>\r\n       <use style=\"stroke:#000000;stroke-width:0.6;\" x=\"117.911455\" xlink:href=\"#m294b1befce\" y=\"143.1\"/>\r\n      </g>\r\n     </g>\r\n    </g>\r\n    <g id=\"xtick_21\">\r\n     <g id=\"line2d_26\">\r\n      <g>\r\n       <use style=\"stroke:#000000;stroke-width:0.6;\" x=\"121.756017\" xlink:href=\"#m294b1befce\" y=\"143.1\"/>\r\n      </g>\r\n     </g>\r\n    </g>\r\n    <g id=\"xtick_22\">\r\n     <g id=\"line2d_27\">\r\n      <g>\r\n       <use style=\"stroke:#000000;stroke-width:0.6;\" x=\"124.897252\" xlink:href=\"#m294b1befce\" y=\"143.1\"/>\r\n      </g>\r\n     </g>\r\n    </g>\r\n    <g id=\"xtick_23\">\r\n     <g id=\"line2d_28\">\r\n      <g>\r\n       <use style=\"stroke:#000000;stroke-width:0.6;\" x=\"127.553129\" xlink:href=\"#m294b1befce\" y=\"143.1\"/>\r\n      </g>\r\n     </g>\r\n    </g>\r\n    <g id=\"xtick_24\">\r\n     <g id=\"line2d_29\">\r\n      <g>\r\n       <use style=\"stroke:#000000;stroke-width:0.6;\" x=\"129.853754\" xlink:href=\"#m294b1befce\" y=\"143.1\"/>\r\n      </g>\r\n     </g>\r\n    </g>\r\n    <g id=\"xtick_25\">\r\n     <g id=\"line2d_30\">\r\n      <g>\r\n       <use style=\"stroke:#000000;stroke-width:0.6;\" x=\"131.883049\" xlink:href=\"#m294b1befce\" y=\"143.1\"/>\r\n      </g>\r\n     </g>\r\n    </g>\r\n    <g id=\"xtick_26\">\r\n     <g id=\"line2d_31\">\r\n      <g>\r\n       <use style=\"stroke:#000000;stroke-width:0.6;\" x=\"145.640615\" xlink:href=\"#m294b1befce\" y=\"143.1\"/>\r\n      </g>\r\n     </g>\r\n    </g>\r\n    <g id=\"xtick_27\">\r\n     <g id=\"line2d_32\">\r\n      <g>\r\n       <use style=\"stroke:#000000;stroke-width:0.6;\" x=\"152.626412\" xlink:href=\"#m294b1befce\" y=\"143.1\"/>\r\n      </g>\r\n     </g>\r\n    </g>\r\n    <g id=\"xtick_28\">\r\n     <g id=\"line2d_33\">\r\n      <g>\r\n       <use style=\"stroke:#000000;stroke-width:0.6;\" x=\"157.582914\" xlink:href=\"#m294b1befce\" y=\"143.1\"/>\r\n      </g>\r\n     </g>\r\n    </g>\r\n    <g id=\"xtick_29\">\r\n     <g id=\"line2d_34\">\r\n      <g>\r\n       <use style=\"stroke:#000000;stroke-width:0.6;\" x=\"161.427476\" xlink:href=\"#m294b1befce\" y=\"143.1\"/>\r\n      </g>\r\n     </g>\r\n    </g>\r\n    <g id=\"xtick_30\">\r\n     <g id=\"line2d_35\">\r\n      <g>\r\n       <use style=\"stroke:#000000;stroke-width:0.6;\" x=\"164.568711\" xlink:href=\"#m294b1befce\" y=\"143.1\"/>\r\n      </g>\r\n     </g>\r\n    </g>\r\n    <g id=\"xtick_31\">\r\n     <g id=\"line2d_36\">\r\n      <g>\r\n       <use style=\"stroke:#000000;stroke-width:0.6;\" x=\"167.224588\" xlink:href=\"#m294b1befce\" y=\"143.1\"/>\r\n      </g>\r\n     </g>\r\n    </g>\r\n    <g id=\"xtick_32\">\r\n     <g id=\"line2d_37\">\r\n      <g>\r\n       <use style=\"stroke:#000000;stroke-width:0.6;\" x=\"169.525213\" xlink:href=\"#m294b1befce\" y=\"143.1\"/>\r\n      </g>\r\n     </g>\r\n    </g>\r\n    <g id=\"xtick_33\">\r\n     <g id=\"line2d_38\">\r\n      <g>\r\n       <use style=\"stroke:#000000;stroke-width:0.6;\" x=\"171.554508\" xlink:href=\"#m294b1befce\" y=\"143.1\"/>\r\n      </g>\r\n     </g>\r\n    </g>\r\n    <g id=\"xtick_34\">\r\n     <g id=\"line2d_39\">\r\n      <g>\r\n       <use style=\"stroke:#000000;stroke-width:0.6;\" x=\"185.312074\" xlink:href=\"#m294b1befce\" y=\"143.1\"/>\r\n      </g>\r\n     </g>\r\n    </g>\r\n    <g id=\"xtick_35\">\r\n     <g id=\"line2d_40\">\r\n      <g>\r\n       <use style=\"stroke:#000000;stroke-width:0.6;\" x=\"192.297871\" xlink:href=\"#m294b1befce\" y=\"143.1\"/>\r\n      </g>\r\n     </g>\r\n    </g>\r\n    <g id=\"xtick_36\">\r\n     <g id=\"line2d_41\">\r\n      <g>\r\n       <use style=\"stroke:#000000;stroke-width:0.6;\" x=\"197.254373\" xlink:href=\"#m294b1befce\" y=\"143.1\"/>\r\n      </g>\r\n     </g>\r\n    </g>\r\n    <g id=\"xtick_37\">\r\n     <g id=\"line2d_42\">\r\n      <g>\r\n       <use style=\"stroke:#000000;stroke-width:0.6;\" x=\"201.098935\" xlink:href=\"#m294b1befce\" y=\"143.1\"/>\r\n      </g>\r\n     </g>\r\n    </g>\r\n    <g id=\"xtick_38\">\r\n     <g id=\"line2d_43\">\r\n      <g>\r\n       <use style=\"stroke:#000000;stroke-width:0.6;\" x=\"204.24017\" xlink:href=\"#m294b1befce\" y=\"143.1\"/>\r\n      </g>\r\n     </g>\r\n    </g>\r\n    <g id=\"xtick_39\">\r\n     <g id=\"line2d_44\">\r\n      <g>\r\n       <use style=\"stroke:#000000;stroke-width:0.6;\" x=\"206.896047\" xlink:href=\"#m294b1befce\" y=\"143.1\"/>\r\n      </g>\r\n     </g>\r\n    </g>\r\n    <g id=\"xtick_40\">\r\n     <g id=\"line2d_45\">\r\n      <g>\r\n       <use style=\"stroke:#000000;stroke-width:0.6;\" x=\"209.196672\" xlink:href=\"#m294b1befce\" y=\"143.1\"/>\r\n      </g>\r\n     </g>\r\n    </g>\r\n    <g id=\"xtick_41\">\r\n     <g id=\"line2d_46\">\r\n      <g>\r\n       <use style=\"stroke:#000000;stroke-width:0.6;\" x=\"211.225968\" xlink:href=\"#m294b1befce\" y=\"143.1\"/>\r\n      </g>\r\n     </g>\r\n    </g>\r\n    <g id=\"xtick_42\">\r\n     <g id=\"line2d_47\">\r\n      <g>\r\n       <use style=\"stroke:#000000;stroke-width:0.6;\" x=\"224.983533\" xlink:href=\"#m294b1befce\" y=\"143.1\"/>\r\n      </g>\r\n     </g>\r\n    </g>\r\n    <g id=\"xtick_43\">\r\n     <g id=\"line2d_48\">\r\n      <g>\r\n       <use style=\"stroke:#000000;stroke-width:0.6;\" x=\"231.96933\" xlink:href=\"#m294b1befce\" y=\"143.1\"/>\r\n      </g>\r\n     </g>\r\n    </g>\r\n    <g id=\"xtick_44\">\r\n     <g id=\"line2d_49\">\r\n      <g>\r\n       <use style=\"stroke:#000000;stroke-width:0.6;\" x=\"236.925832\" xlink:href=\"#m294b1befce\" y=\"143.1\"/>\r\n      </g>\r\n     </g>\r\n    </g>\r\n    <g id=\"xtick_45\">\r\n     <g id=\"line2d_50\">\r\n      <g>\r\n       <use style=\"stroke:#000000;stroke-width:0.6;\" x=\"240.770394\" xlink:href=\"#m294b1befce\" y=\"143.1\"/>\r\n      </g>\r\n     </g>\r\n    </g>\r\n    <g id=\"text_6\">\r\n     <!-- token: x -->\r\n     <g transform=\"translate(122.916406 171.376563)scale(0.1 -0.1)\">\r\n      <defs>\r\n       <path d=\"M 18.3125 70.21875 \r\nL 18.3125 54.6875 \r\nL 36.8125 54.6875 \r\nL 36.8125 47.703125 \r\nL 18.3125 47.703125 \r\nL 18.3125 18.015625 \r\nQ 18.3125 11.328125 20.140625 9.421875 \r\nQ 21.96875 7.515625 27.59375 7.515625 \r\nL 36.8125 7.515625 \r\nL 36.8125 0 \r\nL 27.59375 0 \r\nQ 17.1875 0 13.234375 3.875 \r\nQ 9.28125 7.765625 9.28125 18.015625 \r\nL 9.28125 47.703125 \r\nL 2.6875 47.703125 \r\nL 2.6875 54.6875 \r\nL 9.28125 54.6875 \r\nL 9.28125 70.21875 \r\nz\r\n\" id=\"DejaVuSans-116\"/>\r\n       <path d=\"M 30.609375 48.390625 \r\nQ 23.390625 48.390625 19.1875 42.75 \r\nQ 14.984375 37.109375 14.984375 27.296875 \r\nQ 14.984375 17.484375 19.15625 11.84375 \r\nQ 23.34375 6.203125 30.609375 6.203125 \r\nQ 37.796875 6.203125 41.984375 11.859375 \r\nQ 46.1875 17.53125 46.1875 27.296875 \r\nQ 46.1875 37.015625 41.984375 42.703125 \r\nQ 37.796875 48.390625 30.609375 48.390625 \r\nz\r\nM 30.609375 56 \r\nQ 42.328125 56 49.015625 48.375 \r\nQ 55.71875 40.765625 55.71875 27.296875 \r\nQ 55.71875 13.875 49.015625 6.21875 \r\nQ 42.328125 -1.421875 30.609375 -1.421875 \r\nQ 18.84375 -1.421875 12.171875 6.21875 \r\nQ 5.515625 13.875 5.515625 27.296875 \r\nQ 5.515625 40.765625 12.171875 48.375 \r\nQ 18.84375 56 30.609375 56 \r\nz\r\n\" id=\"DejaVuSans-111\"/>\r\n       <path d=\"M 9.078125 75.984375 \r\nL 18.109375 75.984375 \r\nL 18.109375 31.109375 \r\nL 44.921875 54.6875 \r\nL 56.390625 54.6875 \r\nL 27.390625 29.109375 \r\nL 57.625 0 \r\nL 45.90625 0 \r\nL 18.109375 26.703125 \r\nL 18.109375 0 \r\nL 9.078125 0 \r\nz\r\n\" id=\"DejaVuSans-107\"/>\r\n       <path d=\"M 56.203125 29.59375 \r\nL 56.203125 25.203125 \r\nL 14.890625 25.203125 \r\nQ 15.484375 15.921875 20.484375 11.0625 \r\nQ 25.484375 6.203125 34.421875 6.203125 \r\nQ 39.59375 6.203125 44.453125 7.46875 \r\nQ 49.3125 8.734375 54.109375 11.28125 \r\nL 54.109375 2.78125 \r\nQ 49.265625 0.734375 44.1875 -0.34375 \r\nQ 39.109375 -1.421875 33.890625 -1.421875 \r\nQ 20.796875 -1.421875 13.15625 6.1875 \r\nQ 5.515625 13.8125 5.515625 26.8125 \r\nQ 5.515625 40.234375 12.765625 48.109375 \r\nQ 20.015625 56 32.328125 56 \r\nQ 43.359375 56 49.78125 48.890625 \r\nQ 56.203125 41.796875 56.203125 29.59375 \r\nz\r\nM 47.21875 32.234375 \r\nQ 47.125 39.59375 43.09375 43.984375 \r\nQ 39.0625 48.390625 32.421875 48.390625 \r\nQ 24.90625 48.390625 20.390625 44.140625 \r\nQ 15.875 39.890625 15.1875 32.171875 \r\nz\r\n\" id=\"DejaVuSans-101\"/>\r\n       <path d=\"M 54.890625 33.015625 \r\nL 54.890625 0 \r\nL 45.90625 0 \r\nL 45.90625 32.71875 \r\nQ 45.90625 40.484375 42.875 44.328125 \r\nQ 39.84375 48.1875 33.796875 48.1875 \r\nQ 26.515625 48.1875 22.3125 43.546875 \r\nQ 18.109375 38.921875 18.109375 30.90625 \r\nL 18.109375 0 \r\nL 9.078125 0 \r\nL 9.078125 54.6875 \r\nL 18.109375 54.6875 \r\nL 18.109375 46.1875 \r\nQ 21.34375 51.125 25.703125 53.5625 \r\nQ 30.078125 56 35.796875 56 \r\nQ 45.21875 56 50.046875 50.171875 \r\nQ 54.890625 44.34375 54.890625 33.015625 \r\nz\r\n\" id=\"DejaVuSans-110\"/>\r\n       <path d=\"M 11.71875 12.40625 \r\nL 22.015625 12.40625 \r\nL 22.015625 0 \r\nL 11.71875 0 \r\nz\r\nM 11.71875 51.703125 \r\nL 22.015625 51.703125 \r\nL 22.015625 39.3125 \r\nL 11.71875 39.3125 \r\nz\r\n\" id=\"DejaVuSans-58\"/>\r\n       <path id=\"DejaVuSans-32\"/>\r\n       <path d=\"M 54.890625 54.6875 \r\nL 35.109375 28.078125 \r\nL 55.90625 0 \r\nL 45.3125 0 \r\nL 29.390625 21.484375 \r\nL 13.484375 0 \r\nL 2.875 0 \r\nL 24.125 28.609375 \r\nL 4.6875 54.6875 \r\nL 15.28125 54.6875 \r\nL 29.78125 35.203125 \r\nL 44.28125 54.6875 \r\nz\r\n\" id=\"DejaVuSans-120\"/>\r\n      </defs>\r\n      <use xlink:href=\"#DejaVuSans-116\"/>\r\n      <use x=\"39.208984\" xlink:href=\"#DejaVuSans-111\"/>\r\n      <use x=\"100.390625\" xlink:href=\"#DejaVuSans-107\"/>\r\n      <use x=\"154.675781\" xlink:href=\"#DejaVuSans-101\"/>\r\n      <use x=\"216.199219\" xlink:href=\"#DejaVuSans-110\"/>\r\n      <use x=\"279.578125\" xlink:href=\"#DejaVuSans-58\"/>\r\n      <use x=\"313.269531\" xlink:href=\"#DejaVuSans-32\"/>\r\n      <use x=\"345.056641\" xlink:href=\"#DejaVuSans-120\"/>\r\n     </g>\r\n    </g>\r\n   </g>\r\n   <g id=\"matplotlib.axis_2\">\r\n    <g id=\"ytick_1\">\r\n     <g id=\"line2d_51\">\r\n      <path clip-path=\"url(#pee04891658)\" d=\"M 45.478125 136.922727 \r\nL 240.778125 136.922727 \r\n\" style=\"fill:none;stroke:#b0b0b0;stroke-linecap:square;stroke-width:0.8;\"/>\r\n     </g>\r\n     <g id=\"line2d_52\">\r\n      <defs>\r\n       <path d=\"M 0 0 \r\nL -3.5 0 \r\n\" id=\"m99f06fb37c\" style=\"stroke:#000000;stroke-width:0.8;\"/>\r\n      </defs>\r\n      <g>\r\n       <use style=\"stroke:#000000;stroke-width:0.8;\" x=\"45.478125\" xlink:href=\"#m99f06fb37c\" y=\"136.922727\"/>\r\n      </g>\r\n     </g>\r\n     <g id=\"text_7\">\r\n      <!-- $\\mathdefault{10^{0}}$ -->\r\n      <g transform=\"translate(20.878125 140.721946)scale(0.1 -0.1)\">\r\n       <use transform=\"translate(0 0.765625)\" xlink:href=\"#DejaVuSans-49\"/>\r\n       <use transform=\"translate(63.623047 0.765625)\" xlink:href=\"#DejaVuSans-48\"/>\r\n       <use transform=\"translate(128.203125 39.046875)scale(0.7)\" xlink:href=\"#DejaVuSans-48\"/>\r\n      </g>\r\n     </g>\r\n    </g>\r\n    <g id=\"ytick_2\">\r\n     <g id=\"line2d_53\">\r\n      <path clip-path=\"url(#pee04891658)\" d=\"M 45.478125 100.09077 \r\nL 240.778125 100.09077 \r\n\" style=\"fill:none;stroke:#b0b0b0;stroke-linecap:square;stroke-width:0.8;\"/>\r\n     </g>\r\n     <g id=\"line2d_54\">\r\n      <g>\r\n       <use style=\"stroke:#000000;stroke-width:0.8;\" x=\"45.478125\" xlink:href=\"#m99f06fb37c\" y=\"100.09077\"/>\r\n      </g>\r\n     </g>\r\n     <g id=\"text_8\">\r\n      <!-- $\\mathdefault{10^{1}}$ -->\r\n      <g transform=\"translate(20.878125 103.889989)scale(0.1 -0.1)\">\r\n       <use transform=\"translate(0 0.684375)\" xlink:href=\"#DejaVuSans-49\"/>\r\n       <use transform=\"translate(63.623047 0.684375)\" xlink:href=\"#DejaVuSans-48\"/>\r\n       <use transform=\"translate(128.203125 38.965625)scale(0.7)\" xlink:href=\"#DejaVuSans-49\"/>\r\n      </g>\r\n     </g>\r\n    </g>\r\n    <g id=\"ytick_3\">\r\n     <g id=\"line2d_55\">\r\n      <path clip-path=\"url(#pee04891658)\" d=\"M 45.478125 63.258813 \r\nL 240.778125 63.258813 \r\n\" style=\"fill:none;stroke:#b0b0b0;stroke-linecap:square;stroke-width:0.8;\"/>\r\n     </g>\r\n     <g id=\"line2d_56\">\r\n      <g>\r\n       <use style=\"stroke:#000000;stroke-width:0.8;\" x=\"45.478125\" xlink:href=\"#m99f06fb37c\" y=\"63.258813\"/>\r\n      </g>\r\n     </g>\r\n     <g id=\"text_9\">\r\n      <!-- $\\mathdefault{10^{2}}$ -->\r\n      <g transform=\"translate(20.878125 67.058032)scale(0.1 -0.1)\">\r\n       <use transform=\"translate(0 0.765625)\" xlink:href=\"#DejaVuSans-49\"/>\r\n       <use transform=\"translate(63.623047 0.765625)\" xlink:href=\"#DejaVuSans-48\"/>\r\n       <use transform=\"translate(128.203125 39.046875)scale(0.7)\" xlink:href=\"#DejaVuSans-50\"/>\r\n      </g>\r\n     </g>\r\n    </g>\r\n    <g id=\"ytick_4\">\r\n     <g id=\"line2d_57\">\r\n      <path clip-path=\"url(#pee04891658)\" d=\"M 45.478125 26.426856 \r\nL 240.778125 26.426856 \r\n\" style=\"fill:none;stroke:#b0b0b0;stroke-linecap:square;stroke-width:0.8;\"/>\r\n     </g>\r\n     <g id=\"line2d_58\">\r\n      <g>\r\n       <use style=\"stroke:#000000;stroke-width:0.8;\" x=\"45.478125\" xlink:href=\"#m99f06fb37c\" y=\"26.426856\"/>\r\n      </g>\r\n     </g>\r\n     <g id=\"text_10\">\r\n      <!-- $\\mathdefault{10^{3}}$ -->\r\n      <g transform=\"translate(20.878125 30.226075)scale(0.1 -0.1)\">\r\n       <use transform=\"translate(0 0.765625)\" xlink:href=\"#DejaVuSans-49\"/>\r\n       <use transform=\"translate(63.623047 0.765625)\" xlink:href=\"#DejaVuSans-48\"/>\r\n       <use transform=\"translate(128.203125 39.046875)scale(0.7)\" xlink:href=\"#DejaVuSans-51\"/>\r\n      </g>\r\n     </g>\r\n    </g>\r\n    <g id=\"ytick_5\">\r\n     <g id=\"line2d_59\">\r\n      <defs>\r\n       <path d=\"M 0 0 \r\nL -2 0 \r\n\" id=\"mbaf233d096\" style=\"stroke:#000000;stroke-width:0.6;\"/>\r\n      </defs>\r\n      <g>\r\n       <use style=\"stroke:#000000;stroke-width:0.6;\" x=\"45.478125\" xlink:href=\"#mbaf233d096\" y=\"142.62807\"/>\r\n      </g>\r\n     </g>\r\n    </g>\r\n    <g id=\"ytick_6\">\r\n     <g id=\"line2d_60\">\r\n      <g>\r\n       <use style=\"stroke:#000000;stroke-width:0.6;\" x=\"45.478125\" xlink:href=\"#mbaf233d096\" y=\"140.492113\"/>\r\n      </g>\r\n     </g>\r\n    </g>\r\n    <g id=\"ytick_7\">\r\n     <g id=\"line2d_61\">\r\n      <g>\r\n       <use style=\"stroke:#000000;stroke-width:0.6;\" x=\"45.478125\" xlink:href=\"#mbaf233d096\" y=\"138.608065\"/>\r\n      </g>\r\n     </g>\r\n    </g>\r\n    <g id=\"ytick_8\">\r\n     <g id=\"line2d_62\">\r\n      <g>\r\n       <use style=\"stroke:#000000;stroke-width:0.6;\" x=\"45.478125\" xlink:href=\"#mbaf233d096\" y=\"125.835203\"/>\r\n      </g>\r\n     </g>\r\n    </g>\r\n    <g id=\"ytick_9\">\r\n     <g id=\"line2d_63\">\r\n      <g>\r\n       <use style=\"stroke:#000000;stroke-width:0.6;\" x=\"45.478125\" xlink:href=\"#mbaf233d096\" y=\"119.349418\"/>\r\n      </g>\r\n     </g>\r\n    </g>\r\n    <g id=\"ytick_10\">\r\n     <g id=\"line2d_64\">\r\n      <g>\r\n       <use style=\"stroke:#000000;stroke-width:0.6;\" x=\"45.478125\" xlink:href=\"#mbaf233d096\" y=\"114.747679\"/>\r\n      </g>\r\n     </g>\r\n    </g>\r\n    <g id=\"ytick_11\">\r\n     <g id=\"line2d_65\">\r\n      <g>\r\n       <use style=\"stroke:#000000;stroke-width:0.6;\" x=\"45.478125\" xlink:href=\"#mbaf233d096\" y=\"111.178294\"/>\r\n      </g>\r\n     </g>\r\n    </g>\r\n    <g id=\"ytick_12\">\r\n     <g id=\"line2d_66\">\r\n      <g>\r\n       <use style=\"stroke:#000000;stroke-width:0.6;\" x=\"45.478125\" xlink:href=\"#mbaf233d096\" y=\"108.261894\"/>\r\n      </g>\r\n     </g>\r\n    </g>\r\n    <g id=\"ytick_13\">\r\n     <g id=\"line2d_67\">\r\n      <g>\r\n       <use style=\"stroke:#000000;stroke-width:0.6;\" x=\"45.478125\" xlink:href=\"#mbaf233d096\" y=\"105.796112\"/>\r\n      </g>\r\n     </g>\r\n    </g>\r\n    <g id=\"ytick_14\">\r\n     <g id=\"line2d_68\">\r\n      <g>\r\n       <use style=\"stroke:#000000;stroke-width:0.6;\" x=\"45.478125\" xlink:href=\"#mbaf233d096\" y=\"103.660156\"/>\r\n      </g>\r\n     </g>\r\n    </g>\r\n    <g id=\"ytick_15\">\r\n     <g id=\"line2d_69\">\r\n      <g>\r\n       <use style=\"stroke:#000000;stroke-width:0.6;\" x=\"45.478125\" xlink:href=\"#mbaf233d096\" y=\"101.776108\"/>\r\n      </g>\r\n     </g>\r\n    </g>\r\n    <g id=\"ytick_16\">\r\n     <g id=\"line2d_70\">\r\n      <g>\r\n       <use style=\"stroke:#000000;stroke-width:0.6;\" x=\"45.478125\" xlink:href=\"#mbaf233d096\" y=\"89.003246\"/>\r\n      </g>\r\n     </g>\r\n    </g>\r\n    <g id=\"ytick_17\">\r\n     <g id=\"line2d_71\">\r\n      <g>\r\n       <use style=\"stroke:#000000;stroke-width:0.6;\" x=\"45.478125\" xlink:href=\"#mbaf233d096\" y=\"82.517461\"/>\r\n      </g>\r\n     </g>\r\n    </g>\r\n    <g id=\"ytick_18\">\r\n     <g id=\"line2d_72\">\r\n      <g>\r\n       <use style=\"stroke:#000000;stroke-width:0.6;\" x=\"45.478125\" xlink:href=\"#mbaf233d096\" y=\"77.915722\"/>\r\n      </g>\r\n     </g>\r\n    </g>\r\n    <g id=\"ytick_19\">\r\n     <g id=\"line2d_73\">\r\n      <g>\r\n       <use style=\"stroke:#000000;stroke-width:0.6;\" x=\"45.478125\" xlink:href=\"#mbaf233d096\" y=\"74.346337\"/>\r\n      </g>\r\n     </g>\r\n    </g>\r\n    <g id=\"ytick_20\">\r\n     <g id=\"line2d_74\">\r\n      <g>\r\n       <use style=\"stroke:#000000;stroke-width:0.6;\" x=\"45.478125\" xlink:href=\"#mbaf233d096\" y=\"71.429937\"/>\r\n      </g>\r\n     </g>\r\n    </g>\r\n    <g id=\"ytick_21\">\r\n     <g id=\"line2d_75\">\r\n      <g>\r\n       <use style=\"stroke:#000000;stroke-width:0.6;\" x=\"45.478125\" xlink:href=\"#mbaf233d096\" y=\"68.964155\"/>\r\n      </g>\r\n     </g>\r\n    </g>\r\n    <g id=\"ytick_22\">\r\n     <g id=\"line2d_76\">\r\n      <g>\r\n       <use style=\"stroke:#000000;stroke-width:0.6;\" x=\"45.478125\" xlink:href=\"#mbaf233d096\" y=\"66.828198\"/>\r\n      </g>\r\n     </g>\r\n    </g>\r\n    <g id=\"ytick_23\">\r\n     <g id=\"line2d_77\">\r\n      <g>\r\n       <use style=\"stroke:#000000;stroke-width:0.6;\" x=\"45.478125\" xlink:href=\"#mbaf233d096\" y=\"64.944151\"/>\r\n      </g>\r\n     </g>\r\n    </g>\r\n    <g id=\"ytick_24\">\r\n     <g id=\"line2d_78\">\r\n      <g>\r\n       <use style=\"stroke:#000000;stroke-width:0.6;\" x=\"45.478125\" xlink:href=\"#mbaf233d096\" y=\"52.171289\"/>\r\n      </g>\r\n     </g>\r\n    </g>\r\n    <g id=\"ytick_25\">\r\n     <g id=\"line2d_79\">\r\n      <g>\r\n       <use style=\"stroke:#000000;stroke-width:0.6;\" x=\"45.478125\" xlink:href=\"#mbaf233d096\" y=\"45.685503\"/>\r\n      </g>\r\n     </g>\r\n    </g>\r\n    <g id=\"ytick_26\">\r\n     <g id=\"line2d_80\">\r\n      <g>\r\n       <use style=\"stroke:#000000;stroke-width:0.6;\" x=\"45.478125\" xlink:href=\"#mbaf233d096\" y=\"41.083765\"/>\r\n      </g>\r\n     </g>\r\n    </g>\r\n    <g id=\"ytick_27\">\r\n     <g id=\"line2d_81\">\r\n      <g>\r\n       <use style=\"stroke:#000000;stroke-width:0.6;\" x=\"45.478125\" xlink:href=\"#mbaf233d096\" y=\"37.51438\"/>\r\n      </g>\r\n     </g>\r\n    </g>\r\n    <g id=\"ytick_28\">\r\n     <g id=\"line2d_82\">\r\n      <g>\r\n       <use style=\"stroke:#000000;stroke-width:0.6;\" x=\"45.478125\" xlink:href=\"#mbaf233d096\" y=\"34.597979\"/>\r\n      </g>\r\n     </g>\r\n    </g>\r\n    <g id=\"ytick_29\">\r\n     <g id=\"line2d_83\">\r\n      <g>\r\n       <use style=\"stroke:#000000;stroke-width:0.6;\" x=\"45.478125\" xlink:href=\"#mbaf233d096\" y=\"32.132198\"/>\r\n      </g>\r\n     </g>\r\n    </g>\r\n    <g id=\"ytick_30\">\r\n     <g id=\"line2d_84\">\r\n      <g>\r\n       <use style=\"stroke:#000000;stroke-width:0.6;\" x=\"45.478125\" xlink:href=\"#mbaf233d096\" y=\"29.996241\"/>\r\n      </g>\r\n     </g>\r\n    </g>\r\n    <g id=\"ytick_31\">\r\n     <g id=\"line2d_85\">\r\n      <g>\r\n       <use style=\"stroke:#000000;stroke-width:0.6;\" x=\"45.478125\" xlink:href=\"#mbaf233d096\" y=\"28.112194\"/>\r\n      </g>\r\n     </g>\r\n    </g>\r\n    <g id=\"ytick_32\">\r\n     <g id=\"line2d_86\">\r\n      <g>\r\n       <use style=\"stroke:#000000;stroke-width:0.6;\" x=\"45.478125\" xlink:href=\"#mbaf233d096\" y=\"15.339332\"/>\r\n      </g>\r\n     </g>\r\n    </g>\r\n    <g id=\"ytick_33\">\r\n     <g id=\"line2d_87\">\r\n      <g>\r\n       <use style=\"stroke:#000000;stroke-width:0.6;\" x=\"45.478125\" xlink:href=\"#mbaf233d096\" y=\"8.853546\"/>\r\n      </g>\r\n     </g>\r\n    </g>\r\n    <g id=\"text_11\">\r\n     <!-- frequency: n(x) -->\r\n     <g transform=\"translate(14.798438 113.167187)rotate(-90)scale(0.1 -0.1)\">\r\n      <defs>\r\n       <path d=\"M 37.109375 75.984375 \r\nL 37.109375 68.5 \r\nL 28.515625 68.5 \r\nQ 23.6875 68.5 21.796875 66.546875 \r\nQ 19.921875 64.59375 19.921875 59.515625 \r\nL 19.921875 54.6875 \r\nL 34.71875 54.6875 \r\nL 34.71875 47.703125 \r\nL 19.921875 47.703125 \r\nL 19.921875 0 \r\nL 10.890625 0 \r\nL 10.890625 47.703125 \r\nL 2.296875 47.703125 \r\nL 2.296875 54.6875 \r\nL 10.890625 54.6875 \r\nL 10.890625 58.5 \r\nQ 10.890625 67.625 15.140625 71.796875 \r\nQ 19.390625 75.984375 28.609375 75.984375 \r\nz\r\n\" id=\"DejaVuSans-102\"/>\r\n       <path d=\"M 41.109375 46.296875 \r\nQ 39.59375 47.171875 37.8125 47.578125 \r\nQ 36.03125 48 33.890625 48 \r\nQ 26.265625 48 22.1875 43.046875 \r\nQ 18.109375 38.09375 18.109375 28.8125 \r\nL 18.109375 0 \r\nL 9.078125 0 \r\nL 9.078125 54.6875 \r\nL 18.109375 54.6875 \r\nL 18.109375 46.1875 \r\nQ 20.953125 51.171875 25.484375 53.578125 \r\nQ 30.03125 56 36.53125 56 \r\nQ 37.453125 56 38.578125 55.875 \r\nQ 39.703125 55.765625 41.0625 55.515625 \r\nz\r\n\" id=\"DejaVuSans-114\"/>\r\n       <path d=\"M 14.796875 27.296875 \r\nQ 14.796875 17.390625 18.875 11.75 \r\nQ 22.953125 6.109375 30.078125 6.109375 \r\nQ 37.203125 6.109375 41.296875 11.75 \r\nQ 45.40625 17.390625 45.40625 27.296875 \r\nQ 45.40625 37.203125 41.296875 42.84375 \r\nQ 37.203125 48.484375 30.078125 48.484375 \r\nQ 22.953125 48.484375 18.875 42.84375 \r\nQ 14.796875 37.203125 14.796875 27.296875 \r\nz\r\nM 45.40625 8.203125 \r\nQ 42.578125 3.328125 38.25 0.953125 \r\nQ 33.9375 -1.421875 27.875 -1.421875 \r\nQ 17.96875 -1.421875 11.734375 6.484375 \r\nQ 5.515625 14.40625 5.515625 27.296875 \r\nQ 5.515625 40.1875 11.734375 48.09375 \r\nQ 17.96875 56 27.875 56 \r\nQ 33.9375 56 38.25 53.625 \r\nQ 42.578125 51.265625 45.40625 46.390625 \r\nL 45.40625 54.6875 \r\nL 54.390625 54.6875 \r\nL 54.390625 -20.796875 \r\nL 45.40625 -20.796875 \r\nz\r\n\" id=\"DejaVuSans-113\"/>\r\n       <path d=\"M 8.5 21.578125 \r\nL 8.5 54.6875 \r\nL 17.484375 54.6875 \r\nL 17.484375 21.921875 \r\nQ 17.484375 14.15625 20.5 10.265625 \r\nQ 23.53125 6.390625 29.59375 6.390625 \r\nQ 36.859375 6.390625 41.078125 11.03125 \r\nQ 45.3125 15.671875 45.3125 23.6875 \r\nL 45.3125 54.6875 \r\nL 54.296875 54.6875 \r\nL 54.296875 0 \r\nL 45.3125 0 \r\nL 45.3125 8.40625 \r\nQ 42.046875 3.421875 37.71875 1 \r\nQ 33.40625 -1.421875 27.6875 -1.421875 \r\nQ 18.265625 -1.421875 13.375 4.4375 \r\nQ 8.5 10.296875 8.5 21.578125 \r\nz\r\nM 31.109375 56 \r\nz\r\n\" id=\"DejaVuSans-117\"/>\r\n       <path d=\"M 48.78125 52.59375 \r\nL 48.78125 44.1875 \r\nQ 44.96875 46.296875 41.140625 47.34375 \r\nQ 37.3125 48.390625 33.40625 48.390625 \r\nQ 24.65625 48.390625 19.8125 42.84375 \r\nQ 14.984375 37.3125 14.984375 27.296875 \r\nQ 14.984375 17.28125 19.8125 11.734375 \r\nQ 24.65625 6.203125 33.40625 6.203125 \r\nQ 37.3125 6.203125 41.140625 7.25 \r\nQ 44.96875 8.296875 48.78125 10.40625 \r\nL 48.78125 2.09375 \r\nQ 45.015625 0.34375 40.984375 -0.53125 \r\nQ 36.96875 -1.421875 32.421875 -1.421875 \r\nQ 20.0625 -1.421875 12.78125 6.34375 \r\nQ 5.515625 14.109375 5.515625 27.296875 \r\nQ 5.515625 40.671875 12.859375 48.328125 \r\nQ 20.21875 56 33.015625 56 \r\nQ 37.15625 56 41.109375 55.140625 \r\nQ 45.0625 54.296875 48.78125 52.59375 \r\nz\r\n\" id=\"DejaVuSans-99\"/>\r\n       <path d=\"M 32.171875 -5.078125 \r\nQ 28.375 -14.84375 24.75 -17.8125 \r\nQ 21.140625 -20.796875 15.09375 -20.796875 \r\nL 7.90625 -20.796875 \r\nL 7.90625 -13.28125 \r\nL 13.1875 -13.28125 \r\nQ 16.890625 -13.28125 18.9375 -11.515625 \r\nQ 21 -9.765625 23.484375 -3.21875 \r\nL 25.09375 0.875 \r\nL 2.984375 54.6875 \r\nL 12.5 54.6875 \r\nL 29.59375 11.921875 \r\nL 46.6875 54.6875 \r\nL 56.203125 54.6875 \r\nz\r\n\" id=\"DejaVuSans-121\"/>\r\n       <path d=\"M 31 75.875 \r\nQ 24.46875 64.65625 21.28125 53.65625 \r\nQ 18.109375 42.671875 18.109375 31.390625 \r\nQ 18.109375 20.125 21.3125 9.0625 \r\nQ 24.515625 -2 31 -13.1875 \r\nL 23.1875 -13.1875 \r\nQ 15.875 -1.703125 12.234375 9.375 \r\nQ 8.59375 20.453125 8.59375 31.390625 \r\nQ 8.59375 42.28125 12.203125 53.3125 \r\nQ 15.828125 64.359375 23.1875 75.875 \r\nz\r\n\" id=\"DejaVuSans-40\"/>\r\n       <path d=\"M 8.015625 75.875 \r\nL 15.828125 75.875 \r\nQ 23.140625 64.359375 26.78125 53.3125 \r\nQ 30.421875 42.28125 30.421875 31.390625 \r\nQ 30.421875 20.453125 26.78125 9.375 \r\nQ 23.140625 -1.703125 15.828125 -13.1875 \r\nL 8.015625 -13.1875 \r\nQ 14.5 -2 17.703125 9.0625 \r\nQ 20.90625 20.125 20.90625 31.390625 \r\nQ 20.90625 42.671875 17.703125 53.65625 \r\nQ 14.5 64.65625 8.015625 75.875 \r\nz\r\n\" id=\"DejaVuSans-41\"/>\r\n      </defs>\r\n      <use xlink:href=\"#DejaVuSans-102\"/>\r\n      <use x=\"35.205078\" xlink:href=\"#DejaVuSans-114\"/>\r\n      <use x=\"74.068359\" xlink:href=\"#DejaVuSans-101\"/>\r\n      <use x=\"135.591797\" xlink:href=\"#DejaVuSans-113\"/>\r\n      <use x=\"199.068359\" xlink:href=\"#DejaVuSans-117\"/>\r\n      <use x=\"262.447266\" xlink:href=\"#DejaVuSans-101\"/>\r\n      <use x=\"323.970703\" xlink:href=\"#DejaVuSans-110\"/>\r\n      <use x=\"387.349609\" xlink:href=\"#DejaVuSans-99\"/>\r\n      <use x=\"442.330078\" xlink:href=\"#DejaVuSans-121\"/>\r\n      <use x=\"494.259766\" xlink:href=\"#DejaVuSans-58\"/>\r\n      <use x=\"527.951172\" xlink:href=\"#DejaVuSans-32\"/>\r\n      <use x=\"559.738281\" xlink:href=\"#DejaVuSans-110\"/>\r\n      <use x=\"623.117188\" xlink:href=\"#DejaVuSans-40\"/>\r\n      <use x=\"662.130859\" xlink:href=\"#DejaVuSans-120\"/>\r\n      <use x=\"721.310547\" xlink:href=\"#DejaVuSans-41\"/>\r\n     </g>\r\n    </g>\r\n   </g>\r\n   <g id=\"line2d_88\">\r\n    <path clip-path=\"url(#pee04891658)\" d=\"M -1 22.628465 \r\nL 54.355398 22.641392 \r\nL 66.297697 22.921582 \r\nL 73.283494 24.121839 \r\nL 78.239996 29.67948 \r\nL 82.084558 32.246865 \r\nL 85.225793 35.931745 \r\nL 87.88167 36.253723 \r\nL 90.182295 39.450499 \r\nL 94.026857 39.668628 \r\nL 95.668965 43.037948 \r\nL 97.168092 46.732081 \r\nL 98.547156 47.370841 \r\nL 101.012654 50.574172 \r\nL 102.124594 50.940227 \r\nL 103.169102 51.854528 \r\nL 104.15389 52.171289 \r\nL 105.085419 55.941884 \r\nL 105.969156 56.561158 \r\nL 106.809766 58.223127 \r\nL 107.611264 58.223127 \r\nL 108.377128 58.577295 \r\nL 109.110391 59.185578 \r\nL 109.813718 59.435519 \r\nL 110.489455 59.947432 \r\nL 111.139687 60.078011 \r\nL 112.37086 60.078011 \r\nL 113.519892 60.611258 \r\nL 114.066893 61.162896 \r\nL 114.597061 61.162896 \r\nL 115.111401 61.30383 \r\nL 115.61083 61.30383 \r\nL 116.096189 61.446017 \r\nL 116.568248 62.326748 \r\nL 117.027718 62.47837 \r\nL 117.475252 62.785993 \r\nL 117.911455 64.248567 \r\nL 118.752065 64.592578 \r\nL 119.157475 64.592578 \r\nL 119.553563 64.767399 \r\nL 119.94075 65.122878 \r\nL 121.407942 65.858452 \r\nL 122.097198 65.858452 \r\nL 122.431754 66.047755 \r\nL 122.759937 66.047755 \r\nL 123.081986 66.433217 \r\nL 123.708567 67.439582 \r\nL 124.013515 67.860551 \r\nL 124.313159 68.075265 \r\nL 124.897252 68.075265 \r\nL 126.009193 68.964155 \r\nL 126.53936 68.964155 \r\nL 126.798449 69.194316 \r\nL 127.553129 71.165535 \r\nL 128.038488 71.698782 \r\nL 128.276134 71.698782 \r\nL 128.510547 72.25042 \r\nL 128.970017 72.25042 \r\nL 129.417551 73.115275 \r\nL 129.637033 73.115275 \r\nL 130.898262 74.669498 \r\nL 131.690544 74.669498 \r\nL 131.883049 74.999322 \r\nL 132.073428 74.999322 \r\nL 132.261726 75.336091 \r\nL 132.447988 75.336091 \r\nL 132.632259 75.680102 \r\nL 133.173531 75.680102 \r\nL 133.350241 76.031675 \r\nL 133.525158 76.031675 \r\nL 133.869751 76.758887 \r\nL 134.207587 76.758887 \r\nL 134.374053 77.135279 \r\nL 134.538926 77.135279 \r\nL 134.864013 77.915722 \r\nL 135.340424 77.915722 \r\nL 135.650867 78.736206 \r\nL 135.804015 78.736206 \r\nL 135.955814 79.162789 \r\nL 136.54998 79.162789 \r\nL 136.695374 79.60106 \r\nL 137.40449 79.60106 \r\nL 137.542877 80.051679 \r\nL 138.085571 80.051679 \r\nL 138.218615 80.515361 \r\nL 138.868847 80.515361 \r\nL 138.995999 80.992887 \r\nL 139.247523 80.992887 \r\nL 139.371922 81.485108 \r\nL 139.860723 81.485108 \r\nL 139.980787 81.992957 \r\nL 140.218433 81.992957 \r\nL 140.336039 82.517461 \r\nL 140.568868 82.517461 \r\nL 140.684113 83.059747 \r\nL 140.798592 83.059747 \r\nL 141.025294 83.621065 \r\nL 141.469941 83.621065 \r\nL 141.688034 84.202798 \r\nL 142.010082 84.202798 \r\nL 142.221485 84.80649 \r\nL 142.738914 84.80649 \r\nL 142.941611 85.433861 \r\nL 143.141952 85.433861 \r\nL 143.33999 86.086846 \r\nL 143.632843 86.086846 \r\nL 143.825349 86.767626 \r\nL 144.204025 86.767626 \r\nL 144.390288 87.478673 \r\nL 145.204412 87.478673 \r\nL 145.380221 88.222803 \r\nL 145.981796 88.222803 \r\nL 146.149886 89.003246 \r\nL 147.046164 89.003246 \r\nL 147.204231 89.823729 \r\nL 147.898113 89.823729 \r\nL 148.048587 90.688584 \r\nL 148.271861 90.688584 \r\nL 148.419119 91.602885 \r\nL 148.924831 91.602885 \r\nL 149.066635 92.572632 \r\nL 150.160914 92.572632 \r\nL 150.292938 93.604984 \r\nL 150.938298 93.604984 \r\nL 151.064519 94.708589 \r\nL 151.803022 94.708589 \r\nL 151.923086 95.894013 \r\nL 153.246839 95.894013 \r\nL 153.41224 97.17437 \r\nL 154.163784 97.17437 \r\nL 154.320651 98.566197 \r\nL 155.767648 98.566197 \r\nL 155.910629 100.09077 \r\nL 157.496553 100.09077 \r\nL 157.625933 101.776108 \r\nL 159.107149 101.776108 \r\nL 159.225022 103.660156 \r\nL 161.427476 103.660156 \r\nL 161.56476 105.796112 \r\nL 164.103032 105.796112 \r\nL 164.220637 108.261894 \r\nL 166.674411 108.261894 \r\nL 166.801003 111.178294 \r\nL 170.013563 111.178294 \r\nL 170.138714 114.747679 \r\nL 174.078613 114.747679 \r\nL 174.193969 119.349418 \r\nL 179.386992 119.349418 \r\nL 179.508069 125.835203 \r\nL 186.804739 125.835203 \r\nL 186.922828 136.922727 \r\nL 199.579747 136.922727 \r\nL 199.579747 136.922727 \r\n\" style=\"fill:none;stroke:#1f77b4;stroke-linecap:square;stroke-width:1.5;\"/>\r\n   </g>\r\n   <g id=\"line2d_89\">\r\n    <path clip-path=\"url(#pee04891658)\" d=\"M -1 54.851831 \r\nL 54.355398 54.8653 \r\nL 73.283494 61.446017 \r\nL 78.239996 61.880322 \r\nL 82.084558 62.942052 \r\nL 85.225793 63.419577 \r\nL 87.88167 65.858452 \r\nL 90.182295 67.23318 \r\nL 92.21159 68.2929 \r\nL 94.026857 69.427838 \r\nL 95.668965 69.664818 \r\nL 97.168092 70.905433 \r\nL 98.547156 71.165535 \r\nL 99.823969 71.165535 \r\nL 101.012654 71.429937 \r\nL 102.124594 74.029576 \r\nL 103.169102 74.029576 \r\nL 104.15389 74.669498 \r\nL 105.085419 74.669498 \r\nL 105.969156 75.336091 \r\nL 106.809766 75.336091 \r\nL 108.377128 76.031675 \r\nL 109.813718 76.031675 \r\nL 110.489455 76.391149 \r\nL 111.139687 76.391149 \r\nL 111.766268 77.520741 \r\nL 112.37086 77.915722 \r\nL 112.954953 77.915722 \r\nL 113.519892 78.320704 \r\nL 115.111401 78.320704 \r\nL 115.61083 79.162789 \r\nL 116.096189 79.60106 \r\nL 117.027718 79.60106 \r\nL 117.475252 80.515361 \r\nL 118.336886 80.515361 \r\nL 118.752065 81.485108 \r\nL 119.157475 81.485108 \r\nL 119.94075 82.517461 \r\nL 121.052691 82.517461 \r\nL 121.756017 83.621065 \r\nL 122.431754 83.621065 \r\nL 122.759937 84.202798 \r\nL 123.708567 84.202798 \r\nL 124.013515 84.80649 \r\nL 124.607681 84.80649 \r\nL 124.897252 85.433861 \r\nL 125.462191 85.433861 \r\nL 125.737863 86.086846 \r\nL 126.53936 86.086846 \r\nL 126.798449 86.767626 \r\nL 127.553129 86.767626 \r\nL 127.797518 87.478673 \r\nL 129.637033 87.478673 \r\nL 129.853754 88.222803 \r\nL 130.898262 88.222803 \r\nL 131.099774 89.003246 \r\nL 131.495862 89.003246 \r\nL 131.690544 89.823729 \r\nL 133.173531 89.823729 \r\nL 133.350241 90.688584 \r\nL 134.538926 90.688584 \r\nL 134.702236 91.602885 \r\nL 135.18308 91.602885 \r\nL 135.340424 92.572632 \r\nL 137.542877 92.572632 \r\nL 137.680162 93.604984 \r\nL 139.980787 93.604984 \r\nL 140.10002 94.708589 \r\nL 141.796053 94.708589 \r\nL 142.010082 95.894013 \r\nL 143.535777 95.894013 \r\nL 143.729364 97.17437 \r\nL 145.292541 97.17437 \r\nL 145.467457 98.566197 \r\nL 147.438644 98.566197 \r\nL 147.593166 100.09077 \r\nL 150.489097 100.09077 \r\nL 150.61864 101.776108 \r\nL 152.854615 101.776108 \r\nL 152.967594 103.660156 \r\nL 156.099442 103.660156 \r\nL 156.239707 105.796112 \r\nL 159.458377 105.796112 \r\nL 159.57388 108.261894 \r\nL 163.225504 108.261894 \r\nL 163.349233 111.178294 \r\nL 167.82918 111.178294 \r\nL 167.947593 114.747679 \r\nL 174.128146 114.747679 \r\nL 174.243171 119.349418 \r\nL 182.205262 119.349418 \r\nL 182.318375 125.835203 \r\nL 195.477351 125.835203 \r\nL 195.591578 136.922727 \r\nL 225.183092 136.922727 \r\nL 225.183092 136.922727 \r\n\" style=\"fill:none;stroke:#bf00bf;stroke-dasharray:5.55,2.4;stroke-dashoffset:0;stroke-width:1.5;\"/>\r\n   </g>\r\n   <g id=\"line2d_90\">\r\n    <path clip-path=\"url(#pee04891658)\" d=\"M -1 82.502365 \r\nL 54.355398 82.517461 \r\nL 66.297697 86.086846 \r\nL 73.283494 92.572632 \r\nL 78.239996 93.604984 \r\nL 82.084558 93.604984 \r\nL 85.225793 94.708589 \r\nL 87.88167 94.708589 \r\nL 90.182295 95.894013 \r\nL 92.21159 95.894013 \r\nL 94.026857 97.17437 \r\nL 98.547156 97.17437 \r\nL 99.823969 98.566197 \r\nL 105.969156 98.566197 \r\nL 106.809766 100.09077 \r\nL 109.813718 100.09077 \r\nL 110.489455 101.776108 \r\nL 114.066893 101.776108 \r\nL 114.597061 103.660156 \r\nL 121.052691 103.660156 \r\nL 121.407942 105.796112 \r\nL 126.276316 105.796112 \r\nL 126.53936 108.261894 \r\nL 132.632259 108.261894 \r\nL 132.814579 111.178294 \r\nL 140.568868 111.178294 \r\nL 140.684113 114.747679 \r\nL 148.271861 114.747679 \r\nL 148.419119 119.349418 \r\nL 160.652212 119.349418 \r\nL 160.795788 125.835203 \r\nL 181.787567 125.835203 \r\nL 181.903446 136.922727 \r\nL 231.900852 136.922727 \r\nL 231.900852 136.922727 \r\n\" style=\"fill:none;stroke:#008000;stroke-dasharray:9.6,2.4,1.5,2.4;stroke-dashoffset:0;stroke-width:1.5;\"/>\r\n   </g>\r\n   <g id=\"patch_3\">\r\n    <path d=\"M 45.478125 143.1 \r\nL 45.478125 7.2 \r\n\" style=\"fill:none;stroke:#000000;stroke-linecap:square;stroke-linejoin:miter;stroke-width:0.8;\"/>\r\n   </g>\r\n   <g id=\"patch_4\">\r\n    <path d=\"M 240.778125 143.1 \r\nL 240.778125 7.2 \r\n\" style=\"fill:none;stroke:#000000;stroke-linecap:square;stroke-linejoin:miter;stroke-width:0.8;\"/>\r\n   </g>\r\n   <g id=\"patch_5\">\r\n    <path d=\"M 45.478125 143.1 \r\nL 240.778125 143.1 \r\n\" style=\"fill:none;stroke:#000000;stroke-linecap:square;stroke-linejoin:miter;stroke-width:0.8;\"/>\r\n   </g>\r\n   <g id=\"patch_6\">\r\n    <path d=\"M 45.478125 7.2 \r\nL 240.778125 7.2 \r\n\" style=\"fill:none;stroke:#000000;stroke-linecap:square;stroke-linejoin:miter;stroke-width:0.8;\"/>\r\n   </g>\r\n   <g id=\"legend_1\">\r\n    <g id=\"patch_7\">\r\n     <path d=\"M 159.996875 59.234375 \r\nL 233.778125 59.234375 \r\nQ 235.778125 59.234375 235.778125 57.234375 \r\nL 235.778125 14.2 \r\nQ 235.778125 12.2 233.778125 12.2 \r\nL 159.996875 12.2 \r\nQ 157.996875 12.2 157.996875 14.2 \r\nL 157.996875 57.234375 \r\nQ 157.996875 59.234375 159.996875 59.234375 \r\nz\r\n\" style=\"fill:#ffffff;opacity:0.8;stroke:#cccccc;stroke-linejoin:miter;\"/>\r\n    </g>\r\n    <g id=\"line2d_91\">\r\n     <path d=\"M 161.996875 20.298438 \r\nL 181.996875 20.298438 \r\n\" style=\"fill:none;stroke:#1f77b4;stroke-linecap:square;stroke-width:1.5;\"/>\r\n    </g>\r\n    <g id=\"line2d_92\"/>\r\n    <g id=\"text_12\">\r\n     <!-- unigram -->\r\n     <g transform=\"translate(189.996875 23.798438)scale(0.1 -0.1)\">\r\n      <defs>\r\n       <path d=\"M 9.421875 54.6875 \r\nL 18.40625 54.6875 \r\nL 18.40625 0 \r\nL 9.421875 0 \r\nz\r\nM 9.421875 75.984375 \r\nL 18.40625 75.984375 \r\nL 18.40625 64.59375 \r\nL 9.421875 64.59375 \r\nz\r\n\" id=\"DejaVuSans-105\"/>\r\n       <path d=\"M 45.40625 27.984375 \r\nQ 45.40625 37.75 41.375 43.109375 \r\nQ 37.359375 48.484375 30.078125 48.484375 \r\nQ 22.859375 48.484375 18.828125 43.109375 \r\nQ 14.796875 37.75 14.796875 27.984375 \r\nQ 14.796875 18.265625 18.828125 12.890625 \r\nQ 22.859375 7.515625 30.078125 7.515625 \r\nQ 37.359375 7.515625 41.375 12.890625 \r\nQ 45.40625 18.265625 45.40625 27.984375 \r\nz\r\nM 54.390625 6.78125 \r\nQ 54.390625 -7.171875 48.1875 -13.984375 \r\nQ 42 -20.796875 29.203125 -20.796875 \r\nQ 24.46875 -20.796875 20.265625 -20.09375 \r\nQ 16.0625 -19.390625 12.109375 -17.921875 \r\nL 12.109375 -9.1875 \r\nQ 16.0625 -11.328125 19.921875 -12.34375 \r\nQ 23.78125 -13.375 27.78125 -13.375 \r\nQ 36.625 -13.375 41.015625 -8.765625 \r\nQ 45.40625 -4.15625 45.40625 5.171875 \r\nL 45.40625 9.625 \r\nQ 42.625 4.78125 38.28125 2.390625 \r\nQ 33.9375 0 27.875 0 \r\nQ 17.828125 0 11.671875 7.65625 \r\nQ 5.515625 15.328125 5.515625 27.984375 \r\nQ 5.515625 40.671875 11.671875 48.328125 \r\nQ 17.828125 56 27.875 56 \r\nQ 33.9375 56 38.28125 53.609375 \r\nQ 42.625 51.21875 45.40625 46.390625 \r\nL 45.40625 54.6875 \r\nL 54.390625 54.6875 \r\nz\r\n\" id=\"DejaVuSans-103\"/>\r\n       <path d=\"M 34.28125 27.484375 \r\nQ 23.390625 27.484375 19.1875 25 \r\nQ 14.984375 22.515625 14.984375 16.5 \r\nQ 14.984375 11.71875 18.140625 8.90625 \r\nQ 21.296875 6.109375 26.703125 6.109375 \r\nQ 34.1875 6.109375 38.703125 11.40625 \r\nQ 43.21875 16.703125 43.21875 25.484375 \r\nL 43.21875 27.484375 \r\nz\r\nM 52.203125 31.203125 \r\nL 52.203125 0 \r\nL 43.21875 0 \r\nL 43.21875 8.296875 \r\nQ 40.140625 3.328125 35.546875 0.953125 \r\nQ 30.953125 -1.421875 24.3125 -1.421875 \r\nQ 15.921875 -1.421875 10.953125 3.296875 \r\nQ 6 8.015625 6 15.921875 \r\nQ 6 25.140625 12.171875 29.828125 \r\nQ 18.359375 34.515625 30.609375 34.515625 \r\nL 43.21875 34.515625 \r\nL 43.21875 35.40625 \r\nQ 43.21875 41.609375 39.140625 45 \r\nQ 35.0625 48.390625 27.6875 48.390625 \r\nQ 23 48.390625 18.546875 47.265625 \r\nQ 14.109375 46.140625 10.015625 43.890625 \r\nL 10.015625 52.203125 \r\nQ 14.9375 54.109375 19.578125 55.046875 \r\nQ 24.21875 56 28.609375 56 \r\nQ 40.484375 56 46.34375 49.84375 \r\nQ 52.203125 43.703125 52.203125 31.203125 \r\nz\r\n\" id=\"DejaVuSans-97\"/>\r\n       <path d=\"M 52 44.1875 \r\nQ 55.375 50.25 60.0625 53.125 \r\nQ 64.75 56 71.09375 56 \r\nQ 79.640625 56 84.28125 50.015625 \r\nQ 88.921875 44.046875 88.921875 33.015625 \r\nL 88.921875 0 \r\nL 79.890625 0 \r\nL 79.890625 32.71875 \r\nQ 79.890625 40.578125 77.09375 44.375 \r\nQ 74.3125 48.1875 68.609375 48.1875 \r\nQ 61.625 48.1875 57.5625 43.546875 \r\nQ 53.515625 38.921875 53.515625 30.90625 \r\nL 53.515625 0 \r\nL 44.484375 0 \r\nL 44.484375 32.71875 \r\nQ 44.484375 40.625 41.703125 44.40625 \r\nQ 38.921875 48.1875 33.109375 48.1875 \r\nQ 26.21875 48.1875 22.15625 43.53125 \r\nQ 18.109375 38.875 18.109375 30.90625 \r\nL 18.109375 0 \r\nL 9.078125 0 \r\nL 9.078125 54.6875 \r\nL 18.109375 54.6875 \r\nL 18.109375 46.1875 \r\nQ 21.1875 51.21875 25.484375 53.609375 \r\nQ 29.78125 56 35.6875 56 \r\nQ 41.65625 56 45.828125 52.96875 \r\nQ 50 49.953125 52 44.1875 \r\nz\r\n\" id=\"DejaVuSans-109\"/>\r\n      </defs>\r\n      <use xlink:href=\"#DejaVuSans-117\"/>\r\n      <use x=\"63.378906\" xlink:href=\"#DejaVuSans-110\"/>\r\n      <use x=\"126.757812\" xlink:href=\"#DejaVuSans-105\"/>\r\n      <use x=\"154.541016\" xlink:href=\"#DejaVuSans-103\"/>\r\n      <use x=\"218.017578\" xlink:href=\"#DejaVuSans-114\"/>\r\n      <use x=\"259.130859\" xlink:href=\"#DejaVuSans-97\"/>\r\n      <use x=\"320.410156\" xlink:href=\"#DejaVuSans-109\"/>\r\n     </g>\r\n    </g>\r\n    <g id=\"line2d_93\">\r\n     <path d=\"M 161.996875 34.976562 \r\nL 181.996875 34.976562 \r\n\" style=\"fill:none;stroke:#bf00bf;stroke-dasharray:5.55,2.4;stroke-dashoffset:0;stroke-width:1.5;\"/>\r\n    </g>\r\n    <g id=\"line2d_94\"/>\r\n    <g id=\"text_13\">\r\n     <!-- bigram -->\r\n     <g transform=\"translate(189.996875 38.476562)scale(0.1 -0.1)\">\r\n      <defs>\r\n       <path d=\"M 48.6875 27.296875 \r\nQ 48.6875 37.203125 44.609375 42.84375 \r\nQ 40.53125 48.484375 33.40625 48.484375 \r\nQ 26.265625 48.484375 22.1875 42.84375 \r\nQ 18.109375 37.203125 18.109375 27.296875 \r\nQ 18.109375 17.390625 22.1875 11.75 \r\nQ 26.265625 6.109375 33.40625 6.109375 \r\nQ 40.53125 6.109375 44.609375 11.75 \r\nQ 48.6875 17.390625 48.6875 27.296875 \r\nz\r\nM 18.109375 46.390625 \r\nQ 20.953125 51.265625 25.265625 53.625 \r\nQ 29.59375 56 35.59375 56 \r\nQ 45.5625 56 51.78125 48.09375 \r\nQ 58.015625 40.1875 58.015625 27.296875 \r\nQ 58.015625 14.40625 51.78125 6.484375 \r\nQ 45.5625 -1.421875 35.59375 -1.421875 \r\nQ 29.59375 -1.421875 25.265625 0.953125 \r\nQ 20.953125 3.328125 18.109375 8.203125 \r\nL 18.109375 0 \r\nL 9.078125 0 \r\nL 9.078125 75.984375 \r\nL 18.109375 75.984375 \r\nz\r\n\" id=\"DejaVuSans-98\"/>\r\n      </defs>\r\n      <use xlink:href=\"#DejaVuSans-98\"/>\r\n      <use x=\"63.476562\" xlink:href=\"#DejaVuSans-105\"/>\r\n      <use x=\"91.259766\" xlink:href=\"#DejaVuSans-103\"/>\r\n      <use x=\"154.736328\" xlink:href=\"#DejaVuSans-114\"/>\r\n      <use x=\"195.849609\" xlink:href=\"#DejaVuSans-97\"/>\r\n      <use x=\"257.128906\" xlink:href=\"#DejaVuSans-109\"/>\r\n     </g>\r\n    </g>\r\n    <g id=\"line2d_95\">\r\n     <path d=\"M 161.996875 49.654688 \r\nL 181.996875 49.654688 \r\n\" style=\"fill:none;stroke:#008000;stroke-dasharray:9.6,2.4,1.5,2.4;stroke-dashoffset:0;stroke-width:1.5;\"/>\r\n    </g>\r\n    <g id=\"line2d_96\"/>\r\n    <g id=\"text_14\">\r\n     <!-- trigram -->\r\n     <g transform=\"translate(189.996875 53.154688)scale(0.1 -0.1)\">\r\n      <use xlink:href=\"#DejaVuSans-116\"/>\r\n      <use x=\"39.208984\" xlink:href=\"#DejaVuSans-114\"/>\r\n      <use x=\"80.322266\" xlink:href=\"#DejaVuSans-105\"/>\r\n      <use x=\"108.105469\" xlink:href=\"#DejaVuSans-103\"/>\r\n      <use x=\"171.582031\" xlink:href=\"#DejaVuSans-114\"/>\r\n      <use x=\"212.695312\" xlink:href=\"#DejaVuSans-97\"/>\r\n      <use x=\"273.974609\" xlink:href=\"#DejaVuSans-109\"/>\r\n     </g>\r\n    </g>\r\n   </g>\r\n  </g>\r\n </g>\r\n <defs>\r\n  <clipPath id=\"pee04891658\">\r\n   <rect height=\"135.9\" width=\"195.3\" x=\"45.478125\" y=\"7.2\"/>\r\n  </clipPath>\r\n </defs>\r\n</svg>\r\n"
     },
     "metadata": {
      "needs_background": "light"
     },
     "output_type": "display_data"
    }
   ],
   "source": [
    "bigram_freqs = [freq for token, freq in bigram_vocab.token_freqs]\n",
    "trigram_freqs = [freq for token, freq in trigram_vocab.token_freqs]\n",
    "d2l.plot([freqs, bigram_freqs, trigram_freqs], xlabel='token: x',\n",
    "         ylabel='frequency: n(x)', xscale='log', yscale='log',\n",
    "         legend=['unigram', 'bigram', 'trigram'])"
   ],
   "metadata": {
    "collapsed": false,
    "ExecuteTime": {
     "end_time": "2024-11-14T17:51:21.203970Z",
     "start_time": "2024-11-14T17:51:20.827690Z"
    }
   },
   "id": "254e97a5038abe0b",
   "execution_count": 57
  },
  {
   "cell_type": "markdown",
   "source": [
    "equation:\n",
    "$log n_i=-\\alpha log i+c_i$"
   ],
   "metadata": {
    "collapsed": false
   },
   "id": "ed542348a2b9a950"
  },
  {
   "cell_type": "code",
   "outputs": [],
   "source": [
    "import random\n",
    "import torch\n",
    "def seq_data_iter_random(corpus, batch_size, num_steps):  #@save\n",
    "    \"\"\"使用随机抽样生成一个小批量子序列\"\"\"\n",
    "    # 从随机偏移量开始对序列进行分区，随机范围包括num_steps-1\n",
    "    corpus = corpus[random.randint(0, num_steps - 1):]\n",
    "    # 减去1，是因为我们需要考虑标签\n",
    "    num_subseqs = (len(corpus) - 1) // num_steps\n",
    "    # 长度为num_steps的子序列的起始索引\n",
    "    initial_indices = list(range(0, num_subseqs * num_steps, num_steps))\n",
    "    # 在随机抽样的迭代过程中，\n",
    "    # 来自两个相邻的、随机的、小批量中的子序列不一定在原始序列上相邻\n",
    "    random.shuffle(initial_indices)\n",
    "\n",
    "    def data(pos):\n",
    "        # 返回从pos位置开始的长度为num_steps的序列\n",
    "        return corpus[pos: pos + num_steps]\n",
    "\n",
    "    num_batches = num_subseqs // batch_size\n",
    "    for i in range(0, batch_size * num_batches, batch_size):\n",
    "        # 在这里，initial_indices包含子序列的随机起始索引\n",
    "        initial_indices_per_batch = initial_indices[i: i + batch_size]\n",
    "        X = [data(j) for j in initial_indices_per_batch]\n",
    "        Y = [data(j + 1) for j in initial_indices_per_batch]\n",
    "        yield torch.tensor(X), torch.tensor(Y)"
   ],
   "metadata": {
    "collapsed": false,
    "ExecuteTime": {
     "end_time": "2024-11-14T17:58:40.786615Z",
     "start_time": "2024-11-14T17:58:40.780528Z"
    }
   },
   "id": "d9295e13e209c9b1",
   "execution_count": 62
  },
  {
   "cell_type": "code",
   "outputs": [
    {
     "name": "stdout",
     "output_type": "stream",
     "text": [
      "X:  tensor([[26, 27, 28, 29, 30],\n",
      "        [ 6,  7,  8,  9, 10]]) \n",
      "Y: tensor([[27, 28, 29, 30, 31],\n",
      "        [ 7,  8,  9, 10, 11]])\n",
      "X:  tensor([[11, 12, 13, 14, 15],\n",
      "        [ 1,  2,  3,  4,  5]]) \n",
      "Y: tensor([[12, 13, 14, 15, 16],\n",
      "        [ 2,  3,  4,  5,  6]])\n",
      "X:  tensor([[21, 22, 23, 24, 25],\n",
      "        [16, 17, 18, 19, 20]]) \n",
      "Y: tensor([[22, 23, 24, 25, 26],\n",
      "        [17, 18, 19, 20, 21]])\n"
     ]
    }
   ],
   "source": [
    "my_seq = list(range(35))\n",
    "for X, Y in seq_data_iter_random(my_seq, batch_size=2, num_steps=5):\n",
    "    print('X: ', X, '\\nY:', Y)"
   ],
   "metadata": {
    "collapsed": false,
    "ExecuteTime": {
     "end_time": "2024-11-14T17:58:41.406411Z",
     "start_time": "2024-11-14T17:58:41.354996Z"
    }
   },
   "id": "1977a05aaea5441d",
   "execution_count": 63
  },
  {
   "cell_type": "code",
   "outputs": [],
   "source": [],
   "metadata": {
    "collapsed": false
   },
   "id": "1d02d02b478983ee"
  }
 ],
 "metadata": {
  "kernelspec": {
   "display_name": "Python 3",
   "language": "python",
   "name": "python3"
  },
  "language_info": {
   "codemirror_mode": {
    "name": "ipython",
    "version": 2
   },
   "file_extension": ".py",
   "mimetype": "text/x-python",
   "name": "python",
   "nbconvert_exporter": "python",
   "pygments_lexer": "ipython2",
   "version": "2.7.6"
  }
 },
 "nbformat": 4,
 "nbformat_minor": 5
}
