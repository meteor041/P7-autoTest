{
 "cells": [
  {
   "cell_type": "code",
   "id": "initial_id",
   "metadata": {
    "collapsed": true,
    "ExecuteTime": {
     "end_time": "2024-12-02T04:50:06.375162Z",
     "start_time": "2024-12-02T04:50:05.543431Z"
    }
   },
   "source": [
    "from handcalcs import render\n",
    "from handcalcs.decorator import handcalc\n",
    "import math\n",
    "from scipy.integrate import quad\n",
    "import numpy as np"
   ],
   "outputs": [],
   "execution_count": 4
  },
  {
   "cell_type": "code",
   "source": [
    "@handcalc()\n",
    "def basic_calculation(a, b):\n",
    "    c = a + b\n",
    "    d = a * b\n",
    "    return c, d\n",
    "latex_code, result = basic_calculation(3, 5)\n",
    "latex_code"
   ],
   "metadata": {
    "collapsed": false,
    "ExecuteTime": {
     "end_time": "2024-12-02T04:50:07.382267Z",
     "start_time": "2024-12-02T04:50:07.311739Z"
    }
   },
   "id": "1b8c1d024a1bdc0f",
   "outputs": [
    {
     "data": {
      "text/plain": [
       "'\\n\\\\begin{aligned}\\nc &= a + b  = 3 + 5 &= 8  \\n\\\\\\\\[10pt]\\nd &= a \\\\cdot b  = 3 \\\\cdot 5 &= 15  \\n\\\\end{aligned}\\n'"
      ]
     },
     "execution_count": 5,
     "metadata": {},
     "output_type": "execute_result"
    }
   ],
   "execution_count": 5
  },
  {
   "cell_type": "code",
   "source": [
    "%%render\n",
    "x=0.9564-(1-0.8729)"
   ],
   "metadata": {
    "collapsed": false,
    "ExecuteTime": {
     "end_time": "2024-12-02T04:50:08.617005Z",
     "start_time": "2024-12-02T04:50:08.607995Z"
    }
   },
   "id": "19c3ab1dc9fd3467",
   "outputs": [
    {
     "data": {
      "text/plain": [
       "<IPython.core.display.Latex object>"
      ],
      "text/latex": "\\[\n\\begin{aligned}\nx &= 0.829 \\; \n\\end{aligned}\n\\]"
     },
     "metadata": {},
     "output_type": "display_data"
    }
   ],
   "execution_count": 6
  },
  {
   "cell_type": "code",
   "source": [
    "%%render\n",
    "x=11\n",
    "y=(x-12)/(math.sqrt(4/5))\n",
    "z=2*(1-0.8665)"
   ],
   "metadata": {
    "collapsed": false,
    "ExecuteTime": {
     "end_time": "2024-12-02T04:50:10.194480Z",
     "start_time": "2024-12-02T04:50:10.178966Z"
    }
   },
   "id": "1b30cd3d298f55b2",
   "outputs": [
    {
     "data": {
      "text/plain": [
       "<IPython.core.display.Latex object>"
      ],
      "text/latex": "\\[\n\\begin{aligned}\nx &= 11 \\; \n\\\\[10pt]\ny &= -1.118 \\; \n\\\\[10pt]\nz &= 0.267 \\; \n\\end{aligned}\n\\]"
     },
     "metadata": {},
     "output_type": "display_data"
    }
   ],
   "execution_count": 7
  },
  {
   "cell_type": "code",
   "outputs": [
    {
     "data": {
      "text/plain": "<IPython.core.display.Latex object>",
      "text/latex": "\\[\n\\begin{aligned}\nx &= 0.548 \\; \n\\\\[10pt]\ny &= 0.582 \\; \n\\end{aligned}\n\\]"
     },
     "metadata": {},
     "output_type": "display_data"
    }
   ],
   "source": [
    "%%render\n",
    "x=0.3/math.sqrt(0.3)\n",
    "y=2*(1-0.7088)"
   ],
   "metadata": {
    "collapsed": false,
    "ExecuteTime": {
     "end_time": "2024-11-24T07:20:19.554835Z",
     "start_time": "2024-11-24T07:20:19.541427Z"
    }
   },
   "id": "5c12687577a9024b",
   "execution_count": 5
  },
  {
   "cell_type": "code",
   "source": [
    "def f(x):\n",
    "    return x**2"
   ],
   "metadata": {
    "collapsed": false,
    "ExecuteTime": {
     "end_time": "2024-12-02T04:49:35.991795Z",
     "start_time": "2024-12-02T04:49:35.986132Z"
    }
   },
   "id": "61231f8fd8b32dd",
   "outputs": [],
   "execution_count": 1
  },
  {
   "cell_type": "code",
   "outputs": [
    {
     "data": {
      "text/plain": "<IPython.core.display.Latex object>",
      "text/latex": "\\[\n\\begin{aligned}\na &= 2 \\; \n\\\\[10pt]\nb &= 6 \\; \n\\\\[10pt]\nz &= \\int_{ a } ^ { b } \\left( x \\right) ^{ 2 } \\; dx  = \\int_{ 2 } ^ { 6 } \\left( x \\right) ^{ 2 } \\; dx &= [69.333,\\ 0.000]  \n\\end{aligned}\n\\]"
     },
     "metadata": {},
     "output_type": "display_data"
    }
   ],
   "source": [
    "%%render\n",
    "a=2\n",
    "b=6\n",
    "z = quad(f,a,b)"
   ],
   "metadata": {
    "collapsed": false,
    "ExecuteTime": {
     "end_time": "2024-11-17T08:01:36.009491Z",
     "start_time": "2024-11-17T08:01:35.949741Z"
    }
   },
   "id": "5bdb36bee6fe1f0a",
   "execution_count": 11
  },
  {
   "cell_type": "code",
   "source": [
    "%%tex\n",
    "a=1\n",
    "b=2"
   ],
   "metadata": {
    "collapsed": false,
    "ExecuteTime": {
     "end_time": "2024-12-02T04:49:57.307226Z",
     "start_time": "2024-12-02T04:49:57.298700Z"
    }
   },
   "id": "d3a54574a2c8c536",
   "outputs": [
    {
     "name": "stderr",
     "output_type": "stream",
     "text": [
      "UsageError: Cell magic `%%tex` not found.\n"
     ]
    }
   ],
   "execution_count": 2
  },
  {
   "cell_type": "code",
   "source": [
    "a = np.array([74.001,74.005,74.003,74.001,\n",
    "              74.000,73.998,74.006,74.002])\n",
    "a.mean(), a.var(), a.var(ddof=1), stats.sem(a,ddof=1)**2"
   ],
   "metadata": {
    "collapsed": false,
    "ExecuteTime": {
     "end_time": "2024-12-02T04:50:01.310831Z",
     "start_time": "2024-12-02T04:50:01.130367Z"
    }
   },
   "id": "ce7b6849c9148c16",
   "outputs": [
    {
     "ename": "NameError",
     "evalue": "name 'np' is not defined",
     "output_type": "error",
     "traceback": [
      "\u001B[1;31m---------------------------------------------------------------------------\u001B[0m",
      "\u001B[1;31mNameError\u001B[0m                                 Traceback (most recent call last)",
      "\u001B[1;32m<ipython-input-3-d2778e2ca23c>\u001B[0m in \u001B[0;36m<module>\u001B[1;34m\u001B[0m\n\u001B[1;32m----> 1\u001B[1;33m a = np.array([74.001,74.005,74.003,74.001,\n\u001B[0m\u001B[0;32m      2\u001B[0m               74.000,73.998,74.006,74.002])\n\u001B[0;32m      3\u001B[0m \u001B[0ma\u001B[0m\u001B[1;33m.\u001B[0m\u001B[0mmean\u001B[0m\u001B[1;33m(\u001B[0m\u001B[1;33m)\u001B[0m\u001B[1;33m,\u001B[0m \u001B[0ma\u001B[0m\u001B[1;33m.\u001B[0m\u001B[0mvar\u001B[0m\u001B[1;33m(\u001B[0m\u001B[1;33m)\u001B[0m\u001B[1;33m,\u001B[0m \u001B[0ma\u001B[0m\u001B[1;33m.\u001B[0m\u001B[0mvar\u001B[0m\u001B[1;33m(\u001B[0m\u001B[0mddof\u001B[0m\u001B[1;33m=\u001B[0m\u001B[1;36m1\u001B[0m\u001B[1;33m)\u001B[0m\u001B[1;33m,\u001B[0m \u001B[0mstats\u001B[0m\u001B[1;33m.\u001B[0m\u001B[0msem\u001B[0m\u001B[1;33m(\u001B[0m\u001B[0ma\u001B[0m\u001B[1;33m,\u001B[0m\u001B[0mddof\u001B[0m\u001B[1;33m=\u001B[0m\u001B[1;36m1\u001B[0m\u001B[1;33m)\u001B[0m\u001B[1;33m**\u001B[0m\u001B[1;36m2\u001B[0m\u001B[1;33m\u001B[0m\u001B[1;33m\u001B[0m\u001B[0m\n",
      "\u001B[1;31mNameError\u001B[0m: name 'np' is not defined"
     ]
    }
   ],
   "execution_count": 3
  },
  {
   "cell_type": "code",
   "outputs": [
    {
     "data": {
      "text/plain": "(6.0, (5.608, 6.392))"
     },
     "execution_count": 10,
     "metadata": {},
     "output_type": "execute_result"
    }
   ],
   "source": [
    "b=np.array([6.0, 5.7, 5.8, 6.5, 7.0, \n",
    "            6.3, 5.6, 6.1, 5.0])\n",
    "b.mean(), (b.mean()-1.96*0.6/3, b.mean()+1.96*0.6/3)"
   ],
   "metadata": {
    "collapsed": false,
    "ExecuteTime": {
     "end_time": "2024-11-24T07:28:38.807069Z",
     "start_time": "2024-11-24T07:28:38.796098Z"
    }
   },
   "id": "545af1bf556f064f",
   "execution_count": 10
  },
  {
   "cell_type": "code",
   "outputs": [
    {
     "data": {
      "text/plain": "(5.624695470195046, 6.375304529804954)"
     },
     "execution_count": 39,
     "metadata": {},
     "output_type": "execute_result"
    }
   ],
   "source": [
    "from scipy import stats\n",
    "ci = stats.norm.interval(0.95, loc=b.mean(), scale=stats.sem(b,ddof=1))\n",
    "ci"
   ],
   "metadata": {
    "collapsed": false,
    "ExecuteTime": {
     "end_time": "2024-11-24T07:46:21.308742Z",
     "start_time": "2024-11-24T07:46:21.293173Z"
    }
   },
   "id": "acd0411e0df4dc82",
   "execution_count": 39
  },
  {
   "cell_type": "code",
   "outputs": [
    {
     "data": {
      "text/plain": "0.5744562646538028"
     },
     "execution_count": 35,
     "metadata": {},
     "output_type": "execute_result"
    }
   ],
   "source": [
    "stats.sem(b,ddof=1)*math.sqrt(9)"
   ],
   "metadata": {
    "collapsed": false,
    "ExecuteTime": {
     "end_time": "2024-11-24T07:43:50.844724Z",
     "start_time": "2024-11-24T07:43:50.830246Z"
    }
   },
   "id": "552565200365027c",
   "execution_count": 35
  },
  {
   "cell_type": "code",
   "outputs": [
    {
     "data": {
      "text/plain": "0.5744562646538028"
     },
     "execution_count": 37,
     "metadata": {},
     "output_type": "execute_result"
    }
   ],
   "source": [
    "mu = b.mean()\n",
    "cal_res = 0\n",
    "for x in b:\n",
    "    cal_res += (x-mu)**2\n",
    "s=math.sqrt(cal_res / 8)\n",
    "s"
   ],
   "metadata": {
    "collapsed": false,
    "ExecuteTime": {
     "end_time": "2024-11-24T07:45:55.000855Z",
     "start_time": "2024-11-24T07:45:54.983775Z"
    }
   },
   "id": "261f358414409790",
   "execution_count": 37
  },
  {
   "cell_type": "code",
   "outputs": [
    {
     "data": {
      "text/plain": "(5.558434617902777, 6.441565382097223)"
     },
     "execution_count": 40,
     "metadata": {},
     "output_type": "execute_result"
    }
   ],
   "source": [
    "mu-2.306*s/math.sqrt(9),mu+2.306*s/math.sqrt(9)"
   ],
   "metadata": {
    "collapsed": false,
    "ExecuteTime": {
     "end_time": "2024-11-24T07:46:38.760219Z",
     "start_time": "2024-11-24T07:46:38.756033Z"
    }
   },
   "id": "1616b6edc268a1de",
   "execution_count": 40
  },
  {
   "cell_type": "code",
   "outputs": [
    {
     "ename": "SyntaxError",
     "evalue": "unexpected character after line continuation character (<ipython-input-41-557e7a39f5ad>, line 1)",
     "output_type": "error",
     "traceback": [
      "\u001B[1;36m  File \u001B[1;32m\"<ipython-input-41-557e7a39f5ad>\"\u001B[1;36m, line \u001B[1;32m1\u001B[0m\n\u001B[1;33m    \\Rightarrow\\left(\\frac{\\sqrt 8*11}{\\sqrt{2.306*8}},\\frac{\\sqrt 8*11}{\\sqrt{\\frac{1}{2.306}*8}}\\right)\u001B[0m\n\u001B[1;37m                                                                                                         ^\u001B[0m\n\u001B[1;31mSyntaxError\u001B[0m\u001B[1;31m:\u001B[0m unexpected character after line continuation character\n"
     ]
    }
   ],
   "source": [
    "%%render\n",
    "\\Rightarrow\\left(\\frac{\\sqrt 8*11}{\\sqrt{2.306*8}},\\frac{\\sqrt 8*11}{\\sqrt{\\frac{1}{2.306}*8}}\\right)"
   ],
   "metadata": {
    "collapsed": false,
    "ExecuteTime": {
     "end_time": "2024-11-24T07:53:14.891784Z",
     "start_time": "2024-11-24T07:53:14.884785Z"
    }
   },
   "id": "b5251dacb7117552",
   "execution_count": 41
  },
  {
   "metadata": {
    "ExecuteTime": {
     "end_time": "2024-12-02T04:51:52.135254Z",
     "start_time": "2024-12-02T04:51:52.128822Z"
    }
   },
   "cell_type": "code",
   "source": [
    "from numpy import *\n",
    "x=[3.25,3.27,3.24,3.26,3.24]"
   ],
   "id": "2b157ac4f0ef2ce5",
   "outputs": [],
   "execution_count": 15
  },
  {
   "cell_type": "code",
   "source": [
    "%%render\n",
    "mu=mean(x)\n",
    "s=std(x)"
   ],
   "metadata": {
    "collapsed": false,
    "ExecuteTime": {
     "end_time": "2024-12-02T04:53:57.148944Z",
     "start_time": "2024-12-02T04:53:57.137321Z"
    }
   },
   "id": "80b6dfb5449e2c48",
   "outputs": [
    {
     "data": {
      "text/plain": [
       "<IPython.core.display.Latex object>"
      ],
      "text/latex": "\\[\n\\begin{aligned}\n\\mu &= 3.252 \\; \n\\\\[10pt]\ns &= 0.012 \\; \n\\end{aligned}\n\\]"
     },
     "metadata": {},
     "output_type": "display_data"
    }
   ],
   "execution_count": 26
  },
  {
   "metadata": {},
   "cell_type": "code",
   "outputs": [],
   "execution_count": null,
   "source": "",
   "id": "b0fa00c192303bfa"
  }
 ],
 "metadata": {
  "kernelspec": {
   "display_name": "Python 3",
   "language": "python",
   "name": "python3"
  },
  "language_info": {
   "codemirror_mode": {
    "name": "ipython",
    "version": 2
   },
   "file_extension": ".py",
   "mimetype": "text/x-python",
   "name": "python",
   "nbconvert_exporter": "python",
   "pygments_lexer": "ipython2",
   "version": "2.7.6"
  }
 },
 "nbformat": 4,
 "nbformat_minor": 5
}
